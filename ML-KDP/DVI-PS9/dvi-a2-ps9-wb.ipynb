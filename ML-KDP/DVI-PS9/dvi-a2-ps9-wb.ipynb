{
 "cells": [
  {
   "cell_type": "markdown",
   "metadata": {
    "id": "J0BQyBwNnDRi"
   },
   "source": [
    "<img src = \"https://www.bits-pilani.ac.in/Uploads/Campus/BITS_university_logo.gif\">"
   ]
  },
  {
   "cell_type": "markdown",
   "metadata": {
    "id": "wOCvWHupnDSZ"
   },
   "source": [
    "<h1><center>Work Integrated Learning Programmes Division<br>\n",
    "M.Tech (Data Science and Engineering)<br> Data Visualization And Interpretation (DSECL ZG555))<br>\n",
    "Second Semester, 2021-22\n",
    "</center></h1>\n",
    "\n",
    "<h2><center>Assignment 2 – PS9 [Weightage 13%]</center></h2>"
   ]
  },
  {
   "cell_type": "markdown",
   "metadata": {
    "id": "sp26I5vbnDSm"
   },
   "source": [
    "<ol>\n",
    "  <li>Do not change the name of the data file that is shared with the problem statement.</li>\n",
    "  <li>If intermediate data files are created, retain in the present working directory and attach them during submission.</li>\n",
    "  <li>Retain the data file in the same directory as that of this workbook.</li>\n",
    "  <li>Retain the Visualizations that is produced in the file. Don't clear them away.</li>\n",
    "  <li>All the visuals should adhere to the visualization principles learnt in the Course and must be presentation ready. Most effective visuals would fetch maximum credits</li>\n",
    "  <li>Submissions done via means other than CANVAS will strictly be NOT graded.</li>\n",
    "</ol>"
   ]
  },
  {
   "cell_type": "markdown",
   "metadata": {
    "id": "GuvPynfInDS4"
   },
   "source": [
    "<style>\n",
    "table {\n",
    "  font-family: arial, sans-serif;\n",
    "  border-collapse: collapse;\n",
    "  width: 100%;\n",
    "}\n",
    "\n",
    "td, th {\n",
    "  border: 1px solid #dddddd;\n",
    "  text-align: left;\n",
    "  padding: 8px;\n",
    "}\n",
    "\n",
    "tr:nth-child(even) {\n",
    "  background-color: #dddddd;\n",
    "}\n",
    "</style>\n",
    "\n",
    "<h2>Group No: Group 186</h2>\n",
    "\n",
    "<table>\n",
    "  <tr>\n",
    "    <th>Full Name</th>\n",
    "    <th>BITS ID</th>\n",
    "    <th>Contribution</th>  \n",
    "  </tr>\n",
    "  <tr>\n",
    "    <td>Sindhu C</td>\n",
    "    <td>2021FC04993</td>\n",
    "    <td>100%</td>      \n",
    "  </tr>\n",
    "  <tr>\n",
    "    <td>Sivarajan N</td>\n",
    "    <td>2021FC04989</td>\n",
    "    <td>100%</td>      \n",
    "  </tr>\n",
    "  <tr>\n",
    "    <td>Manibalan S</td>\n",
    "    <td>2021fc04442</td>\n",
    "    <td> 0% </td>      \n",
    " </tr>\n",
    "</table>\n",
    "\n"
   ]
  },
  {
   "cell_type": "markdown",
   "metadata": {
    "id": "lSiG-H2XnDTF"
   },
   "source": [
    "## Objective\n",
    "<h4>A top financial consultancy firm have hired you as a Data Scientist and provided you with data comprising stock price and some financial indicators for a few companies listed under the ABC Stock Exchange. They have assigned you the tasks of analyzing the data, grouping the stocks based on the attributes provided, and sharing insights about the characteristics of each group.</h4>\n",
    "\n",
    "\n"
   ]
  },
  {
   "cell_type": "markdown",
   "metadata": {
    "id": "SpP42_ZgnDTN"
   },
   "source": [
    "##  Download and Prep the Data: 1 Marks"
   ]
  },
  {
   "cell_type": "markdown",
   "metadata": {
    "id": "UVZP7GmMnDTV"
   },
   "source": [
    "<h4>Import the libraries needed</h4>"
   ]
  },
  {
   "cell_type": "code",
   "execution_count": 83,
   "metadata": {
    "id": "ru_e-YoynDTc"
   },
   "outputs": [],
   "source": [
    "import pandas as pd\n",
    "import numpy as np\n",
    "import matplotlib.pyplot as pyplot\n",
    "from sklearn.model_selection import GridSearchCV, train_test_split, cross_val_score\n",
    "from sklearn.preprocessing import StandardScaler\n",
    "from sklearn.metrics import r2_score\n",
    "import scipy.stats as stats\n",
    "import seaborn as sns\n",
    "import missingno as msno\n",
    "\n",
    "%matplotlib inline"
   ]
  },
  {
   "cell_type": "code",
   "execution_count": 84,
   "metadata": {},
   "outputs": [
    {
     "data": {
      "text/html": [
       "<style>.container { width:80% !important; }</style>"
      ],
      "text/plain": [
       "<IPython.core.display.HTML object>"
      ]
     },
     "metadata": {},
     "output_type": "display_data"
    }
   ],
   "source": [
    "from IPython.core.display import display, HTML\n",
    "display(HTML(\"<style>.container { width:80% !important; }</style>\"))"
   ]
  },
  {
   "cell_type": "markdown",
   "metadata": {
    "id": "l9k16HmSnDTj"
   },
   "source": [
    "<h4> Load data and store in dataframe </h4>"
   ]
  },
  {
   "cell_type": "code",
   "execution_count": 85,
   "metadata": {
    "id": "9nF2OKprnDTn",
    "scrolled": true
   },
   "outputs": [],
   "source": [
    "dataframe = pd.read_csv('dvi-a2-ps9-data.csv')\n",
    "# read the source as provided in the Problem into a Dataframe"
   ]
  },
  {
   "cell_type": "markdown",
   "metadata": {
    "id": "nsdRMXMZnDTq"
   },
   "source": [
    "<h4>Find out  what type of variable you are dealing with. This will help you find the right visualization method for that variable.</p>\n"
   ]
  },
  {
   "cell_type": "code",
   "execution_count": 86,
   "metadata": {
    "id": "nOd1XdJEnDTt"
   },
   "outputs": [
    {
     "data": {
      "text/plain": [
       "(340, 15)"
      ]
     },
     "execution_count": 86,
     "metadata": {},
     "output_type": "execute_result"
    }
   ],
   "source": [
    "dataframe.shape\n",
    "# Analyse the Dataframe"
   ]
  },
  {
   "cell_type": "code",
   "execution_count": 87,
   "metadata": {},
   "outputs": [
    {
     "data": {
      "text/html": [
       "<div>\n",
       "<style scoped>\n",
       "    .dataframe tbody tr th:only-of-type {\n",
       "        vertical-align: middle;\n",
       "    }\n",
       "\n",
       "    .dataframe tbody tr th {\n",
       "        vertical-align: top;\n",
       "    }\n",
       "\n",
       "    .dataframe thead th {\n",
       "        text-align: right;\n",
       "    }\n",
       "</style>\n",
       "<table border=\"1\" class=\"dataframe\">\n",
       "  <thead>\n",
       "    <tr style=\"text-align: right;\">\n",
       "      <th></th>\n",
       "      <th>Ticker Symbol</th>\n",
       "      <th>Security</th>\n",
       "      <th>GICS Sector</th>\n",
       "      <th>GICS Sub Industry</th>\n",
       "      <th>Current Price</th>\n",
       "      <th>Price Change</th>\n",
       "      <th>Volatility</th>\n",
       "      <th>ROE</th>\n",
       "      <th>Cash Ratio</th>\n",
       "      <th>Net Cash Flow</th>\n",
       "      <th>Net Income</th>\n",
       "      <th>Earnings Per Share</th>\n",
       "      <th>Estimated Shares Outstanding</th>\n",
       "      <th>P/E Ratio</th>\n",
       "      <th>P/B Ratio</th>\n",
       "    </tr>\n",
       "  </thead>\n",
       "  <tbody>\n",
       "    <tr>\n",
       "      <th>0</th>\n",
       "      <td>AAL</td>\n",
       "      <td>American Airlines Group</td>\n",
       "      <td>Industrials</td>\n",
       "      <td>Airlines</td>\n",
       "      <td>42.349998</td>\n",
       "      <td>9.999995</td>\n",
       "      <td>1.687151</td>\n",
       "      <td>135</td>\n",
       "      <td>51</td>\n",
       "      <td>-604000000</td>\n",
       "      <td>7610000000</td>\n",
       "      <td>11.39</td>\n",
       "      <td>6.681299e+08</td>\n",
       "      <td>3.718174</td>\n",
       "      <td>-8.784219</td>\n",
       "    </tr>\n",
       "    <tr>\n",
       "      <th>1</th>\n",
       "      <td>ABBV</td>\n",
       "      <td>AbbVie</td>\n",
       "      <td>Health Care</td>\n",
       "      <td>Pharmaceuticals</td>\n",
       "      <td>59.240002</td>\n",
       "      <td>8.339433</td>\n",
       "      <td>2.197887</td>\n",
       "      <td>130</td>\n",
       "      <td>77</td>\n",
       "      <td>51000000</td>\n",
       "      <td>5144000000</td>\n",
       "      <td>3.15</td>\n",
       "      <td>1.633016e+09</td>\n",
       "      <td>18.806350</td>\n",
       "      <td>-8.750068</td>\n",
       "    </tr>\n",
       "    <tr>\n",
       "      <th>2</th>\n",
       "      <td>ABT</td>\n",
       "      <td>Abbott Laboratories</td>\n",
       "      <td>Health Care</td>\n",
       "      <td>Health Care Equipment</td>\n",
       "      <td>44.910000</td>\n",
       "      <td>11.301121</td>\n",
       "      <td>1.273646</td>\n",
       "      <td>21</td>\n",
       "      <td>67</td>\n",
       "      <td>938000000</td>\n",
       "      <td>4423000000</td>\n",
       "      <td>2.94</td>\n",
       "      <td>1.504422e+09</td>\n",
       "      <td>15.275510</td>\n",
       "      <td>-0.394171</td>\n",
       "    </tr>\n",
       "    <tr>\n",
       "      <th>3</th>\n",
       "      <td>ADBE</td>\n",
       "      <td>Adobe Systems Inc</td>\n",
       "      <td>Information Technology</td>\n",
       "      <td>Application Software</td>\n",
       "      <td>93.940002</td>\n",
       "      <td>13.977195</td>\n",
       "      <td>1.357679</td>\n",
       "      <td>9</td>\n",
       "      <td>180</td>\n",
       "      <td>-240840000</td>\n",
       "      <td>629551000</td>\n",
       "      <td>1.26</td>\n",
       "      <td>4.996437e+08</td>\n",
       "      <td>74.555557</td>\n",
       "      <td>4.199651</td>\n",
       "    </tr>\n",
       "    <tr>\n",
       "      <th>4</th>\n",
       "      <td>ADI</td>\n",
       "      <td>Analog Devices, Inc.</td>\n",
       "      <td>Information Technology</td>\n",
       "      <td>Semiconductors</td>\n",
       "      <td>55.320000</td>\n",
       "      <td>-1.827858</td>\n",
       "      <td>1.701169</td>\n",
       "      <td>14</td>\n",
       "      <td>272</td>\n",
       "      <td>315120000</td>\n",
       "      <td>696878000</td>\n",
       "      <td>0.31</td>\n",
       "      <td>2.247994e+09</td>\n",
       "      <td>178.451613</td>\n",
       "      <td>1.059810</td>\n",
       "    </tr>\n",
       "  </tbody>\n",
       "</table>\n",
       "</div>"
      ],
      "text/plain": [
       "  Ticker Symbol                 Security             GICS Sector  \\\n",
       "0           AAL  American Airlines Group             Industrials   \n",
       "1          ABBV                   AbbVie             Health Care   \n",
       "2           ABT      Abbott Laboratories             Health Care   \n",
       "3          ADBE        Adobe Systems Inc  Information Technology   \n",
       "4           ADI     Analog Devices, Inc.  Information Technology   \n",
       "\n",
       "       GICS Sub Industry  Current Price  Price Change  Volatility  ROE  \\\n",
       "0               Airlines      42.349998      9.999995    1.687151  135   \n",
       "1        Pharmaceuticals      59.240002      8.339433    2.197887  130   \n",
       "2  Health Care Equipment      44.910000     11.301121    1.273646   21   \n",
       "3   Application Software      93.940002     13.977195    1.357679    9   \n",
       "4         Semiconductors      55.320000     -1.827858    1.701169   14   \n",
       "\n",
       "   Cash Ratio  Net Cash Flow  Net Income  Earnings Per Share  \\\n",
       "0          51     -604000000  7610000000               11.39   \n",
       "1          77       51000000  5144000000                3.15   \n",
       "2          67      938000000  4423000000                2.94   \n",
       "3         180     -240840000   629551000                1.26   \n",
       "4         272      315120000   696878000                0.31   \n",
       "\n",
       "   Estimated Shares Outstanding   P/E Ratio  P/B Ratio  \n",
       "0                  6.681299e+08    3.718174  -8.784219  \n",
       "1                  1.633016e+09   18.806350  -8.750068  \n",
       "2                  1.504422e+09   15.275510  -0.394171  \n",
       "3                  4.996437e+08   74.555557   4.199651  \n",
       "4                  2.247994e+09  178.451613   1.059810  "
      ]
     },
     "execution_count": 87,
     "metadata": {},
     "output_type": "execute_result"
    }
   ],
   "source": [
    "dataframe.head(5)\n",
    "# Load first 5 rows for sanity check"
   ]
  },
  {
   "cell_type": "code",
   "execution_count": 88,
   "metadata": {},
   "outputs": [
    {
     "data": {
      "text/html": [
       "<div>\n",
       "<style scoped>\n",
       "    .dataframe tbody tr th:only-of-type {\n",
       "        vertical-align: middle;\n",
       "    }\n",
       "\n",
       "    .dataframe tbody tr th {\n",
       "        vertical-align: top;\n",
       "    }\n",
       "\n",
       "    .dataframe thead th {\n",
       "        text-align: right;\n",
       "    }\n",
       "</style>\n",
       "<table border=\"1\" class=\"dataframe\">\n",
       "  <thead>\n",
       "    <tr style=\"text-align: right;\">\n",
       "      <th></th>\n",
       "      <th>Current Price</th>\n",
       "      <th>Price Change</th>\n",
       "      <th>Volatility</th>\n",
       "      <th>ROE</th>\n",
       "      <th>Cash Ratio</th>\n",
       "      <th>Net Cash Flow</th>\n",
       "      <th>Net Income</th>\n",
       "      <th>Earnings Per Share</th>\n",
       "      <th>Estimated Shares Outstanding</th>\n",
       "      <th>P/E Ratio</th>\n",
       "      <th>P/B Ratio</th>\n",
       "    </tr>\n",
       "  </thead>\n",
       "  <tbody>\n",
       "    <tr>\n",
       "      <th>count</th>\n",
       "      <td>340.000000</td>\n",
       "      <td>340.000000</td>\n",
       "      <td>340.000000</td>\n",
       "      <td>340.000000</td>\n",
       "      <td>340.000000</td>\n",
       "      <td>3.400000e+02</td>\n",
       "      <td>3.400000e+02</td>\n",
       "      <td>340.000000</td>\n",
       "      <td>3.400000e+02</td>\n",
       "      <td>340.000000</td>\n",
       "      <td>340.000000</td>\n",
       "    </tr>\n",
       "    <tr>\n",
       "      <th>mean</th>\n",
       "      <td>80.862345</td>\n",
       "      <td>4.078194</td>\n",
       "      <td>1.525976</td>\n",
       "      <td>39.597059</td>\n",
       "      <td>70.023529</td>\n",
       "      <td>5.553762e+07</td>\n",
       "      <td>1.494385e+09</td>\n",
       "      <td>2.776662</td>\n",
       "      <td>5.770283e+08</td>\n",
       "      <td>32.612563</td>\n",
       "      <td>-1.718249</td>\n",
       "    </tr>\n",
       "    <tr>\n",
       "      <th>std</th>\n",
       "      <td>98.055086</td>\n",
       "      <td>12.006338</td>\n",
       "      <td>0.591798</td>\n",
       "      <td>96.547538</td>\n",
       "      <td>90.421331</td>\n",
       "      <td>1.946365e+09</td>\n",
       "      <td>3.940150e+09</td>\n",
       "      <td>6.587779</td>\n",
       "      <td>8.458496e+08</td>\n",
       "      <td>44.348731</td>\n",
       "      <td>13.966912</td>\n",
       "    </tr>\n",
       "    <tr>\n",
       "      <th>min</th>\n",
       "      <td>4.500000</td>\n",
       "      <td>-47.129693</td>\n",
       "      <td>0.733163</td>\n",
       "      <td>1.000000</td>\n",
       "      <td>0.000000</td>\n",
       "      <td>-1.120800e+10</td>\n",
       "      <td>-2.352800e+10</td>\n",
       "      <td>-61.200000</td>\n",
       "      <td>2.767216e+07</td>\n",
       "      <td>2.935451</td>\n",
       "      <td>-76.119077</td>\n",
       "    </tr>\n",
       "    <tr>\n",
       "      <th>25%</th>\n",
       "      <td>38.555000</td>\n",
       "      <td>-0.939484</td>\n",
       "      <td>1.134878</td>\n",
       "      <td>9.750000</td>\n",
       "      <td>18.000000</td>\n",
       "      <td>-1.939065e+08</td>\n",
       "      <td>3.523012e+08</td>\n",
       "      <td>1.557500</td>\n",
       "      <td>1.588482e+08</td>\n",
       "      <td>15.044653</td>\n",
       "      <td>-4.352056</td>\n",
       "    </tr>\n",
       "    <tr>\n",
       "      <th>50%</th>\n",
       "      <td>59.705000</td>\n",
       "      <td>4.819505</td>\n",
       "      <td>1.385593</td>\n",
       "      <td>15.000000</td>\n",
       "      <td>47.000000</td>\n",
       "      <td>2.098000e+06</td>\n",
       "      <td>7.073360e+08</td>\n",
       "      <td>2.895000</td>\n",
       "      <td>3.096751e+08</td>\n",
       "      <td>20.819876</td>\n",
       "      <td>-1.067170</td>\n",
       "    </tr>\n",
       "    <tr>\n",
       "      <th>75%</th>\n",
       "      <td>92.880001</td>\n",
       "      <td>10.695493</td>\n",
       "      <td>1.695549</td>\n",
       "      <td>27.000000</td>\n",
       "      <td>99.000000</td>\n",
       "      <td>1.698108e+08</td>\n",
       "      <td>1.899000e+09</td>\n",
       "      <td>4.620000</td>\n",
       "      <td>5.731175e+08</td>\n",
       "      <td>31.764755</td>\n",
       "      <td>3.917066</td>\n",
       "    </tr>\n",
       "    <tr>\n",
       "      <th>max</th>\n",
       "      <td>1274.949951</td>\n",
       "      <td>55.051683</td>\n",
       "      <td>4.580042</td>\n",
       "      <td>917.000000</td>\n",
       "      <td>958.000000</td>\n",
       "      <td>2.076400e+10</td>\n",
       "      <td>2.444200e+10</td>\n",
       "      <td>50.090000</td>\n",
       "      <td>6.159292e+09</td>\n",
       "      <td>528.039074</td>\n",
       "      <td>129.064585</td>\n",
       "    </tr>\n",
       "  </tbody>\n",
       "</table>\n",
       "</div>"
      ],
      "text/plain": [
       "       Current Price  Price Change  Volatility         ROE  Cash Ratio  \\\n",
       "count     340.000000    340.000000  340.000000  340.000000  340.000000   \n",
       "mean       80.862345      4.078194    1.525976   39.597059   70.023529   \n",
       "std        98.055086     12.006338    0.591798   96.547538   90.421331   \n",
       "min         4.500000    -47.129693    0.733163    1.000000    0.000000   \n",
       "25%        38.555000     -0.939484    1.134878    9.750000   18.000000   \n",
       "50%        59.705000      4.819505    1.385593   15.000000   47.000000   \n",
       "75%        92.880001     10.695493    1.695549   27.000000   99.000000   \n",
       "max      1274.949951     55.051683    4.580042  917.000000  958.000000   \n",
       "\n",
       "       Net Cash Flow    Net Income  Earnings Per Share  \\\n",
       "count   3.400000e+02  3.400000e+02          340.000000   \n",
       "mean    5.553762e+07  1.494385e+09            2.776662   \n",
       "std     1.946365e+09  3.940150e+09            6.587779   \n",
       "min    -1.120800e+10 -2.352800e+10          -61.200000   \n",
       "25%    -1.939065e+08  3.523012e+08            1.557500   \n",
       "50%     2.098000e+06  7.073360e+08            2.895000   \n",
       "75%     1.698108e+08  1.899000e+09            4.620000   \n",
       "max     2.076400e+10  2.444200e+10           50.090000   \n",
       "\n",
       "       Estimated Shares Outstanding   P/E Ratio   P/B Ratio  \n",
       "count                  3.400000e+02  340.000000  340.000000  \n",
       "mean                   5.770283e+08   32.612563   -1.718249  \n",
       "std                    8.458496e+08   44.348731   13.966912  \n",
       "min                    2.767216e+07    2.935451  -76.119077  \n",
       "25%                    1.588482e+08   15.044653   -4.352056  \n",
       "50%                    3.096751e+08   20.819876   -1.067170  \n",
       "75%                    5.731175e+08   31.764755    3.917066  \n",
       "max                    6.159292e+09  528.039074  129.064585  "
      ]
     },
     "execution_count": 88,
     "metadata": {},
     "output_type": "execute_result"
    }
   ],
   "source": [
    "#  describe is used to get a descriptive statistics summary of a given dataframe. \n",
    "# This includes mean, count, std deviation, percentiles, and min-max values of all the features.\n",
    "dataframe.describe()"
   ]
  },
  {
   "cell_type": "code",
   "execution_count": 89,
   "metadata": {},
   "outputs": [
    {
     "name": "stdout",
     "output_type": "stream",
     "text": [
      "<class 'pandas.core.frame.DataFrame'>\n",
      "RangeIndex: 340 entries, 0 to 339\n",
      "Data columns (total 15 columns):\n",
      " #   Column                        Non-Null Count  Dtype  \n",
      "---  ------                        --------------  -----  \n",
      " 0   Ticker Symbol                 340 non-null    object \n",
      " 1   Security                      340 non-null    object \n",
      " 2   GICS Sector                   340 non-null    object \n",
      " 3   GICS Sub Industry             340 non-null    object \n",
      " 4   Current Price                 340 non-null    float64\n",
      " 5   Price Change                  340 non-null    float64\n",
      " 6   Volatility                    340 non-null    float64\n",
      " 7   ROE                           340 non-null    int64  \n",
      " 8   Cash Ratio                    340 non-null    int64  \n",
      " 9   Net Cash Flow                 340 non-null    int64  \n",
      " 10  Net Income                    340 non-null    int64  \n",
      " 11  Earnings Per Share            340 non-null    float64\n",
      " 12  Estimated Shares Outstanding  340 non-null    float64\n",
      " 13  P/E Ratio                     340 non-null    float64\n",
      " 14  P/B Ratio                     340 non-null    float64\n",
      "dtypes: float64(7), int64(4), object(4)\n",
      "memory usage: 40.0+ KB\n"
     ]
    }
   ],
   "source": [
    "    dataframe.info()\n",
    "    # Analyse the Dataframe for null and type"
   ]
  },
  {
   "cell_type": "markdown",
   "metadata": {},
   "source": [
    "####  Types of variable we are dealing with in the dataset\n",
    "- 15 columns including Ticker Symbol and Price related columns\n",
    "- 4 nominal objects, 11 numeric (7 float64, 4 int64)\n",
    "- Visualization will be done on those 11 numeric fields\n",
    "- 340 rows of data\n",
    "\n",
    "\n",
    "<hr  style=\"height:3px;\">\n"
   ]
  },
  {
   "cell_type": "markdown",
   "metadata": {
    "id": "hlS_gWSWnDTv"
   },
   "source": [
    "# Visualisation Questions - 2 X 5 = 10 Marks"
   ]
  },
  {
   "cell_type": "markdown",
   "metadata": {
    "id": "ratiPWMcnDTx"
   },
   "source": [
    "### Question 1\n",
    "<h4>Perform Univariate analysis on <b>Price Change</b>\n",
    "<h4>Write the python code in the below cell to create appropriate visual to perform the above task.\n",
    "<h4> Answer in markdown cells below the visual\n",
    "<br><br>\n",
    "<ol>\n",
    "    <li>Summarise your findings from the visual</li>\n",
    "    <li>The reason for selecting the chart type you did</li>\n",
    "    <li>Mention the pre-attentive attributes used.(atleast 2)</li>\n",
    "    <li>Mention the gestalt principles used.(atleast 2)</li>\n",
    "</ol>"
   ]
  },
  {
   "cell_type": "code",
   "execution_count": 90,
   "metadata": {
    "id": "y_HuRfLdnDT1"
   },
   "outputs": [
    {
     "data": {
      "image/png": "[encoded data removed]",
      "text/plain": [
       "<Figure size 432x288 with 1 Axes>"
      ]
     },
     "metadata": {
      "needs_background": "light"
     },
     "output_type": "display_data"
    },
    {
     "data": {
      "text/plain": [
       "<AxesSubplot:>"
      ]
     },
     "execution_count": 90,
     "metadata": {},
     "output_type": "execute_result"
    },
    {
     "data": {
      "image/png": "[encoded data removed]",
      "text/plain": [
       "<Figure size 432x288 with 1 Axes>"
      ]
     },
     "metadata": {
      "needs_background": "light"
     },
     "output_type": "display_data"
    }
   ],
   "source": [
    "# In univariate analysis we will be using a single feature to analyze its properties.\n",
    "# As per problem statement, the chosen feature is 'Price Change'\n",
    "# We will use box and whisker plots\n",
    "dpPC = dataframe['Price Change']\n",
    "dpPC.plot(kind='box')\n",
    "pyplot.show()\n",
    "dpPC.hist()"
   ]
  },
  {
   "cell_type": "markdown",
   "metadata": {},
   "source": [
    "##### Answers for Question 1\n",
    "<h4>1. Findings from the visual </h4>\n",
    "Price Change is seen as a normal distribution. <br>\n",
    "In univariate analysis we will be using a single feature to analyze its properties. <br>\n",
    "As per problem statement, the chosen feature is 'Price Change' <br>\n",
    "\n",
    "<h4>2. Reason for Selecting box ( whisker)  plots  and Bar charts</h4>\n",
    "Box plots are an efficient summary of one variable (univariate chart). <br>\n",
    "Box plot shows the so-called five-number summary of a univariate data series. <br>\n",
    "Use a box and whisker plot to show the distribution of data within a population. They allow for users to determine where the majority of the points land at a glance. They are even more useful when comparing distributions between members of a category in your data.<br>\n",
    "We also used the Bar chart to visualize if the data is skewed or normally distributed.<br> \n",
    "\n",
    "\n",
    "<h4>3. Preattentive Attributes used</h4>\n",
    "Which information caught your attention:<br> \n",
    "- We look at <b>Spatial Positioning (2-D position)</b> to check for outliers<br>\n",
    "- <b>Line Length</b> to check the relative size of Price change\n",
    "\n",
    "<h4>4. Gestalt Principles used</h4>\n",
    "- Law of Proximity in the Box plot<br>\n",
    "- Law of Similarity (in same colors chosen)\n",
    "\n",
    "<hr  style=\"height:3px;\">\n"
   ]
  },
  {
   "cell_type": "markdown",
   "metadata": {
    "id": "diRYcB0ZnDT9"
   },
   "source": [
    "### Question 2\n",
    "<h4>Perform a visual analysis to detect outliers in Current Price and Net Income \n",
    "<h4>Write the python code in the below cell to create appropriate visual to perform the above task.\n",
    "<h4> Answer in markdown cells below the visual\n",
    "<br><br>\n",
    "<ol>\n",
    "    <li>Summarise your findings from the visual</li>\n",
    "    <li>The reason for selecting the chart type you did</li>\n",
    "    <li>Mention the pre-attentive attributes used.(atleast 2)</li>\n",
    "    <li>Mention the gestalt principles used.(atleast 2)</li>\n",
    "</ol>"
   ]
  },
  {
   "cell_type": "code",
   "execution_count": 91,
   "metadata": {
    "id": "Rs2QzLvdnDT-"
   },
   "outputs": [
    {
     "data": {
      "image/png": "[encoded data removed]",
      "text/plain": [
       "<Figure size 432x288 with 1 Axes>"
      ]
     },
     "metadata": {
      "needs_background": "light"
     },
     "output_type": "display_data"
    },
    {
     "data": {
      "text/plain": [
       "<AxesSubplot:>"
      ]
     },
     "execution_count": 91,
     "metadata": {},
     "output_type": "execute_result"
    },
    {
     "data": {
      "image/png": "[encoded data removed]",
      "text/plain": [
       "<Figure size 432x288 with 1 Axes>"
      ]
     },
     "metadata": {
      "needs_background": "light"
     },
     "output_type": "display_data"
    }
   ],
   "source": [
    "dfCP = dataframe['Current Price'] # copy only Current Price to a new dataframe\n",
    "dfCP.plot(kind='box', subplots=True)\n",
    "pyplot.show()\n",
    "dfCP.hist()"
   ]
  },
  {
   "cell_type": "code",
   "execution_count": 92,
   "metadata": {},
   "outputs": [
    {
     "name": "stdout",
     "output_type": "stream",
     "text": [
      "Upper Limit of Current Price is  585.727635810001\n",
      "Lower Limit of Current Price is  6.1295\n",
      "0       42.349998\n",
      "1       59.240002\n",
      "2       44.910000\n",
      "3       93.940002\n",
      "4       55.320000\n",
      "          ...    \n",
      "335     33.259998\n",
      "336     52.516175\n",
      "337    102.589996\n",
      "338     27.299999\n",
      "339     47.919998\n",
      "Name: Current Price, Length: 336, dtype: float64\n"
     ]
    },
    {
     "data": {
      "image/png": "[encoded data removed]",
      "text/plain": [
       "<Figure size 432x288 with 1 Axes>"
      ]
     },
     "metadata": {
      "needs_background": "light"
     },
     "output_type": "display_data"
    }
   ],
   "source": [
    "lower_limit, upper_limit = np.percentile(a=dfCP,q=[0.5,99.5]) # chooose0.5 and 99.5 percentile to remove the outliers\n",
    "print(\"Upper Limit of Current Price is \", upper_limit)\n",
    "print(\"Lower Limit of Current Price is \", lower_limit)\n",
    "df_scores_filtered = dfCP[(dfCP>lower_limit) & (dfCP<upper_limit)]\n",
    "df_scores_filtered.describe()\n",
    "print(df_scores_filtered)\n",
    "df_scores_filtered.hist() #chart after removal of outliers\n",
    "pyplot.show()"
   ]
  },
  {
   "cell_type": "code",
   "execution_count": 93,
   "metadata": {},
   "outputs": [
    {
     "data": {
      "image/png": "[encoded data removed]",
      "text/plain": [
       "<Figure size 432x288 with 1 Axes>"
      ]
     },
     "metadata": {
      "needs_background": "light"
     },
     "output_type": "display_data"
    },
    {
     "name": "stdout",
     "output_type": "stream",
     "text": [
      "Upper Limit of Net Income is  19567730000.000034\n",
      "Lower Limit of Net Income is  -14524455000.0\n",
      "0      7610000000\n",
      "1      5144000000\n",
      "2      4423000000\n",
      "3       629551000\n",
      "4       696878000\n",
      "          ...    \n",
      "335   -4359082000\n",
      "336    1293000000\n",
      "337     147000000\n",
      "338     309471000\n",
      "339     339000000\n",
      "Name: Net Income, Length: 338, dtype: int64\n"
     ]
    },
    {
     "data": {
      "image/png": "[encoded data removed]",
      "text/plain": [
       "<Figure size 432x288 with 1 Axes>"
      ]
     },
     "metadata": {
      "needs_background": "light"
     },
     "output_type": "display_data"
    }
   ],
   "source": [
    "dfNI = dataframe['Net Income'] # copy only Net Income to new dataframe\n",
    "dfNI.plot(kind='box', subplots=True)\n",
    "pyplot.show()\n",
    "dfCP.hist()\n",
    "lower_limit, upper_limit = np.percentile(a=dfNI,q=[0.5,99.5])\n",
    "print(\"Upper Limit of Net Income is \", upper_limit)\n",
    "print(\"Lower Limit of Net Income is \", lower_limit)\n",
    "df_scores_filtered = dfNI[(dfNI>lower_limit) & (dfCP<upper_limit)]\n",
    "df_scores_filtered.describe()\n",
    "print(df_scores_filtered)"
   ]
  },
  {
   "cell_type": "markdown",
   "metadata": {},
   "source": [
    "##### Answers for Question 2\n",
    "\n",
    "<h4>1. Findings from the visual </h4>\n",
    "The data distribution for Current Price is skewed <br> \n",
    "There are 4 outliers for Current price, 5th and 95th percentile values are 585.727635810001 and 6.1295\n",
    "The Data Distribution for Net Income is also skewed. <br>\n",
    "There are 2 outliers in Net Income, 5th and 95th percentile values are 19567730000.000034 and -14524455000.0 <br>\n",
    "\n",
    "<h4>2. Reasons for selecting the chart types:</h4>\n",
    "Box chart shows the outliers clearly, and lets us decide if we need to remove the outliers are not. <br>\n",
    "Box plots are useful as they show outliers within a data set. An outlier is an observation that is numerically distant from the rest of the data. When reviewing a box plot, an outlier is defined as a data point that is located outside the whiskers of the box plot. <br>\n",
    "Bar chart shows if the data is skewed or normally distributed.  <br>\n",
    "\n",
    "<h4>3. Preattentive Attributes used</h4>\n",
    "- We look at <b>Spatial Positioning (2-D position)</b> to check for outliers<br>\n",
    "- <b>Line Length</b> to check the relative size of Current Price, Net Income. This also helps find if the data is skewed.\n",
    "\n",
    "<h4>4. Gestalt Principles used</h4>\n",
    "- Law of Proximity in the Box plot<br>\n",
    "- Law of Similarity (in same colors chosen)\n",
    "\n",
    "<hr  style=\"height:3px;\">\n"
   ]
  },
  {
   "cell_type": "markdown",
   "metadata": {
    "id": "qQkg7ciNnDT_"
   },
   "source": [
    "### Question 3\n",
    "<h4>Identify the correlation between all numerical variables.\n",
    "<br><br>    \n",
    "Write the python code in the below cell to create appropriate visual to perform the above task.\n",
    "<h4> Answer in markdown cells below the visual\n",
    "<br><br>\n",
    "<ol>\n",
    "    <li>Summarise your findings from the visual</li>\n",
    "    <li>The reason for selecting the chart type you did</li>\n",
    "    <li>Mention the pre-attentive attributes used.(atleast 2)</li>\n",
    "    <li>Mention the gestalt principles used.(atleast 2)</li>\n",
    "</ol>"
   ]
  },
  {
   "cell_type": "code",
   "execution_count": 94,
   "metadata": {
    "id": "nExKkhfZnDUB"
   },
   "outputs": [
    {
     "data": {
      "text/html": [
       "<div>\n",
       "<style scoped>\n",
       "    .dataframe tbody tr th:only-of-type {\n",
       "        vertical-align: middle;\n",
       "    }\n",
       "\n",
       "    .dataframe tbody tr th {\n",
       "        vertical-align: top;\n",
       "    }\n",
       "\n",
       "    .dataframe thead th {\n",
       "        text-align: right;\n",
       "    }\n",
       "</style>\n",
       "<table border=\"1\" class=\"dataframe\">\n",
       "  <thead>\n",
       "    <tr style=\"text-align: right;\">\n",
       "      <th></th>\n",
       "      <th>Current Price</th>\n",
       "      <th>Price Change</th>\n",
       "      <th>Volatility</th>\n",
       "      <th>ROE</th>\n",
       "      <th>Cash Ratio</th>\n",
       "      <th>Net Cash Flow</th>\n",
       "      <th>Net Income</th>\n",
       "      <th>Earnings Per Share</th>\n",
       "      <th>Estimated Shares Outstanding</th>\n",
       "      <th>P/E Ratio</th>\n",
       "      <th>P/B Ratio</th>\n",
       "    </tr>\n",
       "  </thead>\n",
       "  <tbody>\n",
       "    <tr>\n",
       "      <th>Current Price</th>\n",
       "      <td>1.000000</td>\n",
       "      <td>0.134982</td>\n",
       "      <td>-0.124257</td>\n",
       "      <td>-0.000549</td>\n",
       "      <td>0.127816</td>\n",
       "      <td>-0.021961</td>\n",
       "      <td>0.036625</td>\n",
       "      <td>0.479604</td>\n",
       "      <td>-0.145306</td>\n",
       "      <td>0.260273</td>\n",
       "      <td>0.124634</td>\n",
       "    </tr>\n",
       "    <tr>\n",
       "      <th>Price Change</th>\n",
       "      <td>0.134982</td>\n",
       "      <td>1.000000</td>\n",
       "      <td>-0.408281</td>\n",
       "      <td>-0.043310</td>\n",
       "      <td>0.168586</td>\n",
       "      <td>0.026746</td>\n",
       "      <td>0.179298</td>\n",
       "      <td>0.175401</td>\n",
       "      <td>0.033656</td>\n",
       "      <td>-0.002491</td>\n",
       "      <td>0.034329</td>\n",
       "    </tr>\n",
       "    <tr>\n",
       "      <th>Volatility</th>\n",
       "      <td>-0.124257</td>\n",
       "      <td>-0.408281</td>\n",
       "      <td>1.000000</td>\n",
       "      <td>0.162532</td>\n",
       "      <td>0.020605</td>\n",
       "      <td>-0.014172</td>\n",
       "      <td>-0.383433</td>\n",
       "      <td>-0.379309</td>\n",
       "      <td>-0.095704</td>\n",
       "      <td>0.263600</td>\n",
       "      <td>0.046528</td>\n",
       "    </tr>\n",
       "    <tr>\n",
       "      <th>ROE</th>\n",
       "      <td>-0.000549</td>\n",
       "      <td>-0.043310</td>\n",
       "      <td>0.162532</td>\n",
       "      <td>1.000000</td>\n",
       "      <td>-0.069122</td>\n",
       "      <td>-0.052205</td>\n",
       "      <td>-0.288524</td>\n",
       "      <td>-0.405291</td>\n",
       "      <td>-0.030288</td>\n",
       "      <td>0.023341</td>\n",
       "      <td>-0.063218</td>\n",
       "    </tr>\n",
       "    <tr>\n",
       "      <th>Cash Ratio</th>\n",
       "      <td>0.127816</td>\n",
       "      <td>0.168586</td>\n",
       "      <td>0.020605</td>\n",
       "      <td>-0.069122</td>\n",
       "      <td>1.000000</td>\n",
       "      <td>0.113819</td>\n",
       "      <td>0.028589</td>\n",
       "      <td>0.024759</td>\n",
       "      <td>0.135869</td>\n",
       "      <td>0.089483</td>\n",
       "      <td>0.229672</td>\n",
       "    </tr>\n",
       "    <tr>\n",
       "      <th>Net Cash Flow</th>\n",
       "      <td>-0.021961</td>\n",
       "      <td>0.026746</td>\n",
       "      <td>-0.014172</td>\n",
       "      <td>-0.052205</td>\n",
       "      <td>0.113819</td>\n",
       "      <td>1.000000</td>\n",
       "      <td>0.044229</td>\n",
       "      <td>0.019348</td>\n",
       "      <td>-0.051392</td>\n",
       "      <td>0.026876</td>\n",
       "      <td>0.057039</td>\n",
       "    </tr>\n",
       "    <tr>\n",
       "      <th>Net Income</th>\n",
       "      <td>0.036625</td>\n",
       "      <td>0.179298</td>\n",
       "      <td>-0.383433</td>\n",
       "      <td>-0.288524</td>\n",
       "      <td>0.028589</td>\n",
       "      <td>0.044229</td>\n",
       "      <td>1.000000</td>\n",
       "      <td>0.557752</td>\n",
       "      <td>0.589310</td>\n",
       "      <td>-0.224022</td>\n",
       "      <td>-0.061544</td>\n",
       "    </tr>\n",
       "    <tr>\n",
       "      <th>Earnings Per Share</th>\n",
       "      <td>0.479604</td>\n",
       "      <td>0.175401</td>\n",
       "      <td>-0.379309</td>\n",
       "      <td>-0.405291</td>\n",
       "      <td>0.024759</td>\n",
       "      <td>0.019348</td>\n",
       "      <td>0.557752</td>\n",
       "      <td>1.000000</td>\n",
       "      <td>-0.026906</td>\n",
       "      <td>-0.260660</td>\n",
       "      <td>0.014915</td>\n",
       "    </tr>\n",
       "    <tr>\n",
       "      <th>Estimated Shares Outstanding</th>\n",
       "      <td>-0.145306</td>\n",
       "      <td>0.033656</td>\n",
       "      <td>-0.095704</td>\n",
       "      <td>-0.030288</td>\n",
       "      <td>0.135869</td>\n",
       "      <td>-0.051392</td>\n",
       "      <td>0.589310</td>\n",
       "      <td>-0.026906</td>\n",
       "      <td>1.000000</td>\n",
       "      <td>-0.014551</td>\n",
       "      <td>-0.028155</td>\n",
       "    </tr>\n",
       "    <tr>\n",
       "      <th>P/E Ratio</th>\n",
       "      <td>0.260273</td>\n",
       "      <td>-0.002491</td>\n",
       "      <td>0.263600</td>\n",
       "      <td>0.023341</td>\n",
       "      <td>0.089483</td>\n",
       "      <td>0.026876</td>\n",
       "      <td>-0.224022</td>\n",
       "      <td>-0.260660</td>\n",
       "      <td>-0.014551</td>\n",
       "      <td>1.000000</td>\n",
       "      <td>0.036422</td>\n",
       "    </tr>\n",
       "    <tr>\n",
       "      <th>P/B Ratio</th>\n",
       "      <td>0.124634</td>\n",
       "      <td>0.034329</td>\n",
       "      <td>0.046528</td>\n",
       "      <td>-0.063218</td>\n",
       "      <td>0.229672</td>\n",
       "      <td>0.057039</td>\n",
       "      <td>-0.061544</td>\n",
       "      <td>0.014915</td>\n",
       "      <td>-0.028155</td>\n",
       "      <td>0.036422</td>\n",
       "      <td>1.000000</td>\n",
       "    </tr>\n",
       "  </tbody>\n",
       "</table>\n",
       "</div>"
      ],
      "text/plain": [
       "                              Current Price  Price Change  Volatility  \\\n",
       "Current Price                      1.000000      0.134982   -0.124257   \n",
       "Price Change                       0.134982      1.000000   -0.408281   \n",
       "Volatility                        -0.124257     -0.408281    1.000000   \n",
       "ROE                               -0.000549     -0.043310    0.162532   \n",
       "Cash Ratio                         0.127816      0.168586    0.020605   \n",
       "Net Cash Flow                     -0.021961      0.026746   -0.014172   \n",
       "Net Income                         0.036625      0.179298   -0.383433   \n",
       "Earnings Per Share                 0.479604      0.175401   -0.379309   \n",
       "Estimated Shares Outstanding      -0.145306      0.033656   -0.095704   \n",
       "P/E Ratio                          0.260273     -0.002491    0.263600   \n",
       "P/B Ratio                          0.124634      0.034329    0.046528   \n",
       "\n",
       "                                   ROE  Cash Ratio  Net Cash Flow  Net Income  \\\n",
       "Current Price                -0.000549    0.127816      -0.021961    0.036625   \n",
       "Price Change                 -0.043310    0.168586       0.026746    0.179298   \n",
       "Volatility                    0.162532    0.020605      -0.014172   -0.383433   \n",
       "ROE                           1.000000   -0.069122      -0.052205   -0.288524   \n",
       "Cash Ratio                   -0.069122    1.000000       0.113819    0.028589   \n",
       "Net Cash Flow                -0.052205    0.113819       1.000000    0.044229   \n",
       "Net Income                   -0.288524    0.028589       0.044229    1.000000   \n",
       "Earnings Per Share           -0.405291    0.024759       0.019348    0.557752   \n",
       "Estimated Shares Outstanding -0.030288    0.135869      -0.051392    0.589310   \n",
       "P/E Ratio                     0.023341    0.089483       0.026876   -0.224022   \n",
       "P/B Ratio                    -0.063218    0.229672       0.057039   -0.061544   \n",
       "\n",
       "                              Earnings Per Share  \\\n",
       "Current Price                           0.479604   \n",
       "Price Change                            0.175401   \n",
       "Volatility                             -0.379309   \n",
       "ROE                                    -0.405291   \n",
       "Cash Ratio                              0.024759   \n",
       "Net Cash Flow                           0.019348   \n",
       "Net Income                              0.557752   \n",
       "Earnings Per Share                      1.000000   \n",
       "Estimated Shares Outstanding           -0.026906   \n",
       "P/E Ratio                              -0.260660   \n",
       "P/B Ratio                               0.014915   \n",
       "\n",
       "                              Estimated Shares Outstanding  P/E Ratio  \\\n",
       "Current Price                                    -0.145306   0.260273   \n",
       "Price Change                                      0.033656  -0.002491   \n",
       "Volatility                                       -0.095704   0.263600   \n",
       "ROE                                              -0.030288   0.023341   \n",
       "Cash Ratio                                        0.135869   0.089483   \n",
       "Net Cash Flow                                    -0.051392   0.026876   \n",
       "Net Income                                        0.589310  -0.224022   \n",
       "Earnings Per Share                               -0.026906  -0.260660   \n",
       "Estimated Shares Outstanding                      1.000000  -0.014551   \n",
       "P/E Ratio                                        -0.014551   1.000000   \n",
       "P/B Ratio                                        -0.028155   0.036422   \n",
       "\n",
       "                              P/B Ratio  \n",
       "Current Price                  0.124634  \n",
       "Price Change                   0.034329  \n",
       "Volatility                     0.046528  \n",
       "ROE                           -0.063218  \n",
       "Cash Ratio                     0.229672  \n",
       "Net Cash Flow                  0.057039  \n",
       "Net Income                    -0.061544  \n",
       "Earnings Per Share             0.014915  \n",
       "Estimated Shares Outstanding  -0.028155  \n",
       "P/E Ratio                      0.036422  \n",
       "P/B Ratio                      1.000000  "
      ]
     },
     "execution_count": 94,
     "metadata": {},
     "output_type": "execute_result"
    }
   ],
   "source": [
    "dataframe.corr()\n",
    "# corr lists the correlation (relationship) between each numerical column in the DataFrame"
   ]
  },
  {
   "cell_type": "code",
   "execution_count": 95,
   "metadata": {
    "scrolled": true
   },
   "outputs": [
    {
     "data": {
      "text/html": [
       "<style type=\"text/css\">\n",
       "#T_b403c_row0_col0, #T_b403c_row1_col1, #T_b403c_row2_col2, #T_b403c_row3_col3, #T_b403c_row4_col4, #T_b403c_row5_col5, #T_b403c_row6_col6, #T_b403c_row7_col7, #T_b403c_row8_col8, #T_b403c_row9_col9, #T_b403c_row10_col10 {\n",
       "  background-color: #08306b;\n",
       "  color: #f1f1f1;\n",
       "}\n",
       "#T_b403c_row0_col1 {\n",
       "  background-color: #9ac8e0;\n",
       "  color: #000000;\n",
       "}\n",
       "#T_b403c_row0_col2 {\n",
       "  background-color: #d0e1f2;\n",
       "  color: #000000;\n",
       "}\n",
       "#T_b403c_row0_col3, #T_b403c_row9_col1 {\n",
       "  background-color: #bad6eb;\n",
       "  color: #000000;\n",
       "}\n",
       "#T_b403c_row0_col4 {\n",
       "  background-color: #d3e3f3;\n",
       "  color: #000000;\n",
       "}\n",
       "#T_b403c_row0_col5, #T_b403c_row6_col9 {\n",
       "  background-color: #f2f7fd;\n",
       "  color: #000000;\n",
       "}\n",
       "#T_b403c_row0_col6, #T_b403c_row4_col2, #T_b403c_row5_col7 {\n",
       "  background-color: #b5d4e9;\n",
       "  color: #000000;\n",
       "}\n",
       "#T_b403c_row0_col7 {\n",
       "  background-color: #4090c5;\n",
       "  color: #f1f1f1;\n",
       "}\n",
       "#T_b403c_row0_col8, #T_b403c_row1_col2, #T_b403c_row2_col1, #T_b403c_row2_col6, #T_b403c_row3_col4, #T_b403c_row3_col5, #T_b403c_row3_col7, #T_b403c_row3_col10, #T_b403c_row6_col10, #T_b403c_row7_col3, #T_b403c_row7_col9, #T_b403c_row8_col0, #T_b403c_row8_col5 {\n",
       "  background-color: #f7fbff;\n",
       "  color: #000000;\n",
       "}\n",
       "#T_b403c_row0_col9, #T_b403c_row1_col7 {\n",
       "  background-color: #8fc2de;\n",
       "  color: #000000;\n",
       "}\n",
       "#T_b403c_row0_col10 {\n",
       "  background-color: #d4e4f4;\n",
       "  color: #000000;\n",
       "}\n",
       "#T_b403c_row1_col0, #T_b403c_row4_col8, #T_b403c_row10_col3 {\n",
       "  background-color: #c7dcef;\n",
       "  color: #000000;\n",
       "}\n",
       "#T_b403c_row1_col3 {\n",
       "  background-color: #c4daee;\n",
       "  color: #000000;\n",
       "}\n",
       "#T_b403c_row1_col4, #T_b403c_row8_col2 {\n",
       "  background-color: #ccdff1;\n",
       "  color: #000000;\n",
       "}\n",
       "#T_b403c_row1_col5, #T_b403c_row9_col5 {\n",
       "  background-color: #e8f1fa;\n",
       "  color: #000000;\n",
       "}\n",
       "#T_b403c_row1_col6, #T_b403c_row4_col1 {\n",
       "  background-color: #91c3de;\n",
       "  color: #000000;\n",
       "}\n",
       "#T_b403c_row1_col8, #T_b403c_row4_col5, #T_b403c_row6_col0 {\n",
       "  background-color: #d8e7f5;\n",
       "  color: #000000;\n",
       "}\n",
       "#T_b403c_row1_col9 {\n",
       "  background-color: #cfe1f2;\n",
       "  color: #000000;\n",
       "}\n",
       "#T_b403c_row1_col10, #T_b403c_row6_col4, #T_b403c_row6_col5, #T_b403c_row9_col10 {\n",
       "  background-color: #e5eff9;\n",
       "  color: #000000;\n",
       "}\n",
       "#T_b403c_row2_col0, #T_b403c_row2_col7, #T_b403c_row6_col2 {\n",
       "  background-color: #f4f9fe;\n",
       "  color: #000000;\n",
       "}\n",
       "#T_b403c_row2_col3, #T_b403c_row3_col2 {\n",
       "  background-color: #92c4de;\n",
       "  color: #000000;\n",
       "}\n",
       "#T_b403c_row2_col4, #T_b403c_row6_col3 {\n",
       "  background-color: #e7f0fa;\n",
       "  color: #000000;\n",
       "}\n",
       "#T_b403c_row2_col5 {\n",
       "  background-color: #f0f6fd;\n",
       "  color: #000000;\n",
       "}\n",
       "#T_b403c_row2_col8 {\n",
       "  background-color: #eef5fc;\n",
       "  color: #000000;\n",
       "}\n",
       "#T_b403c_row2_col9, #T_b403c_row6_col1, #T_b403c_row7_col1 {\n",
       "  background-color: #8dc1dd;\n",
       "  color: #000000;\n",
       "}\n",
       "#T_b403c_row2_col10, #T_b403c_row7_col8, #T_b403c_row9_col7, #T_b403c_row10_col5, #T_b403c_row10_col8 {\n",
       "  background-color: #e3eef8;\n",
       "  color: #000000;\n",
       "}\n",
       "#T_b403c_row3_col0 {\n",
       "  background-color: #deebf7;\n",
       "  color: #000000;\n",
       "}\n",
       "#T_b403c_row3_col1 {\n",
       "  background-color: #c3daee;\n",
       "  color: #000000;\n",
       "}\n",
       "#T_b403c_row3_col6, #T_b403c_row7_col5 {\n",
       "  background-color: #eaf2fb;\n",
       "  color: #000000;\n",
       "}\n",
       "#T_b403c_row3_col8 {\n",
       "  background-color: #e3eef9;\n",
       "  color: #000000;\n",
       "}\n",
       "#T_b403c_row3_col9 {\n",
       "  background-color: #cbdef1;\n",
       "  color: #000000;\n",
       "}\n",
       "#T_b403c_row4_col0, #T_b403c_row4_col3 {\n",
       "  background-color: #c8dcf0;\n",
       "  color: #000000;\n",
       "}\n",
       "#T_b403c_row4_col6, #T_b403c_row10_col7 {\n",
       "  background-color: #b7d4ea;\n",
       "  color: #000000;\n",
       "}\n",
       "#T_b403c_row4_col7, #T_b403c_row9_col3 {\n",
       "  background-color: #b4d3e9;\n",
       "  color: #000000;\n",
       "}\n",
       "#T_b403c_row4_col9, #T_b403c_row5_col2, #T_b403c_row10_col4 {\n",
       "  background-color: #bdd7ec;\n",
       "  color: #000000;\n",
       "}\n",
       "#T_b403c_row4_col10 {\n",
       "  background-color: #bed8ec;\n",
       "  color: #000000;\n",
       "}\n",
       "#T_b403c_row5_col0 {\n",
       "  background-color: #e2edf8;\n",
       "  color: #000000;\n",
       "}\n",
       "#T_b403c_row5_col1, #T_b403c_row5_col6 {\n",
       "  background-color: #b3d3e8;\n",
       "  color: #000000;\n",
       "}\n",
       "#T_b403c_row5_col3 {\n",
       "  background-color: #c6dbef;\n",
       "  color: #000000;\n",
       "}\n",
       "#T_b403c_row5_col4 {\n",
       "  background-color: #d6e5f4;\n",
       "  color: #000000;\n",
       "}\n",
       "#T_b403c_row5_col8 {\n",
       "  background-color: #e7f1fa;\n",
       "  color: #000000;\n",
       "}\n",
       "#T_b403c_row5_col9 {\n",
       "  background-color: #cadef0;\n",
       "  color: #000000;\n",
       "}\n",
       "#T_b403c_row5_col10 {\n",
       "  background-color: #e1edf8;\n",
       "  color: #000000;\n",
       "}\n",
       "#T_b403c_row6_col7 {\n",
       "  background-color: #3282be;\n",
       "  color: #f1f1f1;\n",
       "}\n",
       "#T_b403c_row6_col8 {\n",
       "  background-color: #3d8dc4;\n",
       "  color: #f1f1f1;\n",
       "}\n",
       "#T_b403c_row7_col0 {\n",
       "  background-color: #5ca4d0;\n",
       "  color: #f1f1f1;\n",
       "}\n",
       "#T_b403c_row7_col2 {\n",
       "  background-color: #f3f8fe;\n",
       "  color: #000000;\n",
       "}\n",
       "#T_b403c_row7_col4 {\n",
       "  background-color: #e6f0f9;\n",
       "  color: #000000;\n",
       "}\n",
       "#T_b403c_row7_col6 {\n",
       "  background-color: #3383be;\n",
       "  color: #f1f1f1;\n",
       "}\n",
       "#T_b403c_row7_col10 {\n",
       "  background-color: #e9f2fa;\n",
       "  color: #000000;\n",
       "}\n",
       "#T_b403c_row8_col1, #T_b403c_row10_col1 {\n",
       "  background-color: #b2d2e8;\n",
       "  color: #000000;\n",
       "}\n",
       "#T_b403c_row8_col3, #T_b403c_row8_col7 {\n",
       "  background-color: #c1d9ed;\n",
       "  color: #000000;\n",
       "}\n",
       "#T_b403c_row8_col4, #T_b403c_row8_col9 {\n",
       "  background-color: #d1e2f3;\n",
       "  color: #000000;\n",
       "}\n",
       "#T_b403c_row8_col6 {\n",
       "  background-color: #2d7dbb;\n",
       "  color: #f1f1f1;\n",
       "}\n",
       "#T_b403c_row8_col10 {\n",
       "  background-color: #f1f7fd;\n",
       "  color: #000000;\n",
       "}\n",
       "#T_b403c_row9_col0 {\n",
       "  background-color: #a5cde3;\n",
       "  color: #000000;\n",
       "}\n",
       "#T_b403c_row9_col2 {\n",
       "  background-color: #74b3d8;\n",
       "  color: #000000;\n",
       "}\n",
       "#T_b403c_row9_col4 {\n",
       "  background-color: #dae8f6;\n",
       "  color: #000000;\n",
       "}\n",
       "#T_b403c_row9_col6, #T_b403c_row9_col8 {\n",
       "  background-color: #e0ecf8;\n",
       "  color: #000000;\n",
       "}\n",
       "#T_b403c_row10_col0, #T_b403c_row10_col9 {\n",
       "  background-color: #c9ddf0;\n",
       "  color: #000000;\n",
       "}\n",
       "#T_b403c_row10_col2 {\n",
       "  background-color: #afd1e7;\n",
       "  color: #000000;\n",
       "}\n",
       "#T_b403c_row10_col6 {\n",
       "  background-color: #caddf0;\n",
       "  color: #000000;\n",
       "}\n",
       "</style>\n",
       "<table id=\"T_b403c_\">\n",
       "  <thead>\n",
       "    <tr>\n",
       "      <th class=\"blank level0\" >&nbsp;</th>\n",
       "      <th class=\"col_heading level0 col0\" >Current Price</th>\n",
       "      <th class=\"col_heading level0 col1\" >Price Change</th>\n",
       "      <th class=\"col_heading level0 col2\" >Volatility</th>\n",
       "      <th class=\"col_heading level0 col3\" >ROE</th>\n",
       "      <th class=\"col_heading level0 col4\" >Cash Ratio</th>\n",
       "      <th class=\"col_heading level0 col5\" >Net Cash Flow</th>\n",
       "      <th class=\"col_heading level0 col6\" >Net Income</th>\n",
       "      <th class=\"col_heading level0 col7\" >Earnings Per Share</th>\n",
       "      <th class=\"col_heading level0 col8\" >Estimated Shares Outstanding</th>\n",
       "      <th class=\"col_heading level0 col9\" >P/E Ratio</th>\n",
       "      <th class=\"col_heading level0 col10\" >P/B Ratio</th>\n",
       "    </tr>\n",
       "  </thead>\n",
       "  <tbody>\n",
       "    <tr>\n",
       "      <th id=\"T_b403c_level0_row0\" class=\"row_heading level0 row0\" >Current Price</th>\n",
       "      <td id=\"T_b403c_row0_col0\" class=\"data row0 col0\" >1.000000</td>\n",
       "      <td id=\"T_b403c_row0_col1\" class=\"data row0 col1\" >0.134982</td>\n",
       "      <td id=\"T_b403c_row0_col2\" class=\"data row0 col2\" >-0.124257</td>\n",
       "      <td id=\"T_b403c_row0_col3\" class=\"data row0 col3\" >-0.000549</td>\n",
       "      <td id=\"T_b403c_row0_col4\" class=\"data row0 col4\" >0.127816</td>\n",
       "      <td id=\"T_b403c_row0_col5\" class=\"data row0 col5\" >-0.021961</td>\n",
       "      <td id=\"T_b403c_row0_col6\" class=\"data row0 col6\" >0.036625</td>\n",
       "      <td id=\"T_b403c_row0_col7\" class=\"data row0 col7\" >0.479604</td>\n",
       "      <td id=\"T_b403c_row0_col8\" class=\"data row0 col8\" >-0.145306</td>\n",
       "      <td id=\"T_b403c_row0_col9\" class=\"data row0 col9\" >0.260273</td>\n",
       "      <td id=\"T_b403c_row0_col10\" class=\"data row0 col10\" >0.124634</td>\n",
       "    </tr>\n",
       "    <tr>\n",
       "      <th id=\"T_b403c_level0_row1\" class=\"row_heading level0 row1\" >Price Change</th>\n",
       "      <td id=\"T_b403c_row1_col0\" class=\"data row1 col0\" >0.134982</td>\n",
       "      <td id=\"T_b403c_row1_col1\" class=\"data row1 col1\" >1.000000</td>\n",
       "      <td id=\"T_b403c_row1_col2\" class=\"data row1 col2\" >-0.408281</td>\n",
       "      <td id=\"T_b403c_row1_col3\" class=\"data row1 col3\" >-0.043310</td>\n",
       "      <td id=\"T_b403c_row1_col4\" class=\"data row1 col4\" >0.168586</td>\n",
       "      <td id=\"T_b403c_row1_col5\" class=\"data row1 col5\" >0.026746</td>\n",
       "      <td id=\"T_b403c_row1_col6\" class=\"data row1 col6\" >0.179298</td>\n",
       "      <td id=\"T_b403c_row1_col7\" class=\"data row1 col7\" >0.175401</td>\n",
       "      <td id=\"T_b403c_row1_col8\" class=\"data row1 col8\" >0.033656</td>\n",
       "      <td id=\"T_b403c_row1_col9\" class=\"data row1 col9\" >-0.002491</td>\n",
       "      <td id=\"T_b403c_row1_col10\" class=\"data row1 col10\" >0.034329</td>\n",
       "    </tr>\n",
       "    <tr>\n",
       "      <th id=\"T_b403c_level0_row2\" class=\"row_heading level0 row2\" >Volatility</th>\n",
       "      <td id=\"T_b403c_row2_col0\" class=\"data row2 col0\" >-0.124257</td>\n",
       "      <td id=\"T_b403c_row2_col1\" class=\"data row2 col1\" >-0.408281</td>\n",
       "      <td id=\"T_b403c_row2_col2\" class=\"data row2 col2\" >1.000000</td>\n",
       "      <td id=\"T_b403c_row2_col3\" class=\"data row2 col3\" >0.162532</td>\n",
       "      <td id=\"T_b403c_row2_col4\" class=\"data row2 col4\" >0.020605</td>\n",
       "      <td id=\"T_b403c_row2_col5\" class=\"data row2 col5\" >-0.014172</td>\n",
       "      <td id=\"T_b403c_row2_col6\" class=\"data row2 col6\" >-0.383433</td>\n",
       "      <td id=\"T_b403c_row2_col7\" class=\"data row2 col7\" >-0.379309</td>\n",
       "      <td id=\"T_b403c_row2_col8\" class=\"data row2 col8\" >-0.095704</td>\n",
       "      <td id=\"T_b403c_row2_col9\" class=\"data row2 col9\" >0.263600</td>\n",
       "      <td id=\"T_b403c_row2_col10\" class=\"data row2 col10\" >0.046528</td>\n",
       "    </tr>\n",
       "    <tr>\n",
       "      <th id=\"T_b403c_level0_row3\" class=\"row_heading level0 row3\" >ROE</th>\n",
       "      <td id=\"T_b403c_row3_col0\" class=\"data row3 col0\" >-0.000549</td>\n",
       "      <td id=\"T_b403c_row3_col1\" class=\"data row3 col1\" >-0.043310</td>\n",
       "      <td id=\"T_b403c_row3_col2\" class=\"data row3 col2\" >0.162532</td>\n",
       "      <td id=\"T_b403c_row3_col3\" class=\"data row3 col3\" >1.000000</td>\n",
       "      <td id=\"T_b403c_row3_col4\" class=\"data row3 col4\" >-0.069122</td>\n",
       "      <td id=\"T_b403c_row3_col5\" class=\"data row3 col5\" >-0.052205</td>\n",
       "      <td id=\"T_b403c_row3_col6\" class=\"data row3 col6\" >-0.288524</td>\n",
       "      <td id=\"T_b403c_row3_col7\" class=\"data row3 col7\" >-0.405291</td>\n",
       "      <td id=\"T_b403c_row3_col8\" class=\"data row3 col8\" >-0.030288</td>\n",
       "      <td id=\"T_b403c_row3_col9\" class=\"data row3 col9\" >0.023341</td>\n",
       "      <td id=\"T_b403c_row3_col10\" class=\"data row3 col10\" >-0.063218</td>\n",
       "    </tr>\n",
       "    <tr>\n",
       "      <th id=\"T_b403c_level0_row4\" class=\"row_heading level0 row4\" >Cash Ratio</th>\n",
       "      <td id=\"T_b403c_row4_col0\" class=\"data row4 col0\" >0.127816</td>\n",
       "      <td id=\"T_b403c_row4_col1\" class=\"data row4 col1\" >0.168586</td>\n",
       "      <td id=\"T_b403c_row4_col2\" class=\"data row4 col2\" >0.020605</td>\n",
       "      <td id=\"T_b403c_row4_col3\" class=\"data row4 col3\" >-0.069122</td>\n",
       "      <td id=\"T_b403c_row4_col4\" class=\"data row4 col4\" >1.000000</td>\n",
       "      <td id=\"T_b403c_row4_col5\" class=\"data row4 col5\" >0.113819</td>\n",
       "      <td id=\"T_b403c_row4_col6\" class=\"data row4 col6\" >0.028589</td>\n",
       "      <td id=\"T_b403c_row4_col7\" class=\"data row4 col7\" >0.024759</td>\n",
       "      <td id=\"T_b403c_row4_col8\" class=\"data row4 col8\" >0.135869</td>\n",
       "      <td id=\"T_b403c_row4_col9\" class=\"data row4 col9\" >0.089483</td>\n",
       "      <td id=\"T_b403c_row4_col10\" class=\"data row4 col10\" >0.229672</td>\n",
       "    </tr>\n",
       "    <tr>\n",
       "      <th id=\"T_b403c_level0_row5\" class=\"row_heading level0 row5\" >Net Cash Flow</th>\n",
       "      <td id=\"T_b403c_row5_col0\" class=\"data row5 col0\" >-0.021961</td>\n",
       "      <td id=\"T_b403c_row5_col1\" class=\"data row5 col1\" >0.026746</td>\n",
       "      <td id=\"T_b403c_row5_col2\" class=\"data row5 col2\" >-0.014172</td>\n",
       "      <td id=\"T_b403c_row5_col3\" class=\"data row5 col3\" >-0.052205</td>\n",
       "      <td id=\"T_b403c_row5_col4\" class=\"data row5 col4\" >0.113819</td>\n",
       "      <td id=\"T_b403c_row5_col5\" class=\"data row5 col5\" >1.000000</td>\n",
       "      <td id=\"T_b403c_row5_col6\" class=\"data row5 col6\" >0.044229</td>\n",
       "      <td id=\"T_b403c_row5_col7\" class=\"data row5 col7\" >0.019348</td>\n",
       "      <td id=\"T_b403c_row5_col8\" class=\"data row5 col8\" >-0.051392</td>\n",
       "      <td id=\"T_b403c_row5_col9\" class=\"data row5 col9\" >0.026876</td>\n",
       "      <td id=\"T_b403c_row5_col10\" class=\"data row5 col10\" >0.057039</td>\n",
       "    </tr>\n",
       "    <tr>\n",
       "      <th id=\"T_b403c_level0_row6\" class=\"row_heading level0 row6\" >Net Income</th>\n",
       "      <td id=\"T_b403c_row6_col0\" class=\"data row6 col0\" >0.036625</td>\n",
       "      <td id=\"T_b403c_row6_col1\" class=\"data row6 col1\" >0.179298</td>\n",
       "      <td id=\"T_b403c_row6_col2\" class=\"data row6 col2\" >-0.383433</td>\n",
       "      <td id=\"T_b403c_row6_col3\" class=\"data row6 col3\" >-0.288524</td>\n",
       "      <td id=\"T_b403c_row6_col4\" class=\"data row6 col4\" >0.028589</td>\n",
       "      <td id=\"T_b403c_row6_col5\" class=\"data row6 col5\" >0.044229</td>\n",
       "      <td id=\"T_b403c_row6_col6\" class=\"data row6 col6\" >1.000000</td>\n",
       "      <td id=\"T_b403c_row6_col7\" class=\"data row6 col7\" >0.557752</td>\n",
       "      <td id=\"T_b403c_row6_col8\" class=\"data row6 col8\" >0.589310</td>\n",
       "      <td id=\"T_b403c_row6_col9\" class=\"data row6 col9\" >-0.224022</td>\n",
       "      <td id=\"T_b403c_row6_col10\" class=\"data row6 col10\" >-0.061544</td>\n",
       "    </tr>\n",
       "    <tr>\n",
       "      <th id=\"T_b403c_level0_row7\" class=\"row_heading level0 row7\" >Earnings Per Share</th>\n",
       "      <td id=\"T_b403c_row7_col0\" class=\"data row7 col0\" >0.479604</td>\n",
       "      <td id=\"T_b403c_row7_col1\" class=\"data row7 col1\" >0.175401</td>\n",
       "      <td id=\"T_b403c_row7_col2\" class=\"data row7 col2\" >-0.379309</td>\n",
       "      <td id=\"T_b403c_row7_col3\" class=\"data row7 col3\" >-0.405291</td>\n",
       "      <td id=\"T_b403c_row7_col4\" class=\"data row7 col4\" >0.024759</td>\n",
       "      <td id=\"T_b403c_row7_col5\" class=\"data row7 col5\" >0.019348</td>\n",
       "      <td id=\"T_b403c_row7_col6\" class=\"data row7 col6\" >0.557752</td>\n",
       "      <td id=\"T_b403c_row7_col7\" class=\"data row7 col7\" >1.000000</td>\n",
       "      <td id=\"T_b403c_row7_col8\" class=\"data row7 col8\" >-0.026906</td>\n",
       "      <td id=\"T_b403c_row7_col9\" class=\"data row7 col9\" >-0.260660</td>\n",
       "      <td id=\"T_b403c_row7_col10\" class=\"data row7 col10\" >0.014915</td>\n",
       "    </tr>\n",
       "    <tr>\n",
       "      <th id=\"T_b403c_level0_row8\" class=\"row_heading level0 row8\" >Estimated Shares Outstanding</th>\n",
       "      <td id=\"T_b403c_row8_col0\" class=\"data row8 col0\" >-0.145306</td>\n",
       "      <td id=\"T_b403c_row8_col1\" class=\"data row8 col1\" >0.033656</td>\n",
       "      <td id=\"T_b403c_row8_col2\" class=\"data row8 col2\" >-0.095704</td>\n",
       "      <td id=\"T_b403c_row8_col3\" class=\"data row8 col3\" >-0.030288</td>\n",
       "      <td id=\"T_b403c_row8_col4\" class=\"data row8 col4\" >0.135869</td>\n",
       "      <td id=\"T_b403c_row8_col5\" class=\"data row8 col5\" >-0.051392</td>\n",
       "      <td id=\"T_b403c_row8_col6\" class=\"data row8 col6\" >0.589310</td>\n",
       "      <td id=\"T_b403c_row8_col7\" class=\"data row8 col7\" >-0.026906</td>\n",
       "      <td id=\"T_b403c_row8_col8\" class=\"data row8 col8\" >1.000000</td>\n",
       "      <td id=\"T_b403c_row8_col9\" class=\"data row8 col9\" >-0.014551</td>\n",
       "      <td id=\"T_b403c_row8_col10\" class=\"data row8 col10\" >-0.028155</td>\n",
       "    </tr>\n",
       "    <tr>\n",
       "      <th id=\"T_b403c_level0_row9\" class=\"row_heading level0 row9\" >P/E Ratio</th>\n",
       "      <td id=\"T_b403c_row9_col0\" class=\"data row9 col0\" >0.260273</td>\n",
       "      <td id=\"T_b403c_row9_col1\" class=\"data row9 col1\" >-0.002491</td>\n",
       "      <td id=\"T_b403c_row9_col2\" class=\"data row9 col2\" >0.263600</td>\n",
       "      <td id=\"T_b403c_row9_col3\" class=\"data row9 col3\" >0.023341</td>\n",
       "      <td id=\"T_b403c_row9_col4\" class=\"data row9 col4\" >0.089483</td>\n",
       "      <td id=\"T_b403c_row9_col5\" class=\"data row9 col5\" >0.026876</td>\n",
       "      <td id=\"T_b403c_row9_col6\" class=\"data row9 col6\" >-0.224022</td>\n",
       "      <td id=\"T_b403c_row9_col7\" class=\"data row9 col7\" >-0.260660</td>\n",
       "      <td id=\"T_b403c_row9_col8\" class=\"data row9 col8\" >-0.014551</td>\n",
       "      <td id=\"T_b403c_row9_col9\" class=\"data row9 col9\" >1.000000</td>\n",
       "      <td id=\"T_b403c_row9_col10\" class=\"data row9 col10\" >0.036422</td>\n",
       "    </tr>\n",
       "    <tr>\n",
       "      <th id=\"T_b403c_level0_row10\" class=\"row_heading level0 row10\" >P/B Ratio</th>\n",
       "      <td id=\"T_b403c_row10_col0\" class=\"data row10 col0\" >0.124634</td>\n",
       "      <td id=\"T_b403c_row10_col1\" class=\"data row10 col1\" >0.034329</td>\n",
       "      <td id=\"T_b403c_row10_col2\" class=\"data row10 col2\" >0.046528</td>\n",
       "      <td id=\"T_b403c_row10_col3\" class=\"data row10 col3\" >-0.063218</td>\n",
       "      <td id=\"T_b403c_row10_col4\" class=\"data row10 col4\" >0.229672</td>\n",
       "      <td id=\"T_b403c_row10_col5\" class=\"data row10 col5\" >0.057039</td>\n",
       "      <td id=\"T_b403c_row10_col6\" class=\"data row10 col6\" >-0.061544</td>\n",
       "      <td id=\"T_b403c_row10_col7\" class=\"data row10 col7\" >0.014915</td>\n",
       "      <td id=\"T_b403c_row10_col8\" class=\"data row10 col8\" >-0.028155</td>\n",
       "      <td id=\"T_b403c_row10_col9\" class=\"data row10 col9\" >0.036422</td>\n",
       "      <td id=\"T_b403c_row10_col10\" class=\"data row10 col10\" >1.000000</td>\n",
       "    </tr>\n",
       "  </tbody>\n",
       "</table>\n"
      ],
      "text/plain": [
       "<pandas.io.formats.style.Styler at 0x1ad6de7a850>"
      ]
     },
     "execution_count": 95,
     "metadata": {},
     "output_type": "execute_result"
    }
   ],
   "source": [
    "dataframe.corr().style.background_gradient(cmap=\"Blues\")\n",
    "# Visualize the same correlation"
   ]
  },
  {
   "cell_type": "markdown",
   "metadata": {},
   "source": [
    "##### Answers for Question 3\n",
    "\n",
    "<h4>1. Findings from the visual: </h4>\n",
    "The Correlations we found are as below<br>\n",
    "a) A strong positive correlation between Earnings per share and Current Price, Net Income. <br>\n",
    "b) A strong positive correlation between Estimated Sharest outstanding and Net Income.<br>\n",
    "c) A slightly positive correlation between Net Cash Flow and Net Income, Earnings per Share<br>\n",
    "d) Strong negative correlations between Volatility and Net Income, Price Change, Earnings per Share<br>\n",
    "e) Almost No correlation between Current Price and ROE,  P/E Ratio and Price Change.<br>\n",
    "\n",
    "<h4>2. Reason for selecting the chart type - Heatmap </h4>\n",
    "a)  A correlation heatmap is a heatmap that shows a 2D correlation matrix between two discrete dimensions, using colored cells to represent data <br>\n",
    "b) Correlation heatmaps are a type of plot that visualize the strength of relationships between numerical variables. <br>\n",
    "c) We can Visualise how well features correlate with each other with a simple heatmap<br>\n",
    "\n",
    "\n",
    "<h4>3. Preattentive Attributes used</h4>\n",
    "- We look at <b>Color</b> coding to check the correlation. Hues and intensities are preattentively processed here.<br>\n",
    "- <b>Enclosure</b> - all of the data is enclosed here within the heatmap chart.\n",
    "\n",
    "<h4>4. Gestalt Principles used</h4>\n",
    "- Law of Proximity <br>\n",
    "- Law of Similarity (in colors chosen with a grade)\n",
    "\n",
    "<hr  style=\"height:3px;\">"
   ]
  },
  {
   "cell_type": "markdown",
   "metadata": {
    "id": "DeuNFfRpnDUD"
   },
   "source": [
    "  ### Question 4\n",
    "<h4>\n",
    "Show ,how average cash ratio varies across economic sectors.  \n",
    "<br><br>\n",
    "create appropriate visual to perform the above task.\n",
    "<h4> Answer in markdown cells below the visual\n",
    "<br><br>\n",
    "<ol>\n",
    "    <li>Summarise your findings from the visual</li>\n",
    "    <li>The reason for selecting the chart type you did</li>\n",
    "    <li>Mention the pre-attentive attributes used.(atleast 2)</li>\n",
    "    <li>Mention the gestalt principles used.(atleast 2)</li>\n",
    "</ol>"
   ]
  },
  {
   "cell_type": "code",
   "execution_count": 96,
   "metadata": {
    "id": "U2HspEG6nDUE"
   },
   "outputs": [
    {
     "data": {
      "text/plain": [
       "<AxesSubplot:xlabel='GICS Sector'>"
      ]
     },
     "execution_count": 96,
     "metadata": {},
     "output_type": "execute_result"
    },
    {
     "data": {
      "image/png": "[encoded data removed]",
      "text/plain": [
       "<Figure size 432x288 with 1 Axes>"
      ]
     },
     "metadata": {
      "needs_background": "light"
     },
     "output_type": "display_data"
    }
   ],
   "source": [
    "dataframe.groupby('GICS Sector')['Cash Ratio'].mean().plot(kind='bar')"
   ]
  },
  {
   "cell_type": "markdown",
   "metadata": {},
   "source": [
    "<h4>1. Findings from the visual </h4>\n",
    "We are plotting the average cash ratio across economic sectors in the above bar chart.<br>\n",
    "We find that the average varies from ~145 to ~15 <br>\n",
    "The highest Cash Ratio average is seen in Information Security Sector <br>\n",
    "The lowest Cash Ration average is seen in Utilities sector.\n",
    "\n",
    "<h4>2. Reason for selecting the chart type - Bar Charts </h4>\n",
    "a) Bar charts are one of the many techniques used to present data in a visual form so that the reader may readily recognize patterns or trends. <br>\n",
    "b) A bar diagram makes it easy> to compare sets of data between different groups at a glance. In our case, we quickly get to know the average of each sector.<br>\n",
    "c) Bar charts usually present categorical variables, discrete variables<br>\n",
    "d) Bar chart is used when you want to show a distribution of data points or perform a comparison of metric <br>\n",
    "\n",
    "\n",
    "<h4>3. Preattentive Attributes used</h4>\n",
    "Which information caught your attention:<br> \n",
    "- We Compare the <b>lengths</b> to find the relative Cash Ratio.<br>\n",
    "- Each industry is equally important, so we have used the same <b>Color</b>\n",
    "\n",
    "<h4>4. Gestalt Principles used</h4>\n",
    "- Law of Similarity in each of the bars<br>\n",
    "- Law of Common Region, the data is one region within the chart\n",
    "<hr  style=\"height:3px;\">"
   ]
  },
  {
   "cell_type": "markdown",
   "metadata": {
    "id": "lF9Sdb7ynDUG"
   },
   "source": [
    "  ### Question 5\n",
    "<h4>\n",
    "Identify the % distribution of companies as per the GICS eonomic sectors.\n",
    "<h4>Write the python code in the below cell to create appropriate visual to perform the above task.\n",
    "<h4> Answer in markdown cells below the visual\n",
    "<br><br>\n",
    "<ol>\n",
    "    <li>Summarise your findings from the visual</li>\n",
    "    <li>The reason for selecting the chart type you did</li>\n",
    "    <li>Mention the pre-attentive attributes used.(atleast 2)</li>\n",
    "    <li>Mention the gestalt principles used.(atleast 2)</li>\n",
    "</ol>"
   ]
  },
  {
   "cell_type": "code",
   "execution_count": 97,
   "metadata": {
    "id": "0m1fF0Yctz25"
   },
   "outputs": [
    {
     "data": {
      "text/plain": [
       "<AxesSubplot:title={'center':'GICS Sector'}, ylabel='GICS Sector'>"
      ]
     },
     "execution_count": 97,
     "metadata": {},
     "output_type": "execute_result"
    },
    {
     "data": {
      "image/png": "[encoded data removed]",
      "text/plain": [
       "<Figure size 576x576 with 1 Axes>"
      ]
     },
     "metadata": {},
     "output_type": "display_data"
    }
   ],
   "source": [
    "df1 = dataframe['GICS Sector'].value_counts()\n",
    "#add colors\n",
    "colors = ['#ff9999','#66b3ff','#99ff99','#ffcc99']\n",
    "df1.plot.pie(autopct='%1.1f%%',subplots=False,title=\"GICS Sector\", colors = colors,figsize=(8,8) )\n"
   ]
  },
  {
   "cell_type": "markdown",
   "metadata": {},
   "source": [
    "<h4>1. Findings from the visual </h4>\n",
    "We are visualizing the % distribution of companies as per the GICS eonomic sectors <br>\n",
    "As seen in the chart above, Industrials, Financials, Health care and Consumer Discretionary together make up 50 of the companies. <br>\n",
    "Telecommunication Services, Consumer Staples, and Materials have the lowest share amont the companies.<br>\n",
    "\n",
    "<h4>2. Reason for selecting the chart type - Pie chart</h4> \n",
    "- We use Pie chart here to visualize the % distribution<br>\n",
    "- Pie charts are used here to represent sample data—with data points belonging to a combination of different categories. Each of these categories is represented as a “slice of the pie.” The size of each slice is directly proportional to the number of data points that belong to a particular category.<br>\n",
    "- Pie chart can only be used if the sum of the individual parts add up to a meaningful whole.<br>\n",
    "\n",
    "\n",
    "<h4>3. Preattentive Attributes used</h4>\n",
    "Which information caught your attention:<br> \n",
    "- <b>Color</b> difference in each pie slice helps differentiate each Industry.<br>\n",
    "- <b>Enclosure</b> - the sum total of all values in pie comes to 100%\n",
    "\n",
    "\n",
    "<h4>4. Gestalt Principles used</h4>\n",
    "- Principle of closure states that when we look at a complex arrangement of visual elements in a pie chart, we tend to look for a single, recognizable pattern.<br>\n",
    "- Law of Similarity in each pie slice\n",
    "<hr  style=\"height:3px;\">"
   ]
  },
  {
   "cell_type": "markdown",
   "metadata": {
    "id": "ciXnXIuGoCKE"
   },
   "source": [
    "# Group's choice-2 Marks\n",
    " \n",
    "#### Frame 1 (more) question which will help in the EDA(Exploratory Data Analysis) of the given data set and answer the same using the best visual.\n",
    " \n",
    " 1. Write the question in a markdown cell\n",
    " 2. Below the question,in a coding cell,write the python code to create the visual to answer the question  \n",
    "\n",
    "<h4> Answer in markdown cells below the visual <br><br>\n",
    "   1.Summarise your findings from the visual.<br>\n",
    "   2.The reason for selecting the chart type you did <br>\n",
    "   3.Mention the pre-attentive attributes used.(atleast 2)<br>\n",
    "   4.Mention the gestalt principles used.(atleast 2)<br>"
   ]
  },
  {
   "cell_type": "markdown",
   "metadata": {},
   "source": [
    "Exploratory data analysis (EDA) involves using graphics and visualizations to explore and analyze a data set.  \\\n",
    "Exploratory Data Analysis refers to the critical process of performing initial investigations on data so as to discover patterns, to spot anomalies, recognize errors and check correlations with the help of summary statistics and graphical representations. \\\n",
    "The given data set in this problem is about Stock price data from a particular exchange, and in the previous questions we have done the initial investigations, discovered patterns, spot/fix anomalies and performed correlations.  \\\n",
    "Lets add another question to check the important factors, feature selection using sns, question shown below."
   ]
  },
  {
   "cell_type": "markdown",
   "metadata": {},
   "source": [
    "#### Question that will help in the EDA(Exploratory Data Analysis) of the given data set  \n",
    "### \"What are the most relevant features in this dataset?\""
   ]
  },
  {
   "cell_type": "code",
   "execution_count": 98,
   "metadata": {
    "id": "RhzvYzb0nDUI"
   },
   "outputs": [
    {
     "data": {
      "image/png": "[encoded data removed]",
      "text/plain": [
       "<Figure size 864x864 with 2 Axes>"
      ]
     },
     "metadata": {
      "needs_background": "light"
     },
     "output_type": "display_data"
    }
   ],
   "source": [
    "#Using Pearson Correlation\n",
    "pyplot.figure(figsize=(12,12))\n",
    "cor = dataframe.corr()\n",
    "sns.heatmap(cor, annot=True, cmap=\"Blues\")\n",
    "pyplot.show()"
   ]
  },
  {
   "cell_type": "code",
   "execution_count": 99,
   "metadata": {},
   "outputs": [
    {
     "data": {
      "text/plain": [
       "Current Price                   1.000000\n",
       "Price Change                    0.134982\n",
       "Volatility                      0.124257\n",
       "Cash Ratio                      0.127816\n",
       "Earnings Per Share              0.479604\n",
       "Estimated Shares Outstanding    0.145306\n",
       "P/E Ratio                       0.260273\n",
       "P/B Ratio                       0.124634\n",
       "Name: Current Price, dtype: float64"
      ]
     },
     "execution_count": 99,
     "metadata": {},
     "output_type": "execute_result"
    }
   ],
   "source": [
    "#Correlation with output variable\n",
    "cor_target = abs(cor[\"Current Price\"])#Selecting highly correlated features to Current Price\n",
    "relevant_features = cor_target[cor_target>0.1]\n",
    "relevant_features"
   ]
  },
  {
   "cell_type": "markdown",
   "metadata": {},
   "source": [
    "<h4>1. Findings from the visual</h4>\n",
    "- The most important feature is Current Price, so we choose that to find its relevant features<br>\n",
    "- We experimented with Correlation target of 0.5, 0.4, 0.3 and 0.2 - they did not net the relevant features since most of the correlation is slightly positive only.<br>\n",
    "- We used 0.1 as the Correlation target, With this value we find Current price is relevant to Earnings Per Share, P/E Ration, Price Change, Volatility, Cash Ratio, Estimated Shares Outstanding, P/B ratio.<br><br>\n",
    "\n",
    "<h4>2. Reason for selecting the chart type</h4>\n",
    "- We have used Heatmap here to find the correlation<br>\n",
    "- We used Correlation target and then Relevant features to filter the list of relevant features to Current Price<br>\n",
    "- A correlation heatmap is a heatmap that shows a 2D correlation matrix between two discrete dimensions, using colored cells to represent data<br>\n",
    "- Correlation heatmaps are a type of plot that visualize the strength of relationships between numerical variables.<br>\n",
    "- We can Visualise how well features correlate with each other with a simple heatmap\n",
    "\n",
    "<h4>3. Preattentive Attributes used</h4>\n",
    "Which information caught your attention:<br> \n",
    "- We look at <b>Color</b> coding to check the correlation. Hues and intensities are preattentively processed here.<br>\n",
    "- <b>Enclosure</b> - all of the data is enclosed here within the heatmap chart.\n",
    "\n",
    "<h4>4. Gestalt Principles used</h4>\n",
    "- Law of Proximity <br>\n",
    "- Law of Similarity (in colors chosen with a grade)\n",
    "\n",
    "<hr  style=\"height:3px;\">"
   ]
  },
  {
   "cell_type": "markdown",
   "metadata": {
    "id": "Dy22QpOZnDUK"
   },
   "source": [
    "<h1><center> ************ END OF ASSIGNMENT ****************</center></h1>"
   ]
  }
 ],
 "metadata": {
  "anaconda-cloud": {},
  "colab": {
   "collapsed_sections": [],
   "name": "dvi-a2-ps9-wb.ipynb",
   "provenance": []
  },
  "kernelspec": {
   "display_name": "Python 3 (ipykernel)",
   "language": "python",
   "name": "python3"
  },
  "language_info": {
   "codemirror_mode": {
    "name": "ipython",
    "version": 3
   },
   "file_extension": ".py",
   "mimetype": "text/x-python",
   "name": "python",
   "nbconvert_exporter": "python",
   "pygments_lexer": "ipython3",
   "version": "3.9.7"
  }
 },
 "nbformat": 4,
 "nbformat_minor": 1
}
