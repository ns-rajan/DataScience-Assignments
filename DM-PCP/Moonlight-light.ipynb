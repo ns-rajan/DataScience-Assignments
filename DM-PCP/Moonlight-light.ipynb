{
 "cells": [
  {
   "cell_type": "code",
   "execution_count": null,
   "id": "125c1fa8",
   "metadata": {},
   "outputs": [],
   "source": [
    "t=int(raw_input())\n",
    "for i in range(t):\n",
    "    b,g=map(int,input().split())\n",
    "    bb=list(map(int,input().split()))\n",
    "    gg=list(map(int,input().split()))\n",
    "    if(b>g):\n",
    "        print(\"NO\")\n",
    "    else:\n",
    "        f=0\n",
    "        bb.sort()\n",
    "        gg.sort()\n",
    "        for i in range(b):\n",
    "            if(bb[i]<=gg[i]):\n",
    "                print(\"NO\")\n",
    "                f=1\n",
    "                break\n",
    "        if(f==0):\n",
    "            print(\"YES\")"
   ]
  }
 ],
 "metadata": {
  "kernelspec": {
   "display_name": "Python 3 (ipykernel)",
   "language": "python",
   "name": "python3"
  },
  "language_info": {
   "codemirror_mode": {
    "name": "ipython",
    "version": 3
   },
   "file_extension": ".py",
   "mimetype": "text/x-python",
   "name": "python",
   "nbconvert_exporter": "python",
   "pygments_lexer": "ipython3",
   "version": "3.9.7"
  }
 },
 "nbformat": 4,
 "nbformat_minor": 5
}
