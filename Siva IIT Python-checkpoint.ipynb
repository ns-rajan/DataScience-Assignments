{
 "cells": [
  {
   "cell_type": "code",
   "execution_count": 1,
   "id": "95b2a719",
   "metadata": {},
   "outputs": [
    {
     "name": "stdout",
     "output_type": "stream",
     "text": [
      "85\n"
     ]
    }
   ],
   "source": [
    "def do_something(filename, sub):\n",
    "    f = open(filename, 'r')\n",
    "    # Ignore the header\n",
    "    f.readline()\t\n",
    "    # we are now at the beginning of the second line of the file\n",
    "    val, count = 0, 0\n",
    "    \n",
    "    for line in f:\n",
    "        sno, name, gender, ct, python, pdsa = line.strip().split(',')\n",
    "        sno, ct, python, pdsa = int(sno), int(ct), int(python), int(pdsa)\n",
    "        if sub == 'CT':\n",
    "            val = val + ct\n",
    "        elif sub == 'Python':\n",
    "            val = val + python\n",
    "        elif sub == 'PDSA':\n",
    "            val = val + pdsa\n",
    "        count = count + 1\n",
    "        \n",
    "    f.close()\n",
    "    return val / count\n",
    "\n",
    "# Hint: int(1.5) is 1\n",
    "print(int(do_something('scores.csv', 'Python')))"
   ]
  },
  {
   "cell_type": "code",
   "execution_count": null,
   "id": "0c5f9df4",
   "metadata": {},
   "outputs": [],
   "source": []
  },
  {
   "cell_type": "code",
   "execution_count": 11,
   "id": "3f99ac1a",
   "metadata": {},
   "outputs": [
    {
     "name": "stdout",
     "output_type": "stream",
     "text": [
      "87\n"
     ]
    }
   ],
   "source": [
    "def get_scores(filename, index):\n",
    "    f = open(filename, 'r')\n",
    "    # Ignore the header\n",
    "    f.readline()\t\n",
    "    # we are now at the beginning of the second line of the file\n",
    "    \n",
    "    scores = [ ]\n",
    "    line = f.readline()\n",
    "    while line != '':\n",
    "        L = line.strip().split(',')\n",
    "        scores.append(int(L[index]))\n",
    "        line = f.readline()\n",
    "    \n",
    "    f.close()\n",
    "    return scores\n",
    "\n",
    "\n",
    "def do_something(L):\n",
    "    L.sort()\n",
    "    mid = len(L) // 2\n",
    "    if len(L) % 2 == 0:\n",
    "        return (L[mid] + L[mid - 1]) // 2\n",
    "    else:\n",
    "        return L[mid]\n",
    "    \n",
    "print(do_something(get_scores('scores.csv', 4)))\n",
    "\n",
    "#get_scores('scores.csv', 4)"
   ]
  },
  {
   "cell_type": "code",
   "execution_count": 12,
   "id": "508c4ead",
   "metadata": {},
   "outputs": [],
   "source": [
    "def do_something(infile, gender, outfile):\n",
    "    f = open(infile, 'r')\n",
    "    g = open(outfile, 'w')\n",
    "    header = f.readline()\n",
    "    # we are now at the beginning of the second line of the file\n",
    "    # 'good,M,great'.replace(',M,', ',')\n",
    "    # returns 'good,great'\n",
    "    header = header.replace(',Gender,', ',')\n",
    "    g.write(header)\n",
    "    \n",
    "    for line in f.readlines():\n",
    "        fields = line.strip().split(',')\n",
    "        gender_in_file = fields[2]\n",
    "        if gender_in_file == gender:\n",
    "            out_line = line.replace(f',{gender},', ',')\n",
    "            g.write(out_line)\n",
    "    \n",
    "    f.close()\n",
    "    g.close()\n",
    "    \n",
    "do_something('scores.csv', 'F', 'out.csv')"
   ]
  },
  {
   "cell_type": "code",
   "execution_count": null,
   "id": "cd34737c",
   "metadata": {},
   "outputs": [],
   "source": []
  },
  {
   "cell_type": "code",
   "execution_count": 13,
   "id": "51e46e70",
   "metadata": {},
   "outputs": [
    {
     "name": "stdout",
     "output_type": "stream",
     "text": [
      "6\n"
     ]
    }
   ],
   "source": [
    "def do_something(filename):\n",
    "    f = open(filename, 'r')\n",
    "    maxword = f.readline().strip()\n",
    "    count = 1\n",
    "    # we are now at the beginning of the second line\n",
    "    for line in f:\n",
    "        word = line.strip()\n",
    "        if len(word) > len(maxword):\n",
    "            maxword = word\n",
    "            count = 1\n",
    "        elif len(word) == len(maxword):\n",
    "            count += 1\n",
    "    \n",
    "    f.close()\n",
    "    return count\n",
    "\n",
    "print(do_something('words.txt'))"
   ]
  },
  {
   "cell_type": "code",
   "execution_count": 20,
   "id": "1a1d8840",
   "metadata": {},
   "outputs": [],
   "source": [
    "f = open('pattern.txt', 'w')\n",
    "letters = 'abcdefghijklmnopqrstuvwxyz'\n",
    "n = len(letters) // 2\n",
    "for i in range(n):\n",
    "    line = letters[i] + letters[-1 - i]\n",
    "    if i != n - 1:\n",
    "        line = line + '\\n'\n",
    "    f.write(line)\n",
    "f.close()"
   ]
  },
  {
   "cell_type": "code",
   "execution_count": 32,
   "id": "f6f79994",
   "metadata": {},
   "outputs": [
    {
     "data": {
      "text/plain": [
       "(2, 70)"
      ]
     },
     "execution_count": 32,
     "metadata": {},
     "output_type": "execute_result"
    }
   ],
   "source": [
    "def get_goals(filename, country):\n",
    "    \"\"\"\n",
    "    Get the count of players and their cumulative goals for this country\n",
    "\n",
    "    Arguments:\n",
    "        filename: string\n",
    "        country: string\n",
    "    Return: \n",
    "        result: tuple, (integer, integer)\n",
    "    \"\"\"\n",
    "    f = open(filename, 'r')\n",
    "    scores = [ ]\n",
    "    line = f.readline()\n",
    "    returnTuple = (-1,-1)\n",
    "    goalsCount = 0\n",
    "    numPlayers = 0\n",
    "    while line != '':\n",
    "        L = line.strip().split(',')\n",
    "        #scores.append(int(L[2]))\n",
    "        if(L[1] == country):\n",
    "            goalsCount = goalsCount + int(L[2])\n",
    "            numPlayers = numPlayers +1\n",
    "            #print(goalsCount)\n",
    "        \n",
    "        line = f.readline()\n",
    "    if(goalsCount > 0 ): returnTuple = (numPlayers,goalsCount)\n",
    "    f.close()\n",
    "    return returnTuple\n",
    "\n",
    "get_goals(\"filename.csv\", \"Brazil\")"
   ]
  },
  {
   "cell_type": "code",
   "execution_count": 42,
   "id": "49f60417",
   "metadata": {},
   "outputs": [],
   "source": [
    "def num_to_words(mat):\n",
    "    \"\"\"\n",
    "    Convert matrix to file\n",
    "\n",
    "    Argument: \n",
    "        mat: list of lists\n",
    "    Return:\n",
    "        None\n",
    "    \"\"\"\n",
    "    #print (len(mat))\n",
    "    f = open('words.csv', 'w')\n",
    "    matLength = len(mat)\n",
    "    for j in range(matLength):\n",
    "        #print(mat[j])\n",
    "        numLength = len(mat[j])\n",
    "        line = \"\"\n",
    "        for k in range(numLength):\n",
    "            line = line + numNames[mat[j][k]]\n",
    "            if j != numLength - 1:\n",
    "                line = line + ','\n",
    "\n",
    "        if j != matLength - 1:\n",
    "            line = line + '\\n'\n",
    "        f.write(line)\n",
    "    f.close()\n",
    "\n",
    "\n",
    "mat = [[1, 2], [3, 4]]\n",
    "numNames = [\"zero\",\"one\",\"two\",\"three\",\"four\",\"five\",\"six\",\"seven\",\"eight\",\"nine\"]\n",
    "num_to_words(mat)"
   ]
  },
  {
   "cell_type": "code",
   "execution_count": null,
   "id": "327a2a74",
   "metadata": {},
   "outputs": [],
   "source": []
  }
 ],
 "metadata": {
  "kernelspec": {
   "display_name": "Python 3 (ipykernel)",
   "language": "python",
   "name": "python3"
  },
  "language_info": {
   "codemirror_mode": {
    "name": "ipython",
    "version": 3
   },
   "file_extension": ".py",
   "mimetype": "text/x-python",
   "name": "python",
   "nbconvert_exporter": "python",
   "pygments_lexer": "ipython3",
   "version": "3.9.7"
  }
 },
 "nbformat": 4,
 "nbformat_minor": 5
}
