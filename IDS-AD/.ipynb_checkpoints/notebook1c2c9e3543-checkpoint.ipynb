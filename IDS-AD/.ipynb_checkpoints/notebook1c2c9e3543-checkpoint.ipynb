{
 "cells": [
  {
   "cell_type": "markdown",
   "metadata": {},
   "source": [
    "# Android Malaware Detection"
   ]
  },
  {
   "cell_type": "markdown",
   "metadata": {},
   "source": [
    "**Introduction**"
   ]
  },
  {
   "cell_type": "markdown",
   "metadata": {},
   "source": [
    "\n",
    "With the popularity of Android devices, the number of applications made for the android operating system is\n",
    "also increasing day by day. But the biggest challenge in this scenario is to identify if an application is an authentic\n",
    "application or a malware. This project tries to identify an application as malware/not based on the permissions\n",
    "required by the application"
   ]
  },
  {
   "cell_type": "markdown",
   "metadata": {},
   "source": [
    "**Dataset**"
   ]
  },
  {
   "cell_type": "markdown",
   "metadata": {},
   "source": [
    "\n",
    "The dataset given here is taken from Kaggle and consists of about 331 features which are the different android\n",
    "permissions asked by the application (0 denotes not required and 1 denotes required). The no rows/malware\n",
    "readings for each permission is 398. It is the ‘type’ label which represents a given row corresponding to whether\n",
    "an application is malware or not."
   ]
  },
  {
   "cell_type": "markdown",
   "metadata": {},
   "source": [
    "**Tasks in this assignment**"
   ]
  },
  {
   "cell_type": "markdown",
   "metadata": {},
   "source": [
    "1. Write a Data Science Proposal for achieving the objective mentioned.\n",
    "2. Perform exploratory analysis on the data and describe your understanding of the data.\n",
    "3. Perform data wrangling / pre-processing on the data if required\n",
    "    a. E.g., missing data, normalization, discretization, etc.\n",
    "4. Apply any two feature engineering techniques.\n",
    "5. Plot top 10 features.\n",
    "6. Implement any two Machine Learning models (SVM or Decision Tree or Random Forest or kNN or Naïve Bayes etc)\n",
    "7. Compare the performance of the two models. Provide a table for comparison. (Here you may use the combination of FE1+ML1, FE1+ML2, FE2+ML1 and FE2+ML2 etc)\n",
    "8. Present the conclusions/results in the format shared.\n"
   ]
  },
  {
   "cell_type": "markdown",
   "metadata": {},
   "source": [
    "**Expected Submissions**"
   ]
  },
  {
   "cell_type": "markdown",
   "metadata": {},
   "source": [
    "Two files are expected as the assignment submission.\n",
    "1. The summary of the work in the template provided. (you may fill only the boxes relevant to this problem\n",
    "statement)\n",
    "2. The executed ipynb file with clear subdivision of the codes and brief description of the purpose of\n",
    "respective code. All the executed tables or graphs and results should be present in the ipynb file. The\n",
    "ipynb file may be submitted as a single .pdf file."
   ]
  },
  {
   "cell_type": "markdown",
   "metadata": {},
   "source": [
    "#### Import packages"
   ]
  },
  {
   "cell_type": "code",
   "execution_count": null,
   "metadata": {
    "_cell_guid": "b1076dfc-b9ad-4769-8c92-a6c4dae69d19",
    "_uuid": "8f2839f25d086af736a60e9eeb907d3b93b6e0e5",
    "execution": {
     "iopub.execute_input": "2021-08-22T17:31:03.329395Z",
     "iopub.status.busy": "2021-08-22T17:31:03.328758Z",
     "iopub.status.idle": "2021-08-22T17:31:04.336832Z",
     "shell.execute_reply": "2021-08-22T17:31:04.335939Z",
     "shell.execute_reply.started": "2021-08-22T17:31:03.329292Z"
    }
   },
   "outputs": [],
   "source": [
    "from sklearn.naive_bayes import GaussianNB, BernoulliNB\n",
    "from sklearn.metrics import accuracy_score, classification_report\n",
    "from sklearn.ensemble import BaggingClassifier\n",
    "from sklearn.neighbors import KNeighborsClassifier\n",
    "from sklearn.linear_model import SGDClassifier\n",
    "from sklearn.model_selection import train_test_split\n",
    "from sklearn.metrics import cohen_kappa_score\n",
    "from sklearn.metrics import confusion_matrix\n",
    "from sklearn.ensemble import RandomForestClassifier\n",
    "import matplotlib.pyplot as plt\n",
    "from sklearn import preprocessing\n",
    "import torch\n",
    "from sklearn import svm\n",
    "from sklearn import tree\n",
    "import pandas as pd\n",
    "import pickle\n",
    "import numpy as np\n",
    "import seaborn as sns\n",
    "import category_encoders as ce\n",
    "from sklearn.tree import DecisionTreeClassifier\n",
    "import matplotlib.pyplot as plt\n",
    "from sklearn.metrics import confusion_matrix\n",
    "from sklearn import tree"
   ]
  },
  {
   "cell_type": "markdown",
   "metadata": {},
   "source": [
    "### Load Data"
   ]
  },
  {
   "cell_type": "markdown",
   "metadata": {},
   "source": [
    "\n",
    "Read dataset into pandas dataframe"
   ]
  },
  {
   "cell_type": "code",
   "execution_count": null,
   "metadata": {
    "execution": {
     "iopub.execute_input": "2021-08-22T17:31:04.338814Z",
     "iopub.status.busy": "2021-08-22T17:31:04.338531Z",
     "iopub.status.idle": "2021-08-22T17:31:04.389926Z",
     "shell.execute_reply": "2021-08-22T17:31:04.388939Z",
     "shell.execute_reply.started": "2021-08-22T17:31:04.338787Z"
    }
   },
   "outputs": [],
   "source": [
    "df = pd.read_csv(\"../input/androidmalwaredetection/Dataset.csv\", sep=\";\")\n",
    "df.shape\n",
    "df.columns = map(str.lower, df.columns)"
   ]
  },
  {
   "cell_type": "markdown",
   "metadata": {},
   "source": [
    "#### Exploratory Analysis"
   ]
  },
  {
   "cell_type": "markdown",
   "metadata": {},
   "source": [
    "List the features"
   ]
  },
  {
   "cell_type": "code",
   "execution_count": null,
   "metadata": {
    "execution": {
     "iopub.execute_input": "2021-08-22T17:31:04.391913Z",
     "iopub.status.busy": "2021-08-22T17:31:04.391596Z",
     "iopub.status.idle": "2021-08-22T17:31:04.423602Z",
     "shell.execute_reply": "2021-08-22T17:31:04.416439Z",
     "shell.execute_reply.started": "2021-08-22T17:31:04.391883Z"
    }
   },
   "outputs": [],
   "source": [
    "for column in df.columns.tolist():\n",
    "    print(column)"
   ]
  },
  {
   "cell_type": "markdown",
   "metadata": {},
   "source": [
    "### Data wrangling and Pre-processing"
   ]
  },
  {
   "cell_type": "markdown",
   "metadata": {},
   "source": [
    "Get all non numeric values from the dataset"
   ]
  },
  {
   "cell_type": "code",
   "execution_count": null,
   "metadata": {
    "execution": {
     "iopub.execute_input": "2021-08-22T17:31:04.435431Z",
     "iopub.status.busy": "2021-08-22T17:31:04.435083Z",
     "iopub.status.idle": "2021-08-22T17:31:04.450538Z",
     "shell.execute_reply": "2021-08-22T17:31:04.449343Z",
     "shell.execute_reply.started": "2021-08-22T17:31:04.4354Z"
    }
   },
   "outputs": [],
   "source": [
    "null_series = df.isnull().sum()\n",
    "count =0\n",
    "for _, val in null_series.iteritems():\n",
    "    if(val>0):\n",
    "        print (_ + \"      \"+ str(val))\n",
    "    else:\n",
    "        count = count +1\n",
    "print(\"number of columns with no null values: \"+ str(count))\n",
    "\n",
    "na_series = df.isna().sum()\n",
    "count =0\n",
    "for _, val in na_series.iteritems():\n",
    "    if(val>0):\n",
    "        print (_ + \"      \"+ str(val))\n",
    "    else:\n",
    "        count = count +1\n",
    "print(\"number of columns with no na values: \"+ str(count))"
   ]
  },
  {
   "cell_type": "markdown",
   "metadata": {},
   "source": [
    "So there are no missing values in the dataset"
   ]
  },
  {
   "cell_type": "markdown",
   "metadata": {},
   "source": [
    "Find all outlier values in each column"
   ]
  },
  {
   "cell_type": "code",
   "execution_count": null,
   "metadata": {
    "execution": {
     "iopub.execute_input": "2021-08-22T17:31:04.452986Z",
     "iopub.status.busy": "2021-08-22T17:31:04.452522Z",
     "iopub.status.idle": "2021-08-22T17:31:04.752095Z",
     "shell.execute_reply": "2021-08-22T17:31:04.750577Z",
     "shell.execute_reply.started": "2021-08-22T17:31:04.452941Z"
    }
   },
   "outputs": [],
   "source": [
    "onezero = 0\n",
    "for column in df.columns:\n",
    "    cnt = len(df[(df[column]!= 0) & (df[column]!= 1)])\n",
    "    if(cnt > 0):\n",
    "        print(column + \" has \"+ str(cnt) +\" rows with value other than 0,1\")\n",
    "    else:\n",
    "        onezero = onezero + 1\n",
    "print(\"Total number of features with values as only 0,1: \" + str(onezero))"
   ]
  },
  {
   "cell_type": "markdown",
   "metadata": {},
   "source": [
    "There are no outliers in any column"
   ]
  },
  {
   "cell_type": "markdown",
   "metadata": {},
   "source": [
    "Since all values are either 0 or 1 no need to perform normalization"
   ]
  },
  {
   "cell_type": "markdown",
   "metadata": {},
   "source": [
    "So let's cast the dataframe columns to integer type to ease out our analysis process"
   ]
  },
  {
   "cell_type": "code",
   "execution_count": null,
   "metadata": {
    "execution": {
     "iopub.execute_input": "2021-08-22T17:31:04.753625Z",
     "iopub.status.busy": "2021-08-22T17:31:04.75333Z",
     "iopub.status.idle": "2021-08-22T17:31:04.760423Z",
     "shell.execute_reply": "2021-08-22T17:31:04.759436Z",
     "shell.execute_reply.started": "2021-08-22T17:31:04.753595Z"
    }
   },
   "outputs": [],
   "source": [
    "df = df.astype(\"int64\")"
   ]
  },
  {
   "cell_type": "markdown",
   "metadata": {},
   "source": [
    "View sample data"
   ]
  },
  {
   "cell_type": "code",
   "execution_count": null,
   "metadata": {
    "execution": {
     "iopub.execute_input": "2021-08-22T17:31:04.762057Z",
     "iopub.status.busy": "2021-08-22T17:31:04.761607Z",
     "iopub.status.idle": "2021-08-22T17:31:04.799205Z",
     "shell.execute_reply": "2021-08-22T17:31:04.798254Z",
     "shell.execute_reply.started": "2021-08-22T17:31:04.762023Z"
    }
   },
   "outputs": [],
   "source": [
    "df.head()"
   ]
  },
  {
   "cell_type": "markdown",
   "metadata": {},
   "source": [
    "Analyze feautres "
   ]
  },
  {
   "cell_type": "markdown",
   "metadata": {},
   "source": [
    "Count of malware (1) vs benign apps (0) based on type column"
   ]
  },
  {
   "cell_type": "code",
   "execution_count": null,
   "metadata": {
    "execution": {
     "iopub.execute_input": "2021-08-22T17:31:04.802084Z",
     "iopub.status.busy": "2021-08-22T17:31:04.801557Z",
     "iopub.status.idle": "2021-08-22T17:31:04.810188Z",
     "shell.execute_reply": "2021-08-22T17:31:04.809186Z",
     "shell.execute_reply.started": "2021-08-22T17:31:04.802042Z"
    }
   },
   "outputs": [],
   "source": [
    "df.type.value_counts()"
   ]
  },
  {
   "cell_type": "markdown",
   "metadata": {},
   "source": [
    "So there are 199 malwares and 199 benign apps in the dataset so the data is equally distributed"
   ]
  },
  {
   "cell_type": "markdown",
   "metadata": {},
   "source": [
    "#### Plot 10 features"
   ]
  },
  {
   "cell_type": "markdown",
   "metadata": {},
   "source": [
    "Let us find the top 10 features that determine whether the app is malware or not"
   ]
  },
  {
   "cell_type": "markdown",
   "metadata": {},
   "source": [
    "Top 10 permissions required by Malware apps"
   ]
  },
  {
   "cell_type": "code",
   "execution_count": null,
   "metadata": {
    "execution": {
     "iopub.execute_input": "2021-08-22T17:31:04.812627Z",
     "iopub.status.busy": "2021-08-22T17:31:04.812112Z",
     "iopub.status.idle": "2021-08-22T17:31:04.831409Z",
     "shell.execute_reply": "2021-08-22T17:31:04.830467Z",
     "shell.execute_reply.started": "2021-08-22T17:31:04.812595Z"
    }
   },
   "outputs": [],
   "source": [
    "pd.Series.sort_values(df[df.type==1].sum(axis=0), ascending=False)[1:11]"
   ]
  },
  {
   "cell_type": "markdown",
   "metadata": {},
   "source": [
    "Top 10 permissions required by benign apps"
   ]
  },
  {
   "cell_type": "code",
   "execution_count": null,
   "metadata": {
    "execution": {
     "iopub.execute_input": "2021-08-22T17:31:04.833464Z",
     "iopub.status.busy": "2021-08-22T17:31:04.832878Z",
     "iopub.status.idle": "2021-08-22T17:31:04.849203Z",
     "shell.execute_reply": "2021-08-22T17:31:04.848079Z",
     "shell.execute_reply.started": "2021-08-22T17:31:04.833399Z"
    }
   },
   "outputs": [],
   "source": [
    "pd.Series.sort_values(df[df.type==0].sum(axis=0), ascending=False)[1:11]"
   ]
  },
  {
   "cell_type": "markdown",
   "metadata": {},
   "source": [
    "Let us plot a bar char for the above top 10 features"
   ]
  },
  {
   "cell_type": "code",
   "execution_count": null,
   "metadata": {
    "execution": {
     "iopub.execute_input": "2021-08-22T17:31:04.850986Z",
     "iopub.status.busy": "2021-08-22T17:31:04.850665Z",
     "iopub.status.idle": "2021-08-22T17:31:05.29074Z",
     "shell.execute_reply": "2021-08-22T17:31:05.289276Z",
     "shell.execute_reply.started": "2021-08-22T17:31:04.850954Z"
    }
   },
   "outputs": [],
   "source": [
    "fig, axs =  plt.subplots(nrows=2, sharex=True)\n",
    "pd.Series.sort_values(df[df.type==0].sum(axis=0), ascending=False)[1:11].plot.bar(ax=axs[0], color=\"green\", title=\"Benign Apps\")\n",
    "pd.Series.sort_values(df[df.type==1].sum(axis=0), ascending=False)[1:11].plot.bar(ax=axs[1], color=\"red\", title=\"Malware Apps\", ylabel=\"Count of apps\", xlabel=\"Permissions\")"
   ]
  },
  {
   "cell_type": "markdown",
   "metadata": {},
   "source": [
    "Describing the features in the dataset"
   ]
  },
  {
   "cell_type": "code",
   "execution_count": null,
   "metadata": {
    "execution": {
     "iopub.execute_input": "2021-08-22T17:31:05.292511Z",
     "iopub.status.busy": "2021-08-22T17:31:05.292181Z",
     "iopub.status.idle": "2021-08-22T17:31:05.941286Z",
     "shell.execute_reply": "2021-08-22T17:31:05.940059Z",
     "shell.execute_reply.started": "2021-08-22T17:31:05.292477Z"
    }
   },
   "outputs": [],
   "source": [
    "df_desc = df.describe()\n",
    "df_desc"
   ]
  },
  {
   "cell_type": "markdown",
   "metadata": {},
   "source": [
    "from above we can see that certain keywords in permission seems more suspicious so selecting those columns"
   ]
  },
  {
   "cell_type": "code",
   "execution_count": null,
   "metadata": {
    "execution": {
     "iopub.execute_input": "2021-08-22T17:31:05.943056Z",
     "iopub.status.busy": "2021-08-22T17:31:05.942722Z",
     "iopub.status.idle": "2021-08-22T17:31:05.96913Z",
     "shell.execute_reply": "2021-08-22T17:31:05.967804Z",
     "shell.execute_reply.started": "2021-08-22T17:31:05.943024Z"
    }
   },
   "outputs": [],
   "source": [
    "df1= df.copy()\n",
    "df1 = df1.loc[:,df1.columns.str.contains('type')  |  df1.columns.str.contains('write') | df1.columns.str.contains('delete') | df1.columns.str.contains('clear') | df1.columns.str.contains('boot') | df1.columns.str.contains('change')| df1.columns.str.contains('credential')|df1.columns.str.contains('admin')|df1.columns.str.contains('list')|df1.columns.str.contains('secure_storage')|df1.columns.str.contains('notifications')|df1.columns.str.contains('account')|df1.columns.str.contains('destroy')|df1.columns.str.contains('mount')|df1.columns.str.contains('authenticate')|df1.columns.str.contains('privileged')|df1.columns.str.contains('brick')|df1.columns.str.contains('transmit')|df1.columns.str.contains('capture')|df1.columns.str.contains('disable')|df1.columns.str.contains('install')|df1.columns.str.contains('certificate')|df1.columns.str.contains('send')|df1.columns.str.contains('shutdown')|df1.columns.str.contains('start_any_activity')|df1.columns.str.contains('lock')|df1.columns.str.contains('sms')|df1.columns.str.contains('call')|df1.columns.str.contains('danger')|df1.columns.str.contains('voicemail')]"
   ]
  },
  {
   "cell_type": "code",
   "execution_count": null,
   "metadata": {
    "execution": {
     "iopub.execute_input": "2021-08-22T17:31:05.970974Z",
     "iopub.status.busy": "2021-08-22T17:31:05.97064Z",
     "iopub.status.idle": "2021-08-22T17:31:05.99149Z",
     "shell.execute_reply": "2021-08-22T17:31:05.990473Z",
     "shell.execute_reply.started": "2021-08-22T17:31:05.970941Z"
    }
   },
   "outputs": [],
   "source": [
    "df1.head()"
   ]
  },
  {
   "cell_type": "markdown",
   "metadata": {},
   "source": [
    "remove columns that contain only 0"
   ]
  },
  {
   "cell_type": "code",
   "execution_count": null,
   "metadata": {
    "execution": {
     "iopub.execute_input": "2021-08-22T17:31:05.993361Z",
     "iopub.status.busy": "2021-08-22T17:31:05.993042Z",
     "iopub.status.idle": "2021-08-22T17:31:06.112764Z",
     "shell.execute_reply": "2021-08-22T17:31:06.111315Z",
     "shell.execute_reply.started": "2021-08-22T17:31:05.99333Z"
    }
   },
   "outputs": [],
   "source": [
    "df1 = df1.loc[:, (df1 != 0).any(axis=0)]\n",
    "df1.describe()"
   ]
  },
  {
   "cell_type": "markdown",
   "metadata": {},
   "source": [
    "Plot grouped bar chart to better understand the feature relationship"
   ]
  },
  {
   "cell_type": "code",
   "execution_count": null,
   "metadata": {
    "execution": {
     "iopub.execute_input": "2021-08-22T17:31:06.115523Z",
     "iopub.status.busy": "2021-08-22T17:31:06.115065Z",
     "iopub.status.idle": "2021-08-22T17:31:07.282546Z",
     "shell.execute_reply": "2021-08-22T17:31:07.281374Z",
     "shell.execute_reply.started": "2021-08-22T17:31:06.115474Z"
    }
   },
   "outputs": [],
   "source": [
    "bdf1 = pd.Series.sort_values(df1[df1.type==0].sum(axis=0), ascending=False)\n",
    "mdf1 = pd.Series.sort_values(df1[df1.type==1].sum(axis=0), ascending=False)\n",
    "del bdf1['type']\n",
    "del mdf1['type']\n",
    "pd.concat({'Benign Apps': bdf1, 'Malware Apps': mdf1}, axis=1).plot.bar(figsize=(18,5))"
   ]
  },
  {
   "cell_type": "markdown",
   "metadata": {},
   "source": [
    "## Feature Engineering"
   ]
  },
  {
   "cell_type": "markdown",
   "metadata": {},
   "source": [
    "#### Feature selection"
   ]
  },
  {
   "cell_type": "markdown",
   "metadata": {},
   "source": [
    "top 10 features that determine malware"
   ]
  },
  {
   "cell_type": "code",
   "execution_count": null,
   "metadata": {
    "execution": {
     "iopub.execute_input": "2021-08-22T17:31:07.284235Z",
     "iopub.status.busy": "2021-08-22T17:31:07.283914Z",
     "iopub.status.idle": "2021-08-22T17:31:07.680263Z",
     "shell.execute_reply": "2021-08-22T17:31:07.679073Z",
     "shell.execute_reply.started": "2021-08-22T17:31:07.284206Z"
    }
   },
   "outputs": [],
   "source": [
    "fig, axs =  plt.subplots(nrows=2, sharex=True)\n",
    "bdf1[1:11].plot.bar(ax=axs[1], color=\"green\", title=\"Benign Apps\")\n",
    "mdf1[1:11].plot.bar(ax=axs[0], color=\"red\", title=\"Malware Apps\", ylabel=\"Count of apps\", xlabel=\"Permissions\")"
   ]
  },
  {
   "cell_type": "markdown",
   "metadata": {},
   "source": [
    "#### Observation\n",
    "From the above bat chart it is evident that only Malware apps predominantly require permission that control sms, wifi, lock, call, apn and contacts"
   ]
  },
  {
   "cell_type": "markdown",
   "metadata": {},
   "source": [
    "## Modeling"
   ]
  },
  {
   "cell_type": "code",
   "execution_count": null,
   "metadata": {
    "execution": {
     "iopub.execute_input": "2021-08-22T17:31:07.68222Z",
     "iopub.status.busy": "2021-08-22T17:31:07.681742Z",
     "iopub.status.idle": "2021-08-22T17:31:07.690514Z",
     "shell.execute_reply": "2021-08-22T17:31:07.688839Z",
     "shell.execute_reply.started": "2021-08-22T17:31:07.68217Z"
    }
   },
   "outputs": [],
   "source": [
    "X_train, X_test, y_train, y_test = train_test_split(df1.iloc[:, 1:42], df1['type'], test_size=0.20, random_state=42)"
   ]
  },
  {
   "cell_type": "code",
   "execution_count": null,
   "metadata": {
    "execution": {
     "iopub.execute_input": "2021-08-22T17:31:07.693043Z",
     "iopub.status.busy": "2021-08-22T17:31:07.692488Z",
     "iopub.status.idle": "2021-08-22T17:31:07.704339Z",
     "shell.execute_reply": "2021-08-22T17:31:07.703299Z",
     "shell.execute_reply.started": "2021-08-22T17:31:07.692995Z"
    }
   },
   "outputs": [],
   "source": [
    "X_train.shape, X_test.shape"
   ]
  },
  {
   "cell_type": "code",
   "execution_count": null,
   "metadata": {
    "execution": {
     "iopub.execute_input": "2021-08-22T17:31:07.708173Z",
     "iopub.status.busy": "2021-08-22T17:31:07.706988Z",
     "iopub.status.idle": "2021-08-22T17:31:07.717195Z",
     "shell.execute_reply": "2021-08-22T17:31:07.716168Z",
     "shell.execute_reply.started": "2021-08-22T17:31:07.708119Z"
    }
   },
   "outputs": [],
   "source": [
    "y_train.shape, y_test.shape"
   ]
  },
  {
   "cell_type": "markdown",
   "metadata": {},
   "source": [
    "Naive Bayes algorithm"
   ]
  },
  {
   "cell_type": "code",
   "execution_count": null,
   "metadata": {
    "execution": {
     "iopub.execute_input": "2021-08-22T17:31:07.719048Z",
     "iopub.status.busy": "2021-08-22T17:31:07.718659Z",
     "iopub.status.idle": "2021-08-22T17:31:07.742968Z",
     "shell.execute_reply": "2021-08-22T17:31:07.741795Z",
     "shell.execute_reply.started": "2021-08-22T17:31:07.719015Z"
    }
   },
   "outputs": [],
   "source": [
    "gnb = GaussianNB()\n",
    "gnb.fit(X_train, y_train)\n",
    "pred = gnb.predict(X_test)\n",
    "accuracy = accuracy_score(pred, y_test)\n",
    "print(\"Naive Bayes\")\n",
    "print(\"Accuracy: \" + str(accuracy))\n",
    "print(classification_report(pred, y_test, labels=None))"
   ]
  },
  {
   "cell_type": "markdown",
   "metadata": {},
   "source": [
    "k-neighbors algorithm"
   ]
  },
  {
   "cell_type": "code",
   "execution_count": null,
   "metadata": {
    "execution": {
     "iopub.execute_input": "2021-08-22T17:31:07.74465Z",
     "iopub.status.busy": "2021-08-22T17:31:07.744304Z",
     "iopub.status.idle": "2021-08-22T17:31:07.817136Z",
     "shell.execute_reply": "2021-08-22T17:31:07.81607Z",
     "shell.execute_reply.started": "2021-08-22T17:31:07.744619Z"
    }
   },
   "outputs": [],
   "source": [
    "for i in range(3,15,3):\n",
    "    \n",
    "    neigh = KNeighborsClassifier(n_neighbors=i)\n",
    "    neigh.fit(X_train, y_train)\n",
    "    pred = neigh.predict(X_test)\n",
    "    accuracy = accuracy_score(pred, y_test)\n",
    "    print(\"k-neighbors {}\".format(i))\n",
    "    print(\"Accuracy: \" + str(accuracy))\n",
    "    print(classification_report(pred, y_test, labels=None))\n",
    "    print(\"\")"
   ]
  },
  {
   "cell_type": "markdown",
   "metadata": {},
   "source": [
    "Decision Tree"
   ]
  },
  {
   "cell_type": "code",
   "execution_count": null,
   "metadata": {
    "execution": {
     "iopub.execute_input": "2021-08-22T17:31:07.818653Z",
     "iopub.status.busy": "2021-08-22T17:31:07.818383Z",
     "iopub.status.idle": "2021-08-22T17:31:07.836113Z",
     "shell.execute_reply": "2021-08-22T17:31:07.83489Z",
     "shell.execute_reply.started": "2021-08-22T17:31:07.818627Z"
    }
   },
   "outputs": [],
   "source": [
    "clf_gini = DecisionTreeClassifier(criterion='gini', max_depth=3, random_state=0)\n",
    "clf_gini.fit(X_train, y_train)"
   ]
  },
  {
   "cell_type": "markdown",
   "metadata": {},
   "source": [
    "Predict the Test set results with criterion gini index"
   ]
  },
  {
   "cell_type": "code",
   "execution_count": null,
   "metadata": {
    "execution": {
     "iopub.execute_input": "2021-08-22T17:31:07.83982Z",
     "iopub.status.busy": "2021-08-22T17:31:07.839501Z",
     "iopub.status.idle": "2021-08-22T17:31:07.847526Z",
     "shell.execute_reply": "2021-08-22T17:31:07.84636Z",
     "shell.execute_reply.started": "2021-08-22T17:31:07.839791Z"
    }
   },
   "outputs": [],
   "source": [
    "y_pred_gini = clf_gini.predict(X_test)"
   ]
  },
  {
   "cell_type": "markdown",
   "metadata": {},
   "source": [
    "Check accuracy score with criterion gini index"
   ]
  },
  {
   "cell_type": "code",
   "execution_count": null,
   "metadata": {
    "execution": {
     "iopub.execute_input": "2021-08-22T17:31:07.849289Z",
     "iopub.status.busy": "2021-08-22T17:31:07.848985Z",
     "iopub.status.idle": "2021-08-22T17:31:07.860524Z",
     "shell.execute_reply": "2021-08-22T17:31:07.859404Z",
     "shell.execute_reply.started": "2021-08-22T17:31:07.84926Z"
    }
   },
   "outputs": [],
   "source": [
    "print('Model accuracy score with criterion gini index: {0:0.4f}'. format(accuracy_score(y_test, y_pred_gini)))"
   ]
  },
  {
   "cell_type": "markdown",
   "metadata": {},
   "source": [
    "Here, y_test are the true class labels and y_pred_gini are the predicted class labels in the test-set."
   ]
  },
  {
   "cell_type": "markdown",
   "metadata": {},
   "source": [
    "Compare the train-set and test-set accuracy to check for overfitting"
   ]
  },
  {
   "cell_type": "code",
   "execution_count": null,
   "metadata": {
    "execution": {
     "iopub.execute_input": "2021-08-22T17:31:07.864307Z",
     "iopub.status.busy": "2021-08-22T17:31:07.864001Z",
     "iopub.status.idle": "2021-08-22T17:31:07.876717Z",
     "shell.execute_reply": "2021-08-22T17:31:07.875619Z",
     "shell.execute_reply.started": "2021-08-22T17:31:07.864279Z"
    }
   },
   "outputs": [],
   "source": [
    "y_pred_train_gini = clf_gini.predict(X_train)\n",
    "\n",
    "y_pred_train_gini"
   ]
  },
  {
   "cell_type": "code",
   "execution_count": null,
   "metadata": {
    "execution": {
     "iopub.execute_input": "2021-08-22T17:31:07.878813Z",
     "iopub.status.busy": "2021-08-22T17:31:07.87852Z",
     "iopub.status.idle": "2021-08-22T17:31:07.891217Z",
     "shell.execute_reply": "2021-08-22T17:31:07.889939Z",
     "shell.execute_reply.started": "2021-08-22T17:31:07.878784Z"
    }
   },
   "outputs": [],
   "source": [
    "print('Training-set accuracy score: {0:0.4f}'. format(accuracy_score(y_train, y_pred_train_gini)))"
   ]
  },
  {
   "cell_type": "markdown",
   "metadata": {},
   "source": [
    "Check for overfitting and underfitting"
   ]
  },
  {
   "cell_type": "code",
   "execution_count": null,
   "metadata": {
    "execution": {
     "iopub.execute_input": "2021-08-22T17:31:07.893349Z",
     "iopub.status.busy": "2021-08-22T17:31:07.892753Z",
     "iopub.status.idle": "2021-08-22T17:31:07.913067Z",
     "shell.execute_reply": "2021-08-22T17:31:07.911662Z",
     "shell.execute_reply.started": "2021-08-22T17:31:07.893304Z"
    }
   },
   "outputs": [],
   "source": [
    "print('Training set score: {:.4f}'.format(clf_gini.score(X_train, y_train)))\n",
    "\n",
    "print('Test set score: {:.4f}'.format(clf_gini.score(X_test, y_test)))"
   ]
  },
  {
   "cell_type": "markdown",
   "metadata": {},
   "source": [
    "Here, the training-set accuracy score is 1.0000 while the test-set accuracy to be 1.0000. These two values are quite comparable. So, there is no sign of overfitting."
   ]
  },
  {
   "cell_type": "markdown",
   "metadata": {},
   "source": [
    "Visualize decision-trees"
   ]
  },
  {
   "cell_type": "code",
   "execution_count": null,
   "metadata": {
    "execution": {
     "iopub.execute_input": "2021-08-22T17:31:07.914896Z",
     "iopub.status.busy": "2021-08-22T17:31:07.914439Z",
     "iopub.status.idle": "2021-08-22T17:31:08.197998Z",
     "shell.execute_reply": "2021-08-22T17:31:08.197021Z",
     "shell.execute_reply.started": "2021-08-22T17:31:07.914833Z"
    }
   },
   "outputs": [],
   "source": [
    "plt.figure(figsize=(12,8))\n",
    "tree.plot_tree(clf_gini.fit(X_train, y_train))"
   ]
  },
  {
   "cell_type": "markdown",
   "metadata": {},
   "source": [
    "Decision Tree Classifier with criterion entropy"
   ]
  },
  {
   "cell_type": "code",
   "execution_count": null,
   "metadata": {
    "execution": {
     "iopub.execute_input": "2021-08-22T17:31:08.199583Z",
     "iopub.status.busy": "2021-08-22T17:31:08.199273Z",
     "iopub.status.idle": "2021-08-22T17:31:08.210674Z",
     "shell.execute_reply": "2021-08-22T17:31:08.209617Z",
     "shell.execute_reply.started": "2021-08-22T17:31:08.199552Z"
    }
   },
   "outputs": [],
   "source": [
    "clf_en = DecisionTreeClassifier(criterion='entropy', max_depth=3, random_state=0)\n",
    "clf_en.fit(X_train, y_train)"
   ]
  },
  {
   "cell_type": "markdown",
   "metadata": {},
   "source": [
    "Predict the Test set results with criterion entropy"
   ]
  },
  {
   "cell_type": "code",
   "execution_count": null,
   "metadata": {
    "execution": {
     "iopub.execute_input": "2021-08-22T17:31:08.212436Z",
     "iopub.status.busy": "2021-08-22T17:31:08.212031Z",
     "iopub.status.idle": "2021-08-22T17:31:08.222517Z",
     "shell.execute_reply": "2021-08-22T17:31:08.221446Z",
     "shell.execute_reply.started": "2021-08-22T17:31:08.212394Z"
    }
   },
   "outputs": [],
   "source": [
    "y_pred_en = clf_en.predict(X_test)"
   ]
  },
  {
   "cell_type": "markdown",
   "metadata": {},
   "source": [
    "Check accuracy score with criterion entropy"
   ]
  },
  {
   "cell_type": "code",
   "execution_count": null,
   "metadata": {
    "execution": {
     "iopub.execute_input": "2021-08-22T17:31:08.224212Z",
     "iopub.status.busy": "2021-08-22T17:31:08.223894Z",
     "iopub.status.idle": "2021-08-22T17:31:08.235298Z",
     "shell.execute_reply": "2021-08-22T17:31:08.234169Z",
     "shell.execute_reply.started": "2021-08-22T17:31:08.224175Z"
    }
   },
   "outputs": [],
   "source": [
    "print('Model accuracy score with criterion entropy: {0:0.4f}'. format(accuracy_score(y_test, y_pred_en)))"
   ]
  },
  {
   "cell_type": "markdown",
   "metadata": {},
   "source": [
    "Compare the train-set and test-set accuracy"
   ]
  },
  {
   "cell_type": "code",
   "execution_count": null,
   "metadata": {
    "execution": {
     "iopub.execute_input": "2021-08-22T17:31:08.236693Z",
     "iopub.status.busy": "2021-08-22T17:31:08.236404Z",
     "iopub.status.idle": "2021-08-22T17:31:08.251166Z",
     "shell.execute_reply": "2021-08-22T17:31:08.250001Z",
     "shell.execute_reply.started": "2021-08-22T17:31:08.236664Z"
    }
   },
   "outputs": [],
   "source": [
    "y_pred_train_en = clf_en.predict(X_train)\n",
    "\n",
    "y_pred_train_en"
   ]
  },
  {
   "cell_type": "code",
   "execution_count": null,
   "metadata": {
    "execution": {
     "iopub.execute_input": "2021-08-22T17:31:08.252461Z",
     "iopub.status.busy": "2021-08-22T17:31:08.252187Z",
     "iopub.status.idle": "2021-08-22T17:31:08.263316Z",
     "shell.execute_reply": "2021-08-22T17:31:08.262352Z",
     "shell.execute_reply.started": "2021-08-22T17:31:08.252435Z"
    }
   },
   "outputs": [],
   "source": [
    "print('Training-set accuracy score: {0:0.4f}'. format(accuracy_score(y_train, y_pred_train_en)))"
   ]
  },
  {
   "cell_type": "markdown",
   "metadata": {},
   "source": [
    "Check for overfitting and underfitting"
   ]
  },
  {
   "cell_type": "code",
   "execution_count": null,
   "metadata": {
    "execution": {
     "iopub.execute_input": "2021-08-22T17:31:08.266513Z",
     "iopub.status.busy": "2021-08-22T17:31:08.266174Z",
     "iopub.status.idle": "2021-08-22T17:31:08.28063Z",
     "shell.execute_reply": "2021-08-22T17:31:08.279455Z",
     "shell.execute_reply.started": "2021-08-22T17:31:08.266482Z"
    }
   },
   "outputs": [],
   "source": [
    "print('Training set score: {:.4f}'.format(clf_en.score(X_train, y_train)))\n",
    "\n",
    "print('Test set score: {:.4f}'.format(clf_en.score(X_test, y_test)))"
   ]
  },
  {
   "cell_type": "markdown",
   "metadata": {},
   "source": [
    "We can see that the training-set score and test-set score is same as above. The training-set accuracy score is 1.0000 while the test-set accuracy to be 1.0000. These two values are quite comparable. So, there is no sign of overfitting"
   ]
  },
  {
   "cell_type": "markdown",
   "metadata": {},
   "source": [
    "Visualize decision-tree"
   ]
  },
  {
   "cell_type": "code",
   "execution_count": null,
   "metadata": {
    "execution": {
     "iopub.execute_input": "2021-08-22T17:31:08.282559Z",
     "iopub.status.busy": "2021-08-22T17:31:08.282154Z",
     "iopub.status.idle": "2021-08-22T17:31:08.553681Z",
     "shell.execute_reply": "2021-08-22T17:31:08.552727Z",
     "shell.execute_reply.started": "2021-08-22T17:31:08.282512Z"
    }
   },
   "outputs": [],
   "source": [
    "plt.figure(figsize=(12,8))\n",
    "\n",
    "tree.plot_tree(clf_en.fit(X_train, y_train)) "
   ]
  },
  {
   "cell_type": "markdown",
   "metadata": {},
   "source": [
    "Now, based on the above analysis we can conclude that our classification model accuracy is excellent. Our model is doing a very good job in terms of predicting the class labels.\n",
    "\n",
    "But, it does not give the underlying distribution of values. Also, it does not tell anything about the type of errors our classifer is making.\n",
    "\n",
    "We have another tool called Confusion matrix that comes to our rescue."
   ]
  },
  {
   "cell_type": "markdown",
   "metadata": {},
   "source": [
    "We have another tool called Confusion matrix that comes to our rescue."
   ]
  },
  {
   "cell_type": "markdown",
   "metadata": {},
   "source": [
    "Confusion matrix"
   ]
  },
  {
   "cell_type": "code",
   "execution_count": null,
   "metadata": {
    "execution": {
     "iopub.execute_input": "2021-08-22T17:31:08.555191Z",
     "iopub.status.busy": "2021-08-22T17:31:08.554918Z",
     "iopub.status.idle": "2021-08-22T17:31:08.562248Z",
     "shell.execute_reply": "2021-08-22T17:31:08.5611Z",
     "shell.execute_reply.started": "2021-08-22T17:31:08.555164Z"
    }
   },
   "outputs": [],
   "source": [
    "cm = confusion_matrix(y_test, y_pred_en)\n",
    "\n",
    "print('Confusion matrix\\n\\n', cm)"
   ]
  },
  {
   "cell_type": "markdown",
   "metadata": {},
   "source": [
    "Classification Report"
   ]
  },
  {
   "cell_type": "code",
   "execution_count": null,
   "metadata": {
    "execution": {
     "iopub.execute_input": "2021-08-22T17:31:08.564461Z",
     "iopub.status.busy": "2021-08-22T17:31:08.564015Z",
     "iopub.status.idle": "2021-08-22T17:31:08.580397Z",
     "shell.execute_reply": "2021-08-22T17:31:08.579003Z",
     "shell.execute_reply.started": "2021-08-22T17:31:08.564418Z"
    }
   },
   "outputs": [],
   "source": [
    "print(classification_report(y_test, y_pred_en))"
   ]
  },
  {
   "cell_type": "markdown",
   "metadata": {},
   "source": [
    "Random Forest"
   ]
  },
  {
   "cell_type": "code",
   "execution_count": null,
   "metadata": {
    "execution": {
     "iopub.execute_input": "2021-08-22T17:31:08.582178Z",
     "iopub.status.busy": "2021-08-22T17:31:08.581823Z",
     "iopub.status.idle": "2021-08-22T17:31:09.222114Z",
     "shell.execute_reply": "2021-08-22T17:31:09.220975Z",
     "shell.execute_reply.started": "2021-08-22T17:31:08.582134Z"
    }
   },
   "outputs": [],
   "source": [
    "rdF=RandomForestClassifier(n_estimators=250, max_depth=50,random_state=45)\n",
    "rdF.fit(X_train,y_train)\n",
    "pred=rdF.predict(X_test)\n",
    "cm=confusion_matrix(y_test, pred)\n",
    "\n",
    "accuracy = accuracy_score(y_test,pred)\n",
    "print(\"Random Forest Classifier\")\n",
    "print(\"Accuracy Score: \"+ str(accuracy))\n",
    "print(classification_report(y_test,pred, labels=None))\n",
    "print(\"cohen kappa score: \", cohen_kappa_score(y_test, pred))\n",
    "print(\"\")\n",
    "print('Confusion matrix\\n\\n',cm)"
   ]
  },
  {
   "cell_type": "markdown",
   "metadata": {},
   "source": [
    "1.\tWe tried Naive Bayes which resulted in accuracy score of 1.0\n",
    "2.\tThen we tried K-neighbout which resulted in accuracy score as follows,\n",
    "    *     kneighbors:  3 Accuracy: 1.0\n",
    "    *     kneighbors:  6 Accuracy: 0.9125\n",
    "    *     kneighbors:  9 Accuracy: 0.9125\n",
    "    *     kneighbors: 12 Accuracy: 0.9\n",
    "3.\tSo we have built a Decision-Tree Classifier model for Android Malware Detection. We built two models, one with criterion gini index and another one with criterion entropy. These models yields a very good performance as indicated by the model accuracy in both the cases to be 1.0000\n",
    "4.\tIn the model with criterion gini index, the training-set accuracy score and the test-set accuracy to be 1.0000. These two values are same. So, there is no sign of overfitting.\n",
    "5.\tSimilarly, in the model with criterion entropy, the training-set accuracy score and the test-set accuracy to be 1.0000. These two values are same. So, there is no sign of overfitting.\n",
    "6.\tThen we tried Random forest classifier which resulted in accuracy score of  1.0 and cohen kappa score of 1.0\n",
    "7.\tThe confusion matrix and classification report yields excellent model performance."
   ]
  }
 ],
 "metadata": {
  "kernelspec": {
   "display_name": "Python 3 (ipykernel)",
   "language": "python",
   "name": "python3"
  },
  "language_info": {
   "codemirror_mode": {
    "name": "ipython",
    "version": 3
   },
   "file_extension": ".py",
   "mimetype": "text/x-python",
   "name": "python",
   "nbconvert_exporter": "python",
   "pygments_lexer": "ipython3",
   "version": "3.9.7"
  }
 },
 "nbformat": 4,
 "nbformat_minor": 4
}
