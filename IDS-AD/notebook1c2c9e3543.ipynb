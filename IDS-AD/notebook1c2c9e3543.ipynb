{
 "cells": [
  {
   "cell_type": "markdown",
   "metadata": {},
   "source": [
    "# Group 186 - Android Malware Detection"
   ]
  },
  {
   "cell_type": "markdown",
   "metadata": {},
   "source": [
    "<style>\n",
    "table {\n",
    "  font-family: arial, sans-serif;\n",
    "  border-collapse: collapse;\n",
    "  width: 100%;\n",
    "}\n",
    "\n",
    "td, th {\n",
    "  border: 1px solid #dddddd;\n",
    "  text-align: left;\n",
    "  padding: 8px;\n",
    "}\n",
    "\n",
    "tr:nth-child(even) {\n",
    "  background-color: #dddddd;\n",
    "}\n",
    "</style>\n",
    "\n",
    "<h2>Group No: Group 186</h2>\n",
    "\n",
    "<table>\n",
    "  <tr>\n",
    "    <th>Full Name</th>\n",
    "    <th>BITS ID</th>\n",
    "    <th>Contribution</th>  \n",
    "  </tr>\n",
    "  <tr>\n",
    "    <td>Sindhu C</td>\n",
    "    <td>2021FC04993</td>\n",
    "    <td>100%</td>      \n",
    "  </tr>\n",
    "  <tr>\n",
    "    <td>Sivarajan N</td>\n",
    "    <td>2021FC04989</td>\n",
    "    <td>100%</td>      \n",
    "  </tr>\n",
    "  <tr>\n",
    "    <td>Manibalan S</td>\n",
    "    <td>2021fc04442</td>\n",
    "    <td> 0% </td>      \n",
    " </tr>\n",
    "</table>\n",
    "\n"
   ]
  },
  {
   "cell_type": "markdown",
   "metadata": {},
   "source": [
    "**Business Understanding- Introduction**"
   ]
  },
  {
   "cell_type": "markdown",
   "metadata": {},
   "source": [
    "\n",
    "With the popularity of Android devices, the number of applications made for the android operating system is\n",
    "also increasing day by day. But the biggest challenge in this scenario is to identify if an application is an authentic\n",
    "application or a malware. This project tries to identify an application as malware/not based on the permissions\n",
    "required by the application"
   ]
  },
  {
   "cell_type": "markdown",
   "metadata": {},
   "source": [
    "#### Data Acquisition - Data Set"
   ]
  },
  {
   "cell_type": "markdown",
   "metadata": {},
   "source": [
    "\n",
    "The dataset given here is taken from Kaggle and consists of about 331 features which are the different android\n",
    "permissions asked by the application (0 denotes not required and 1 denotes required). The no rows/malware\n",
    "readings for each permission is 398. It is the ‘type’ label which represents a given row corresponding to whether\n",
    "an application is malware or not."
   ]
  },
  {
   "cell_type": "markdown",
   "metadata": {},
   "source": [
    "#### Import packages"
   ]
  },
  {
   "cell_type": "code",
   "execution_count": 3,
   "metadata": {
    "_cell_guid": "b1076dfc-b9ad-4769-8c92-a6c4dae69d19",
    "_uuid": "8f2839f25d086af736a60e9eeb907d3b93b6e0e5",
    "execution": {
     "iopub.execute_input": "2021-08-22T17:31:03.329395Z",
     "iopub.status.busy": "2021-08-22T17:31:03.328758Z",
     "iopub.status.idle": "2021-08-22T17:31:04.336832Z",
     "shell.execute_reply": "2021-08-22T17:31:04.335939Z",
     "shell.execute_reply.started": "2021-08-22T17:31:03.329292Z"
    }
   },
   "outputs": [],
   "source": [
    "from sklearn.naive_bayes import GaussianNB, BernoulliNB\n",
    "from sklearn.metrics import accuracy_score, classification_report\n",
    "from sklearn.ensemble import BaggingClassifier\n",
    "from sklearn.neighbors import KNeighborsClassifier\n",
    "from sklearn.linear_model import SGDClassifier\n",
    "from sklearn.model_selection import train_test_split\n",
    "from sklearn.metrics import cohen_kappa_score\n",
    "from sklearn.metrics import confusion_matrix\n",
    "from sklearn.ensemble import RandomForestClassifier\n",
    "import matplotlib.pyplot as plt\n",
    "from sklearn import preprocessing\n",
    "import torch\n",
    "from sklearn import svm\n",
    "from sklearn import tree\n",
    "import pandas as pd\n",
    "import pickle\n",
    "import numpy as np\n",
    "import seaborn as sns\n",
    "import category_encoders as ce\n",
    "from sklearn.tree import DecisionTreeClassifier\n",
    "import matplotlib.pyplot as plt\n",
    "from sklearn.metrics import confusion_matrix\n",
    "from sklearn import tree"
   ]
  },
  {
   "cell_type": "markdown",
   "metadata": {},
   "source": [
    "### Load Data"
   ]
  },
  {
   "cell_type": "markdown",
   "metadata": {},
   "source": [
    "\n",
    "Read dataset into pandas dataframe"
   ]
  },
  {
   "cell_type": "code",
   "execution_count": 4,
   "metadata": {
    "execution": {
     "iopub.execute_input": "2021-08-22T17:31:04.338814Z",
     "iopub.status.busy": "2021-08-22T17:31:04.338531Z",
     "iopub.status.idle": "2021-08-22T17:31:04.389926Z",
     "shell.execute_reply": "2021-08-22T17:31:04.388939Z",
     "shell.execute_reply.started": "2021-08-22T17:31:04.338787Z"
    }
   },
   "outputs": [],
   "source": [
    "df = pd.read_csv(\"Dataset_Android-1.csv\", sep=\";\")\n",
    "df.shape\n",
    "df.columns = map(str.lower, df.columns)"
   ]
  },
  {
   "cell_type": "markdown",
   "metadata": {},
   "source": [
    "#### Understanding - Exploratory Analysis"
   ]
  },
  {
   "cell_type": "markdown",
   "metadata": {},
   "source": [
    "List the features"
   ]
  },
  {
   "cell_type": "code",
   "execution_count": 5,
   "metadata": {
    "execution": {
     "iopub.execute_input": "2021-08-22T17:31:04.391913Z",
     "iopub.status.busy": "2021-08-22T17:31:04.391596Z",
     "iopub.status.idle": "2021-08-22T17:31:04.423602Z",
     "shell.execute_reply": "2021-08-22T17:31:04.416439Z",
     "shell.execute_reply.started": "2021-08-22T17:31:04.391883Z"
    }
   },
   "outputs": [
    {
     "name": "stdout",
     "output_type": "stream",
     "text": [
      "android\n",
      "android.app.cts.permission.test_granted\n",
      "android.intent.category.master_clear.permission.c2d_message\n",
      "android.os.cts.permission.test_granted\n",
      "android.permission.access_all_downloads\n",
      "android.permission.access_all_external_storage\n",
      "android.permission.access_bluetooth_share\n",
      "android.permission.access_cache_filesystem\n",
      "android.permission.access_checkin_properties\n",
      "android.permission.access_coarse_location\n",
      "android.permission.access_content_providers_externally\n",
      "android.permission.access_download_manager\n",
      "android.permission.access_download_manager_advanced\n",
      "android.permission.access_drm_certificates\n",
      "android.permission.access_fine_location\n",
      "android.permission.access_fm_radio\n",
      "android.permission.access_input_flinger\n",
      "android.permission.access_keyguard_secure_storage\n",
      "android.permission.access_location_extra_commands\n",
      "android.permission.access_mock_location\n",
      "android.permission.access_mtp\n",
      "android.permission.access_network_conditions\n",
      "android.permission.access_network_state\n",
      "android.permission.access_notifications\n",
      "android.permission.access_pdb_state\n",
      "android.permission.access_surface_flinger\n",
      "android.permission.access_wifi_state\n",
      "android.permission.access_wimax_state\n",
      "android.permission.account_manager\n",
      "android.permission.allow_any_codec_for_playback\n",
      "android.permission.asec_access\n",
      "android.permission.asec_create\n",
      "android.permission.asec_destroy\n",
      "android.permission.asec_mount_unmount\n",
      "android.permission.asec_rename\n",
      "android.permission.authenticate_accounts\n",
      "android.permission.backup\n",
      "android.permission.battery_stats\n",
      "android.permission.bind_accessibility_service\n",
      "android.permission.bind_appwidget\n",
      "android.permission.bind_carrier_messaging_service\n",
      "android.permission.bind_condition_provider_service\n",
      "android.permission.bind_connection_service\n",
      "android.permission.bind_device_admin\n",
      "android.permission.bind_directory_search\n",
      "android.permission.bind_dream_service\n",
      "android.permission.bind_incall_service\n",
      "android.permission.bind_input_method\n",
      "android.permission.bind_job_service\n",
      "android.permission.bind_keyguard_appwidget\n",
      "android.permission.bind_nfc_service\n",
      "android.permission.bind_notification_listener_service\n",
      "android.permission.bind_package_verifier\n",
      "android.permission.bind_print_service\n",
      "android.permission.bind_print_spooler_service\n",
      "android.permission.bind_remoteviews\n",
      "android.permission.bind_remote_display\n",
      "android.permission.bind_text_service\n",
      "android.permission.bind_trust_agent\n",
      "android.permission.bind_tv_input\n",
      "android.permission.bind_voice_interaction\n",
      "android.permission.bind_vpn_service\n",
      "android.permission.bind_wallpaper\n",
      "android.permission.bluetooth\n",
      "android.permission.bluetooth_admin\n",
      "android.permission.bluetooth_map\n",
      "android.permission.bluetooth_privileged\n",
      "android.permission.bluetooth_stack\n",
      "android.permission.body_sensors\n",
      "android.permission.brick\n",
      "android.permission.broadcast_calllog_info\n",
      "android.permission.broadcast_network_privileged\n",
      "android.permission.broadcast_package_removed\n",
      "android.permission.broadcast_sms\n",
      "android.permission.broadcast_sticky\n",
      "android.permission.broadcast_wap_push\n",
      "android.permission.call_phone\n",
      "android.permission.call_privileged\n",
      "android.permission.camera\n",
      "android.permission.camera_disable_transmit_led\n",
      "android.permission.capture_audio_hotword\n",
      "android.permission.capture_audio_output\n",
      "android.permission.capture_secure_video_output\n",
      "android.permission.capture_tv_input\n",
      "android.permission.capture_video_output\n",
      "android.permission.carrier_filter_sms\n",
      "android.permission.change_background_data_setting\n",
      "android.permission.change_component_enabled_state\n",
      "android.permission.change_configuration\n",
      "android.permission.change_network_state\n",
      "android.permission.change_wifi_multicast_state\n",
      "android.permission.change_wifi_state\n",
      "android.permission.change_wimax_state\n",
      "android.permission.clear_app_cache\n",
      "android.permission.clear_app_user_data\n",
      "android.permission.configure_wifi_display\n",
      "android.permission.confirm_full_backup\n",
      "android.permission.connectivity_internal\n",
      "android.permission.control_incall_experience\n",
      "android.permission.control_keyguard\n",
      "android.permission.control_location_updates\n",
      "android.permission.control_vpn\n",
      "android.permission.control_wifi_display\n",
      "android.permission.copy_protected_data\n",
      "android.permission.crypt_keeper\n",
      "android.permission.delete_cache_files\n",
      "android.permission.delete_packages\n",
      "android.permission.device_power\n",
      "android.permission.diagnostic\n",
      "android.permission.disable_keyguard\n",
      "android.permission.download_cache_non_purgeable\n",
      "android.permission.download_without_notification\n",
      "android.permission.dump\n",
      "android.permission.expand_status_bar\n",
      "android.permission.factory_test\n",
      "android.permission.filter_events\n",
      "android.permission.flashlight\n",
      "android.permission.force_back\n",
      "android.permission.force_stop_packages\n",
      "android.permission.frame_stats\n",
      "android.permission.freeze_screen\n",
      "android.permission.get_accounts\n",
      "android.permission.get_app_ops_stats\n",
      "android.permission.get_detailed_tasks\n",
      "android.permission.get_package_size\n",
      "android.permission.get_tasks\n",
      "android.permission.get_top_activity_info\n",
      "android.permission.global_search\n",
      "android.permission.global_search_control\n",
      "android.permission.grant_revoke_permissions\n",
      "android.permission.hardware_test\n",
      "android.permission.hdmi_cec\n",
      "android.permission.inject_events\n",
      "android.permission.install_location_provider\n",
      "android.permission.install_packages\n",
      "android.permission.interact_across_users\n",
      "android.permission.interact_across_users_full\n",
      "android.permission.internal_system_window\n",
      "android.permission.internet\n",
      "android.permission.invoke_carrier_setup\n",
      "android.permission.kill_background_processes\n",
      "android.permission.launch_trust_agent_settings\n",
      "android.permission.location_hardware\n",
      "android.permission.loop_radio\n",
      "android.permission.manage_accounts\n",
      "android.permission.manage_activity_stacks\n",
      "android.permission.manage_app_tokens\n",
      "android.permission.manage_ca_certificates\n",
      "android.permission.manage_device_admins\n",
      "android.permission.manage_documents\n",
      "android.permission.manage_media_projection\n",
      "android.permission.manage_network_policy\n",
      "android.permission.manage_usb\n",
      "android.permission.manage_users\n",
      "android.permission.manage_voice_keyphrases\n",
      "android.permission.master_clear\n",
      "android.permission.media_content_control\n",
      "android.permission.mms_send_outbox_msg\n",
      "android.permission.modify_appwidget_bind_permissions\n",
      "android.permission.modify_audio_routing\n",
      "android.permission.modify_audio_settings\n",
      "android.permission.modify_network_accounting\n",
      "android.permission.modify_parental_controls\n",
      "android.permission.modify_phone_state\n",
      "android.permission.mount_format_filesystems\n",
      "android.permission.mount_unmount_filesystems\n",
      "android.permission.move_package\n",
      "android.permission.net_admin\n",
      "android.permission.net_tunneling\n",
      "android.permission.nfc\n",
      "android.permission.nfc_handover_status\n",
      "android.permission.oem_unlock_state\n",
      "android.permission.package_usage_stats\n",
      "android.permission.package_verification_agent\n",
      "android.permission.perform_cdma_provisioning\n",
      "android.permission.persistent_activity\n",
      "android.permission.process_calllog_info\n",
      "android.permission.process_outgoing_calls\n",
      "android.permission.provide_trust_agent\n",
      "android.permission.read_calendar\n",
      "android.permission.read_call_log\n",
      "android.permission.read_cell_broadcasts\n",
      "android.permission.read_contacts\n",
      "android.permission.read_dream_state\n",
      "android.permission.read_external_storage\n",
      "android.permission.read_frame_buffer\n",
      "android.permission.read_input_state\n",
      "android.permission.read_install_sessions\n",
      "android.permission.read_logs\n",
      "android.permission.read_network_usage_history\n",
      "android.permission.read_phone_state\n",
      "android.permission.read_precise_phone_state\n",
      "android.permission.read_privileged_phone_state\n",
      "android.permission.read_profile\n",
      "android.permission.read_search_indexables\n",
      "android.permission.read_sms\n",
      "android.permission.read_social_stream\n",
      "android.permission.read_sync_settings\n",
      "android.permission.read_sync_stats\n",
      "android.permission.read_user_dictionary\n",
      "android.permission.read_wifi_credential\n",
      "android.permission.real_get_tasks\n",
      "android.permission.reboot\n",
      "android.permission.receive_bluetooth_map\n",
      "android.permission.receive_boot_completed\n",
      "android.permission.receive_data_activity_change\n",
      "android.permission.receive_emergency_broadcast\n",
      "android.permission.receive_mms\n",
      "android.permission.receive_sms\n",
      "android.permission.receive_wap_push\n",
      "android.permission.record_audio\n",
      "android.permission.recovery\n",
      "android.permission.register_call_provider\n",
      "android.permission.register_connection_manager\n",
      "android.permission.register_sim_subscription\n",
      "android.permission.remote_audio_playback\n",
      "android.permission.remove_drm_certificates\n",
      "android.permission.remove_tasks\n",
      "android.permission.reorder_tasks\n",
      "android.permission.restart_packages\n",
      "android.permission.retrieve_window_content\n",
      "android.permission.retrieve_window_token\n",
      "android.permission.score_networks\n",
      "android.permission.send_download_completed_intents\n",
      "android.permission.send_respond_via_message\n",
      "android.permission.send_sms\n",
      "android.permission.serial_port\n",
      "android.permission.set_activity_watcher\n",
      "android.permission.set_always_finish\n",
      "android.permission.set_animation_scale\n",
      "android.permission.set_debug_app\n",
      "android.permission.set_input_calibration\n",
      "android.permission.set_keyboard_layout\n",
      "android.permission.set_orientation\n",
      "android.permission.set_pointer_speed\n",
      "android.permission.set_preferred_applications\n",
      "android.permission.set_process_limit\n",
      "android.permission.set_screen_compatibility\n",
      "android.permission.set_time\n",
      "android.permission.set_time_zone\n",
      "android.permission.set_wallpaper\n",
      "android.permission.set_wallpaper_component\n",
      "android.permission.set_wallpaper_hints\n",
      "android.permission.shutdown\n",
      "android.permission.signal_persistent_processes\n",
      "android.permission.start_any_activity\n",
      "android.permission.start_print_service_config_activity\n",
      "android.permission.start_tasks_from_recents\n",
      "android.permission.status_bar\n",
      "android.permission.status_bar_service\n",
      "android.permission.stop_app_switches\n",
      "android.permission.subscribed_feeds_read\n",
      "android.permission.subscribed_feeds_write\n",
      "android.permission.system_alert_window\n",
      "android.permission.temporary_enable_accessibility\n",
      "android.permission.transmit_ir\n",
      "android.permission.trust_listener\n",
      "android.permission.tv_input_hardware\n",
      "android.permission.update_app_ops_stats\n",
      "android.permission.update_device_stats\n",
      "android.permission.update_lock\n",
      "android.permission.user_activity\n",
      "android.permission.use_credentials\n",
      "android.permission.use_sip\n",
      "android.permission.vibrate\n",
      "android.permission.wake_lock\n",
      "android.permission.write_apn_settings\n",
      "android.permission.write_calendar\n",
      "android.permission.write_call_log\n",
      "android.permission.write_contacts\n",
      "android.permission.write_dream_state\n",
      "android.permission.write_external_storage\n",
      "android.permission.write_gservices\n",
      "android.permission.write_media_storage\n",
      "android.permission.write_profile\n",
      "android.permission.write_secure_settings\n",
      "android.permission.write_settings\n",
      "android.permission.write_sms\n",
      "android.permission.write_social_stream\n",
      "android.permission.write_sync_settings\n",
      "android.permission.write_user_dictionary\n",
      "com.android.alarm.permission.set_alarm\n",
      "com.android.browser.permission.preload\n",
      "com.android.browser.permission.read_history_bookmarks\n",
      "com.android.browser.permission.write_history_bookmarks\n",
      "com.android.certinstaller.install_as_user\n",
      "com.android.cts.intent.sender.permission.sample\n",
      "com.android.cts.keysets_permdef.keysets_perm\n",
      "com.android.cts.permissionallowedwithsignature\n",
      "com.android.cts.permissionnormal\n",
      "com.android.cts.permissionnotusedwithsignature\n",
      "com.android.cts.permissionwithsignature\n",
      "com.android.email.permission.access_provider\n",
      "com.android.email.permission.read_attachment\n",
      "com.android.frameworks.coretests.dangerous\n",
      "com.android.frameworks.coretests.normal\n",
      "com.android.frameworks.coretests.signature\n",
      "com.android.frameworks.coretests.keysets_permdef.keyset_perm\n",
      "com.android.frameworks.coretests.permission.test_denied\n",
      "com.android.frameworks.coretests.permission.test_granted\n",
      "com.android.gallery3d.filtershow.permission.read\n",
      "com.android.gallery3d.filtershow.permission.write\n",
      "com.android.gallery3d.permission.gallery_provider\n",
      "com.android.launcher.permission.install_shortcut\n",
      "com.android.launcher.permission.preload_workspace\n",
      "com.android.launcher.permission.read_settings\n",
      "com.android.launcher.permission.uninstall_shortcut\n",
      "com.android.launcher.permission.write_settings\n",
      "com.android.launcher3.permission.read_settings\n",
      "com.android.launcher3.permission.receive_first_load_broadcast\n",
      "com.android.launcher3.permission.receive_launch_broadcasts\n",
      "com.android.launcher3.permission.write_settings\n",
      "com.android.permission.whitelist_bluetooth_device\n",
      "com.android.printspooler.permission.access_all_print_jobs\n",
      "com.android.providers.tv.permission.access_all_epg_data\n",
      "com.android.providers.tv.permission.access_watched_programs\n",
      "com.android.providers.tv.permission.read_epg_data\n",
      "com.android.providers.tv.permission.write_epg_data\n",
      "com.android.smspush.wappush_manager_bind\n",
      "com.android.voicemail.permission.add_voicemail\n",
      "com.android.voicemail.permission.read_voicemail\n",
      "com.android.voicemail.permission.write_voicemail\n",
      "com.foo.mypermission\n",
      "com.foo.mypermission2\n",
      "org.chromium.chrome.shell.permission.c2d_message\n",
      "org.chromium.chrome.shell.permission.debug\n",
      "org.chromium.chrome.shell.permission.sandbox\n",
      "org.chromium.chromecast.shell.permission.sandbox\n",
      "org.chromium.content_shell.permission.sandbox\n",
      "test_permission\n",
      "type\n"
     ]
    }
   ],
   "source": [
    "for column in df.columns.tolist():\n",
    "    print(column)"
   ]
  },
  {
   "cell_type": "markdown",
   "metadata": {},
   "source": [
    "### Wrangling - Data wrangling and Pre-processing"
   ]
  },
  {
   "cell_type": "markdown",
   "metadata": {},
   "source": [
    "Get all non numeric values from the dataset"
   ]
  },
  {
   "cell_type": "code",
   "execution_count": 6,
   "metadata": {
    "execution": {
     "iopub.execute_input": "2021-08-22T17:31:04.435431Z",
     "iopub.status.busy": "2021-08-22T17:31:04.435083Z",
     "iopub.status.idle": "2021-08-22T17:31:04.450538Z",
     "shell.execute_reply": "2021-08-22T17:31:04.449343Z",
     "shell.execute_reply.started": "2021-08-22T17:31:04.4354Z"
    }
   },
   "outputs": [
    {
     "name": "stdout",
     "output_type": "stream",
     "text": [
      "number of columns with no null values: 331\n",
      "number of columns with no na values: 331\n"
     ]
    }
   ],
   "source": [
    "null_series = df.isnull().sum()\n",
    "count =0\n",
    "for _, val in null_series.iteritems():\n",
    "    if(val>0):\n",
    "        print (_ + \"      \"+ str(val))\n",
    "    else:\n",
    "        count = count +1\n",
    "print(\"number of columns with no null values: \"+ str(count))\n",
    "\n",
    "na_series = df.isna().sum()\n",
    "count =0\n",
    "for _, val in na_series.iteritems():\n",
    "    if(val>0):\n",
    "        print (_ + \"      \"+ str(val))\n",
    "    else:\n",
    "        count = count +1\n",
    "print(\"number of columns with no na values: \"+ str(count))"
   ]
  },
  {
   "cell_type": "markdown",
   "metadata": {},
   "source": [
    "So there are no missing values in the dataset"
   ]
  },
  {
   "cell_type": "markdown",
   "metadata": {},
   "source": [
    "Find all outlier values in each column"
   ]
  },
  {
   "cell_type": "code",
   "execution_count": 7,
   "metadata": {
    "execution": {
     "iopub.execute_input": "2021-08-22T17:31:04.452986Z",
     "iopub.status.busy": "2021-08-22T17:31:04.452522Z",
     "iopub.status.idle": "2021-08-22T17:31:04.752095Z",
     "shell.execute_reply": "2021-08-22T17:31:04.750577Z",
     "shell.execute_reply.started": "2021-08-22T17:31:04.452941Z"
    }
   },
   "outputs": [
    {
     "name": "stdout",
     "output_type": "stream",
     "text": [
      "Total number of features with values as only 0,1: 331\n"
     ]
    }
   ],
   "source": [
    "onezero = 0\n",
    "for column in df.columns:\n",
    "    cnt = len(df[(df[column]!= 0) & (df[column]!= 1)])\n",
    "    if(cnt > 0):\n",
    "        print(column + \" has \"+ str(cnt) +\" rows with value other than 0,1\")\n",
    "    else:\n",
    "        onezero = onezero + 1\n",
    "print(\"Total number of features with values as only 0,1: \" + str(onezero))"
   ]
  },
  {
   "cell_type": "markdown",
   "metadata": {},
   "source": [
    "There are no outliers in any column"
   ]
  },
  {
   "cell_type": "markdown",
   "metadata": {},
   "source": [
    "Since all values are either 0 or 1 no need to perform normalization"
   ]
  },
  {
   "cell_type": "markdown",
   "metadata": {},
   "source": [
    "So let's cast the dataframe columns to integer type to ease out our analysis process"
   ]
  },
  {
   "cell_type": "code",
   "execution_count": 9,
   "metadata": {
    "execution": {
     "iopub.execute_input": "2021-08-22T17:31:04.753625Z",
     "iopub.status.busy": "2021-08-22T17:31:04.75333Z",
     "iopub.status.idle": "2021-08-22T17:31:04.760423Z",
     "shell.execute_reply": "2021-08-22T17:31:04.759436Z",
     "shell.execute_reply.started": "2021-08-22T17:31:04.753595Z"
    }
   },
   "outputs": [],
   "source": [
    "df = df.astype(\"int64\")"
   ]
  },
  {
   "cell_type": "markdown",
   "metadata": {},
   "source": [
    "View sample data"
   ]
  },
  {
   "cell_type": "code",
   "execution_count": 10,
   "metadata": {
    "execution": {
     "iopub.execute_input": "2021-08-22T17:31:04.762057Z",
     "iopub.status.busy": "2021-08-22T17:31:04.761607Z",
     "iopub.status.idle": "2021-08-22T17:31:04.799205Z",
     "shell.execute_reply": "2021-08-22T17:31:04.798254Z",
     "shell.execute_reply.started": "2021-08-22T17:31:04.762023Z"
    }
   },
   "outputs": [
    {
     "data": {
      "text/html": [
       "<div>\n",
       "<style scoped>\n",
       "    .dataframe tbody tr th:only-of-type {\n",
       "        vertical-align: middle;\n",
       "    }\n",
       "\n",
       "    .dataframe tbody tr th {\n",
       "        vertical-align: top;\n",
       "    }\n",
       "\n",
       "    .dataframe thead th {\n",
       "        text-align: right;\n",
       "    }\n",
       "</style>\n",
       "<table border=\"1\" class=\"dataframe\">\n",
       "  <thead>\n",
       "    <tr style=\"text-align: right;\">\n",
       "      <th></th>\n",
       "      <th>android</th>\n",
       "      <th>android.app.cts.permission.test_granted</th>\n",
       "      <th>android.intent.category.master_clear.permission.c2d_message</th>\n",
       "      <th>android.os.cts.permission.test_granted</th>\n",
       "      <th>android.permission.access_all_downloads</th>\n",
       "      <th>android.permission.access_all_external_storage</th>\n",
       "      <th>android.permission.access_bluetooth_share</th>\n",
       "      <th>android.permission.access_cache_filesystem</th>\n",
       "      <th>android.permission.access_checkin_properties</th>\n",
       "      <th>android.permission.access_coarse_location</th>\n",
       "      <th>...</th>\n",
       "      <th>com.android.voicemail.permission.write_voicemail</th>\n",
       "      <th>com.foo.mypermission</th>\n",
       "      <th>com.foo.mypermission2</th>\n",
       "      <th>org.chromium.chrome.shell.permission.c2d_message</th>\n",
       "      <th>org.chromium.chrome.shell.permission.debug</th>\n",
       "      <th>org.chromium.chrome.shell.permission.sandbox</th>\n",
       "      <th>org.chromium.chromecast.shell.permission.sandbox</th>\n",
       "      <th>org.chromium.content_shell.permission.sandbox</th>\n",
       "      <th>test_permission</th>\n",
       "      <th>type</th>\n",
       "    </tr>\n",
       "  </thead>\n",
       "  <tbody>\n",
       "    <tr>\n",
       "      <th>0</th>\n",
       "      <td>0</td>\n",
       "      <td>0</td>\n",
       "      <td>0</td>\n",
       "      <td>0</td>\n",
       "      <td>0</td>\n",
       "      <td>0</td>\n",
       "      <td>0</td>\n",
       "      <td>0</td>\n",
       "      <td>0</td>\n",
       "      <td>0</td>\n",
       "      <td>...</td>\n",
       "      <td>0</td>\n",
       "      <td>0</td>\n",
       "      <td>0</td>\n",
       "      <td>0</td>\n",
       "      <td>0</td>\n",
       "      <td>0</td>\n",
       "      <td>0</td>\n",
       "      <td>0</td>\n",
       "      <td>0</td>\n",
       "      <td>1</td>\n",
       "    </tr>\n",
       "    <tr>\n",
       "      <th>1</th>\n",
       "      <td>0</td>\n",
       "      <td>0</td>\n",
       "      <td>0</td>\n",
       "      <td>0</td>\n",
       "      <td>0</td>\n",
       "      <td>0</td>\n",
       "      <td>0</td>\n",
       "      <td>0</td>\n",
       "      <td>0</td>\n",
       "      <td>0</td>\n",
       "      <td>...</td>\n",
       "      <td>0</td>\n",
       "      <td>0</td>\n",
       "      <td>0</td>\n",
       "      <td>0</td>\n",
       "      <td>0</td>\n",
       "      <td>0</td>\n",
       "      <td>0</td>\n",
       "      <td>0</td>\n",
       "      <td>0</td>\n",
       "      <td>1</td>\n",
       "    </tr>\n",
       "    <tr>\n",
       "      <th>2</th>\n",
       "      <td>0</td>\n",
       "      <td>0</td>\n",
       "      <td>0</td>\n",
       "      <td>0</td>\n",
       "      <td>0</td>\n",
       "      <td>0</td>\n",
       "      <td>0</td>\n",
       "      <td>0</td>\n",
       "      <td>0</td>\n",
       "      <td>0</td>\n",
       "      <td>...</td>\n",
       "      <td>0</td>\n",
       "      <td>0</td>\n",
       "      <td>0</td>\n",
       "      <td>0</td>\n",
       "      <td>0</td>\n",
       "      <td>0</td>\n",
       "      <td>0</td>\n",
       "      <td>0</td>\n",
       "      <td>0</td>\n",
       "      <td>1</td>\n",
       "    </tr>\n",
       "    <tr>\n",
       "      <th>3</th>\n",
       "      <td>0</td>\n",
       "      <td>0</td>\n",
       "      <td>0</td>\n",
       "      <td>0</td>\n",
       "      <td>0</td>\n",
       "      <td>0</td>\n",
       "      <td>0</td>\n",
       "      <td>0</td>\n",
       "      <td>0</td>\n",
       "      <td>0</td>\n",
       "      <td>...</td>\n",
       "      <td>0</td>\n",
       "      <td>0</td>\n",
       "      <td>0</td>\n",
       "      <td>0</td>\n",
       "      <td>0</td>\n",
       "      <td>0</td>\n",
       "      <td>0</td>\n",
       "      <td>0</td>\n",
       "      <td>0</td>\n",
       "      <td>1</td>\n",
       "    </tr>\n",
       "    <tr>\n",
       "      <th>4</th>\n",
       "      <td>0</td>\n",
       "      <td>0</td>\n",
       "      <td>0</td>\n",
       "      <td>0</td>\n",
       "      <td>0</td>\n",
       "      <td>0</td>\n",
       "      <td>0</td>\n",
       "      <td>0</td>\n",
       "      <td>0</td>\n",
       "      <td>0</td>\n",
       "      <td>...</td>\n",
       "      <td>0</td>\n",
       "      <td>0</td>\n",
       "      <td>0</td>\n",
       "      <td>0</td>\n",
       "      <td>0</td>\n",
       "      <td>0</td>\n",
       "      <td>0</td>\n",
       "      <td>0</td>\n",
       "      <td>0</td>\n",
       "      <td>1</td>\n",
       "    </tr>\n",
       "  </tbody>\n",
       "</table>\n",
       "<p>5 rows × 331 columns</p>\n",
       "</div>"
      ],
      "text/plain": [
       "   android  android.app.cts.permission.test_granted  \\\n",
       "0        0                                        0   \n",
       "1        0                                        0   \n",
       "2        0                                        0   \n",
       "3        0                                        0   \n",
       "4        0                                        0   \n",
       "\n",
       "   android.intent.category.master_clear.permission.c2d_message  \\\n",
       "0                                                  0             \n",
       "1                                                  0             \n",
       "2                                                  0             \n",
       "3                                                  0             \n",
       "4                                                  0             \n",
       "\n",
       "   android.os.cts.permission.test_granted  \\\n",
       "0                                       0   \n",
       "1                                       0   \n",
       "2                                       0   \n",
       "3                                       0   \n",
       "4                                       0   \n",
       "\n",
       "   android.permission.access_all_downloads  \\\n",
       "0                                        0   \n",
       "1                                        0   \n",
       "2                                        0   \n",
       "3                                        0   \n",
       "4                                        0   \n",
       "\n",
       "   android.permission.access_all_external_storage  \\\n",
       "0                                               0   \n",
       "1                                               0   \n",
       "2                                               0   \n",
       "3                                               0   \n",
       "4                                               0   \n",
       "\n",
       "   android.permission.access_bluetooth_share  \\\n",
       "0                                          0   \n",
       "1                                          0   \n",
       "2                                          0   \n",
       "3                                          0   \n",
       "4                                          0   \n",
       "\n",
       "   android.permission.access_cache_filesystem  \\\n",
       "0                                           0   \n",
       "1                                           0   \n",
       "2                                           0   \n",
       "3                                           0   \n",
       "4                                           0   \n",
       "\n",
       "   android.permission.access_checkin_properties  \\\n",
       "0                                             0   \n",
       "1                                             0   \n",
       "2                                             0   \n",
       "3                                             0   \n",
       "4                                             0   \n",
       "\n",
       "   android.permission.access_coarse_location  ...  \\\n",
       "0                                          0  ...   \n",
       "1                                          0  ...   \n",
       "2                                          0  ...   \n",
       "3                                          0  ...   \n",
       "4                                          0  ...   \n",
       "\n",
       "   com.android.voicemail.permission.write_voicemail  com.foo.mypermission  \\\n",
       "0                                                 0                     0   \n",
       "1                                                 0                     0   \n",
       "2                                                 0                     0   \n",
       "3                                                 0                     0   \n",
       "4                                                 0                     0   \n",
       "\n",
       "   com.foo.mypermission2  org.chromium.chrome.shell.permission.c2d_message  \\\n",
       "0                      0                                                 0   \n",
       "1                      0                                                 0   \n",
       "2                      0                                                 0   \n",
       "3                      0                                                 0   \n",
       "4                      0                                                 0   \n",
       "\n",
       "   org.chromium.chrome.shell.permission.debug  \\\n",
       "0                                           0   \n",
       "1                                           0   \n",
       "2                                           0   \n",
       "3                                           0   \n",
       "4                                           0   \n",
       "\n",
       "   org.chromium.chrome.shell.permission.sandbox  \\\n",
       "0                                             0   \n",
       "1                                             0   \n",
       "2                                             0   \n",
       "3                                             0   \n",
       "4                                             0   \n",
       "\n",
       "   org.chromium.chromecast.shell.permission.sandbox  \\\n",
       "0                                                 0   \n",
       "1                                                 0   \n",
       "2                                                 0   \n",
       "3                                                 0   \n",
       "4                                                 0   \n",
       "\n",
       "   org.chromium.content_shell.permission.sandbox  test_permission  type  \n",
       "0                                              0                0     1  \n",
       "1                                              0                0     1  \n",
       "2                                              0                0     1  \n",
       "3                                              0                0     1  \n",
       "4                                              0                0     1  \n",
       "\n",
       "[5 rows x 331 columns]"
      ]
     },
     "execution_count": 10,
     "metadata": {},
     "output_type": "execute_result"
    }
   ],
   "source": [
    "df.head()"
   ]
  },
  {
   "cell_type": "markdown",
   "metadata": {},
   "source": [
    "Analyze feautres "
   ]
  },
  {
   "cell_type": "markdown",
   "metadata": {},
   "source": [
    "Count of malware (1) vs benign apps (0) based on type column"
   ]
  },
  {
   "cell_type": "code",
   "execution_count": 11,
   "metadata": {
    "execution": {
     "iopub.execute_input": "2021-08-22T17:31:04.802084Z",
     "iopub.status.busy": "2021-08-22T17:31:04.801557Z",
     "iopub.status.idle": "2021-08-22T17:31:04.810188Z",
     "shell.execute_reply": "2021-08-22T17:31:04.809186Z",
     "shell.execute_reply.started": "2021-08-22T17:31:04.802042Z"
    }
   },
   "outputs": [
    {
     "data": {
      "text/plain": [
       "1    199\n",
       "0    199\n",
       "Name: type, dtype: int64"
      ]
     },
     "execution_count": 11,
     "metadata": {},
     "output_type": "execute_result"
    }
   ],
   "source": [
    "df.type.value_counts()"
   ]
  },
  {
   "cell_type": "markdown",
   "metadata": {},
   "source": [
    "So there are 199 malwares and 199 benign apps in the dataset.<br>\n",
    "So the data is equally distributed"
   ]
  },
  {
   "cell_type": "markdown",
   "metadata": {},
   "source": [
    "#### Plot 10 features"
   ]
  },
  {
   "cell_type": "markdown",
   "metadata": {},
   "source": [
    "Let us find the top 10 features that determine whether the app is malware or not"
   ]
  },
  {
   "cell_type": "markdown",
   "metadata": {},
   "source": [
    "Top 10 permissions required by Malware apps"
   ]
  },
  {
   "cell_type": "code",
   "execution_count": 12,
   "metadata": {
    "execution": {
     "iopub.execute_input": "2021-08-22T17:31:04.812627Z",
     "iopub.status.busy": "2021-08-22T17:31:04.812112Z",
     "iopub.status.idle": "2021-08-22T17:31:04.831409Z",
     "shell.execute_reply": "2021-08-22T17:31:04.830467Z",
     "shell.execute_reply.started": "2021-08-22T17:31:04.812595Z"
    }
   },
   "outputs": [
    {
     "data": {
      "text/plain": [
       "android.permission.internet                  195\n",
       "android.permission.read_phone_state          190\n",
       "android.permission.access_network_state      167\n",
       "android.permission.write_external_storage    136\n",
       "android.permission.access_wifi_state         135\n",
       "android.permission.read_sms                  124\n",
       "android.permission.write_sms                 104\n",
       "android.permission.receive_boot_completed    102\n",
       "android.permission.access_coarse_location     80\n",
       "android.permission.change_wifi_state          75\n",
       "dtype: int64"
      ]
     },
     "execution_count": 12,
     "metadata": {},
     "output_type": "execute_result"
    }
   ],
   "source": [
    "pd.Series.sort_values(df[df.type==1].sum(axis=0), ascending=False)[1:11]"
   ]
  },
  {
   "cell_type": "markdown",
   "metadata": {},
   "source": [
    "Top 10 permissions required by benign apps"
   ]
  },
  {
   "cell_type": "code",
   "execution_count": 13,
   "metadata": {
    "execution": {
     "iopub.execute_input": "2021-08-22T17:31:04.833464Z",
     "iopub.status.busy": "2021-08-22T17:31:04.832878Z",
     "iopub.status.idle": "2021-08-22T17:31:04.849203Z",
     "shell.execute_reply": "2021-08-22T17:31:04.848079Z",
     "shell.execute_reply.started": "2021-08-22T17:31:04.833399Z"
    }
   },
   "outputs": [
    {
     "data": {
      "text/plain": [
       "android.permission.write_external_storage    76\n",
       "android.permission.access_network_state      62\n",
       "android.permission.wake_lock                 36\n",
       "android.permission.receive_boot_completed    30\n",
       "android.permission.access_wifi_state         29\n",
       "android.permission.read_phone_state          24\n",
       "android.permission.vibrate                   21\n",
       "android.permission.access_fine_location      18\n",
       "android.permission.read_external_storage     15\n",
       "android.permission.read_contacts             13\n",
       "dtype: int64"
      ]
     },
     "execution_count": 13,
     "metadata": {},
     "output_type": "execute_result"
    }
   ],
   "source": [
    "pd.Series.sort_values(df[df.type==0].sum(axis=0), ascending=False)[1:11]"
   ]
  },
  {
   "cell_type": "markdown",
   "metadata": {},
   "source": [
    "Let us plot a bar char for the above top 10 features"
   ]
  },
  {
   "cell_type": "code",
   "execution_count": 14,
   "metadata": {
    "execution": {
     "iopub.execute_input": "2021-08-22T17:31:04.850986Z",
     "iopub.status.busy": "2021-08-22T17:31:04.850665Z",
     "iopub.status.idle": "2021-08-22T17:31:05.29074Z",
     "shell.execute_reply": "2021-08-22T17:31:05.289276Z",
     "shell.execute_reply.started": "2021-08-22T17:31:04.850954Z"
    }
   },
   "outputs": [
    {
     "data": {
      "text/plain": [
       "<AxesSubplot:title={'center':'Malware Apps'}, xlabel='Permissions', ylabel='Count of apps'>"
      ]
     },
     "execution_count": 14,
     "metadata": {},
     "output_type": "execute_result"
    },
    {
     "data": {
      "image/png": "[encoded data removed]",
      "text/plain": [
       "<Figure size 432x288 with 2 Axes>"
      ]
     },
     "metadata": {
      "needs_background": "light"
     },
     "output_type": "display_data"
    }
   ],
   "source": [
    "fig, axs =  plt.subplots(nrows=2, sharex=True)\n",
    "pd.Series.sort_values(df[df.type==0].sum(axis=0), ascending=False)[1:11].plot.bar(ax=axs[0], color=\"green\", title=\"Benign Apps\")\n",
    "pd.Series.sort_values(df[df.type==1].sum(axis=0), ascending=False)[1:11].plot.bar(ax=axs[1], color=\"red\", title=\"Malware Apps\", ylabel=\"Count of apps\", xlabel=\"Permissions\")"
   ]
  },
  {
   "cell_type": "markdown",
   "metadata": {},
   "source": [
    "Describing the features in the dataset"
   ]
  },
  {
   "cell_type": "code",
   "execution_count": 15,
   "metadata": {
    "execution": {
     "iopub.execute_input": "2021-08-22T17:31:05.292511Z",
     "iopub.status.busy": "2021-08-22T17:31:05.292181Z",
     "iopub.status.idle": "2021-08-22T17:31:05.941286Z",
     "shell.execute_reply": "2021-08-22T17:31:05.940059Z",
     "shell.execute_reply.started": "2021-08-22T17:31:05.292477Z"
    }
   },
   "outputs": [
    {
     "data": {
      "text/html": [
       "<div>\n",
       "<style scoped>\n",
       "    .dataframe tbody tr th:only-of-type {\n",
       "        vertical-align: middle;\n",
       "    }\n",
       "\n",
       "    .dataframe tbody tr th {\n",
       "        vertical-align: top;\n",
       "    }\n",
       "\n",
       "    .dataframe thead th {\n",
       "        text-align: right;\n",
       "    }\n",
       "</style>\n",
       "<table border=\"1\" class=\"dataframe\">\n",
       "  <thead>\n",
       "    <tr style=\"text-align: right;\">\n",
       "      <th></th>\n",
       "      <th>android</th>\n",
       "      <th>android.app.cts.permission.test_granted</th>\n",
       "      <th>android.intent.category.master_clear.permission.c2d_message</th>\n",
       "      <th>android.os.cts.permission.test_granted</th>\n",
       "      <th>android.permission.access_all_downloads</th>\n",
       "      <th>android.permission.access_all_external_storage</th>\n",
       "      <th>android.permission.access_bluetooth_share</th>\n",
       "      <th>android.permission.access_cache_filesystem</th>\n",
       "      <th>android.permission.access_checkin_properties</th>\n",
       "      <th>android.permission.access_coarse_location</th>\n",
       "      <th>...</th>\n",
       "      <th>com.android.voicemail.permission.write_voicemail</th>\n",
       "      <th>com.foo.mypermission</th>\n",
       "      <th>com.foo.mypermission2</th>\n",
       "      <th>org.chromium.chrome.shell.permission.c2d_message</th>\n",
       "      <th>org.chromium.chrome.shell.permission.debug</th>\n",
       "      <th>org.chromium.chrome.shell.permission.sandbox</th>\n",
       "      <th>org.chromium.chromecast.shell.permission.sandbox</th>\n",
       "      <th>org.chromium.content_shell.permission.sandbox</th>\n",
       "      <th>test_permission</th>\n",
       "      <th>type</th>\n",
       "    </tr>\n",
       "  </thead>\n",
       "  <tbody>\n",
       "    <tr>\n",
       "      <th>count</th>\n",
       "      <td>398.0</td>\n",
       "      <td>398.0</td>\n",
       "      <td>398.0</td>\n",
       "      <td>398.0</td>\n",
       "      <td>398.0</td>\n",
       "      <td>398.0</td>\n",
       "      <td>398.0</td>\n",
       "      <td>398.000000</td>\n",
       "      <td>398.0</td>\n",
       "      <td>398.000000</td>\n",
       "      <td>...</td>\n",
       "      <td>398.0</td>\n",
       "      <td>398.0</td>\n",
       "      <td>398.0</td>\n",
       "      <td>398.0</td>\n",
       "      <td>398.0</td>\n",
       "      <td>398.0</td>\n",
       "      <td>398.0</td>\n",
       "      <td>398.0</td>\n",
       "      <td>398.0</td>\n",
       "      <td>398.000000</td>\n",
       "    </tr>\n",
       "    <tr>\n",
       "      <th>mean</th>\n",
       "      <td>0.0</td>\n",
       "      <td>0.0</td>\n",
       "      <td>0.0</td>\n",
       "      <td>0.0</td>\n",
       "      <td>0.0</td>\n",
       "      <td>0.0</td>\n",
       "      <td>0.0</td>\n",
       "      <td>0.005025</td>\n",
       "      <td>0.0</td>\n",
       "      <td>0.233668</td>\n",
       "      <td>...</td>\n",
       "      <td>0.0</td>\n",
       "      <td>0.0</td>\n",
       "      <td>0.0</td>\n",
       "      <td>0.0</td>\n",
       "      <td>0.0</td>\n",
       "      <td>0.0</td>\n",
       "      <td>0.0</td>\n",
       "      <td>0.0</td>\n",
       "      <td>0.0</td>\n",
       "      <td>0.500000</td>\n",
       "    </tr>\n",
       "    <tr>\n",
       "      <th>std</th>\n",
       "      <td>0.0</td>\n",
       "      <td>0.0</td>\n",
       "      <td>0.0</td>\n",
       "      <td>0.0</td>\n",
       "      <td>0.0</td>\n",
       "      <td>0.0</td>\n",
       "      <td>0.0</td>\n",
       "      <td>0.070799</td>\n",
       "      <td>0.0</td>\n",
       "      <td>0.423696</td>\n",
       "      <td>...</td>\n",
       "      <td>0.0</td>\n",
       "      <td>0.0</td>\n",
       "      <td>0.0</td>\n",
       "      <td>0.0</td>\n",
       "      <td>0.0</td>\n",
       "      <td>0.0</td>\n",
       "      <td>0.0</td>\n",
       "      <td>0.0</td>\n",
       "      <td>0.0</td>\n",
       "      <td>0.500629</td>\n",
       "    </tr>\n",
       "    <tr>\n",
       "      <th>min</th>\n",
       "      <td>0.0</td>\n",
       "      <td>0.0</td>\n",
       "      <td>0.0</td>\n",
       "      <td>0.0</td>\n",
       "      <td>0.0</td>\n",
       "      <td>0.0</td>\n",
       "      <td>0.0</td>\n",
       "      <td>0.000000</td>\n",
       "      <td>0.0</td>\n",
       "      <td>0.000000</td>\n",
       "      <td>...</td>\n",
       "      <td>0.0</td>\n",
       "      <td>0.0</td>\n",
       "      <td>0.0</td>\n",
       "      <td>0.0</td>\n",
       "      <td>0.0</td>\n",
       "      <td>0.0</td>\n",
       "      <td>0.0</td>\n",
       "      <td>0.0</td>\n",
       "      <td>0.0</td>\n",
       "      <td>0.000000</td>\n",
       "    </tr>\n",
       "    <tr>\n",
       "      <th>25%</th>\n",
       "      <td>0.0</td>\n",
       "      <td>0.0</td>\n",
       "      <td>0.0</td>\n",
       "      <td>0.0</td>\n",
       "      <td>0.0</td>\n",
       "      <td>0.0</td>\n",
       "      <td>0.0</td>\n",
       "      <td>0.000000</td>\n",
       "      <td>0.0</td>\n",
       "      <td>0.000000</td>\n",
       "      <td>...</td>\n",
       "      <td>0.0</td>\n",
       "      <td>0.0</td>\n",
       "      <td>0.0</td>\n",
       "      <td>0.0</td>\n",
       "      <td>0.0</td>\n",
       "      <td>0.0</td>\n",
       "      <td>0.0</td>\n",
       "      <td>0.0</td>\n",
       "      <td>0.0</td>\n",
       "      <td>0.000000</td>\n",
       "    </tr>\n",
       "    <tr>\n",
       "      <th>50%</th>\n",
       "      <td>0.0</td>\n",
       "      <td>0.0</td>\n",
       "      <td>0.0</td>\n",
       "      <td>0.0</td>\n",
       "      <td>0.0</td>\n",
       "      <td>0.0</td>\n",
       "      <td>0.0</td>\n",
       "      <td>0.000000</td>\n",
       "      <td>0.0</td>\n",
       "      <td>0.000000</td>\n",
       "      <td>...</td>\n",
       "      <td>0.0</td>\n",
       "      <td>0.0</td>\n",
       "      <td>0.0</td>\n",
       "      <td>0.0</td>\n",
       "      <td>0.0</td>\n",
       "      <td>0.0</td>\n",
       "      <td>0.0</td>\n",
       "      <td>0.0</td>\n",
       "      <td>0.0</td>\n",
       "      <td>0.500000</td>\n",
       "    </tr>\n",
       "    <tr>\n",
       "      <th>75%</th>\n",
       "      <td>0.0</td>\n",
       "      <td>0.0</td>\n",
       "      <td>0.0</td>\n",
       "      <td>0.0</td>\n",
       "      <td>0.0</td>\n",
       "      <td>0.0</td>\n",
       "      <td>0.0</td>\n",
       "      <td>0.000000</td>\n",
       "      <td>0.0</td>\n",
       "      <td>0.000000</td>\n",
       "      <td>...</td>\n",
       "      <td>0.0</td>\n",
       "      <td>0.0</td>\n",
       "      <td>0.0</td>\n",
       "      <td>0.0</td>\n",
       "      <td>0.0</td>\n",
       "      <td>0.0</td>\n",
       "      <td>0.0</td>\n",
       "      <td>0.0</td>\n",
       "      <td>0.0</td>\n",
       "      <td>1.000000</td>\n",
       "    </tr>\n",
       "    <tr>\n",
       "      <th>max</th>\n",
       "      <td>0.0</td>\n",
       "      <td>0.0</td>\n",
       "      <td>0.0</td>\n",
       "      <td>0.0</td>\n",
       "      <td>0.0</td>\n",
       "      <td>0.0</td>\n",
       "      <td>0.0</td>\n",
       "      <td>1.000000</td>\n",
       "      <td>0.0</td>\n",
       "      <td>1.000000</td>\n",
       "      <td>...</td>\n",
       "      <td>0.0</td>\n",
       "      <td>0.0</td>\n",
       "      <td>0.0</td>\n",
       "      <td>0.0</td>\n",
       "      <td>0.0</td>\n",
       "      <td>0.0</td>\n",
       "      <td>0.0</td>\n",
       "      <td>0.0</td>\n",
       "      <td>0.0</td>\n",
       "      <td>1.000000</td>\n",
       "    </tr>\n",
       "  </tbody>\n",
       "</table>\n",
       "<p>8 rows × 331 columns</p>\n",
       "</div>"
      ],
      "text/plain": [
       "       android  android.app.cts.permission.test_granted  \\\n",
       "count    398.0                                    398.0   \n",
       "mean       0.0                                      0.0   \n",
       "std        0.0                                      0.0   \n",
       "min        0.0                                      0.0   \n",
       "25%        0.0                                      0.0   \n",
       "50%        0.0                                      0.0   \n",
       "75%        0.0                                      0.0   \n",
       "max        0.0                                      0.0   \n",
       "\n",
       "       android.intent.category.master_clear.permission.c2d_message  \\\n",
       "count                                              398.0             \n",
       "mean                                                 0.0             \n",
       "std                                                  0.0             \n",
       "min                                                  0.0             \n",
       "25%                                                  0.0             \n",
       "50%                                                  0.0             \n",
       "75%                                                  0.0             \n",
       "max                                                  0.0             \n",
       "\n",
       "       android.os.cts.permission.test_granted  \\\n",
       "count                                   398.0   \n",
       "mean                                      0.0   \n",
       "std                                       0.0   \n",
       "min                                       0.0   \n",
       "25%                                       0.0   \n",
       "50%                                       0.0   \n",
       "75%                                       0.0   \n",
       "max                                       0.0   \n",
       "\n",
       "       android.permission.access_all_downloads  \\\n",
       "count                                    398.0   \n",
       "mean                                       0.0   \n",
       "std                                        0.0   \n",
       "min                                        0.0   \n",
       "25%                                        0.0   \n",
       "50%                                        0.0   \n",
       "75%                                        0.0   \n",
       "max                                        0.0   \n",
       "\n",
       "       android.permission.access_all_external_storage  \\\n",
       "count                                           398.0   \n",
       "mean                                              0.0   \n",
       "std                                               0.0   \n",
       "min                                               0.0   \n",
       "25%                                               0.0   \n",
       "50%                                               0.0   \n",
       "75%                                               0.0   \n",
       "max                                               0.0   \n",
       "\n",
       "       android.permission.access_bluetooth_share  \\\n",
       "count                                      398.0   \n",
       "mean                                         0.0   \n",
       "std                                          0.0   \n",
       "min                                          0.0   \n",
       "25%                                          0.0   \n",
       "50%                                          0.0   \n",
       "75%                                          0.0   \n",
       "max                                          0.0   \n",
       "\n",
       "       android.permission.access_cache_filesystem  \\\n",
       "count                                  398.000000   \n",
       "mean                                     0.005025   \n",
       "std                                      0.070799   \n",
       "min                                      0.000000   \n",
       "25%                                      0.000000   \n",
       "50%                                      0.000000   \n",
       "75%                                      0.000000   \n",
       "max                                      1.000000   \n",
       "\n",
       "       android.permission.access_checkin_properties  \\\n",
       "count                                         398.0   \n",
       "mean                                            0.0   \n",
       "std                                             0.0   \n",
       "min                                             0.0   \n",
       "25%                                             0.0   \n",
       "50%                                             0.0   \n",
       "75%                                             0.0   \n",
       "max                                             0.0   \n",
       "\n",
       "       android.permission.access_coarse_location  ...  \\\n",
       "count                                 398.000000  ...   \n",
       "mean                                    0.233668  ...   \n",
       "std                                     0.423696  ...   \n",
       "min                                     0.000000  ...   \n",
       "25%                                     0.000000  ...   \n",
       "50%                                     0.000000  ...   \n",
       "75%                                     0.000000  ...   \n",
       "max                                     1.000000  ...   \n",
       "\n",
       "       com.android.voicemail.permission.write_voicemail  com.foo.mypermission  \\\n",
       "count                                             398.0                 398.0   \n",
       "mean                                                0.0                   0.0   \n",
       "std                                                 0.0                   0.0   \n",
       "min                                                 0.0                   0.0   \n",
       "25%                                                 0.0                   0.0   \n",
       "50%                                                 0.0                   0.0   \n",
       "75%                                                 0.0                   0.0   \n",
       "max                                                 0.0                   0.0   \n",
       "\n",
       "       com.foo.mypermission2  \\\n",
       "count                  398.0   \n",
       "mean                     0.0   \n",
       "std                      0.0   \n",
       "min                      0.0   \n",
       "25%                      0.0   \n",
       "50%                      0.0   \n",
       "75%                      0.0   \n",
       "max                      0.0   \n",
       "\n",
       "       org.chromium.chrome.shell.permission.c2d_message  \\\n",
       "count                                             398.0   \n",
       "mean                                                0.0   \n",
       "std                                                 0.0   \n",
       "min                                                 0.0   \n",
       "25%                                                 0.0   \n",
       "50%                                                 0.0   \n",
       "75%                                                 0.0   \n",
       "max                                                 0.0   \n",
       "\n",
       "       org.chromium.chrome.shell.permission.debug  \\\n",
       "count                                       398.0   \n",
       "mean                                          0.0   \n",
       "std                                           0.0   \n",
       "min                                           0.0   \n",
       "25%                                           0.0   \n",
       "50%                                           0.0   \n",
       "75%                                           0.0   \n",
       "max                                           0.0   \n",
       "\n",
       "       org.chromium.chrome.shell.permission.sandbox  \\\n",
       "count                                         398.0   \n",
       "mean                                            0.0   \n",
       "std                                             0.0   \n",
       "min                                             0.0   \n",
       "25%                                             0.0   \n",
       "50%                                             0.0   \n",
       "75%                                             0.0   \n",
       "max                                             0.0   \n",
       "\n",
       "       org.chromium.chromecast.shell.permission.sandbox  \\\n",
       "count                                             398.0   \n",
       "mean                                                0.0   \n",
       "std                                                 0.0   \n",
       "min                                                 0.0   \n",
       "25%                                                 0.0   \n",
       "50%                                                 0.0   \n",
       "75%                                                 0.0   \n",
       "max                                                 0.0   \n",
       "\n",
       "       org.chromium.content_shell.permission.sandbox  test_permission  \\\n",
       "count                                          398.0            398.0   \n",
       "mean                                             0.0              0.0   \n",
       "std                                              0.0              0.0   \n",
       "min                                              0.0              0.0   \n",
       "25%                                              0.0              0.0   \n",
       "50%                                              0.0              0.0   \n",
       "75%                                              0.0              0.0   \n",
       "max                                              0.0              0.0   \n",
       "\n",
       "             type  \n",
       "count  398.000000  \n",
       "mean     0.500000  \n",
       "std      0.500629  \n",
       "min      0.000000  \n",
       "25%      0.000000  \n",
       "50%      0.500000  \n",
       "75%      1.000000  \n",
       "max      1.000000  \n",
       "\n",
       "[8 rows x 331 columns]"
      ]
     },
     "execution_count": 15,
     "metadata": {},
     "output_type": "execute_result"
    }
   ],
   "source": [
    "df_desc = df.describe()\n",
    "df_desc"
   ]
  },
  {
   "cell_type": "markdown",
   "metadata": {},
   "source": [
    "from above we can see that certain keywords in permission seems more suspicious so selecting those columns"
   ]
  },
  {
   "cell_type": "code",
   "execution_count": 16,
   "metadata": {
    "execution": {
     "iopub.execute_input": "2021-08-22T17:31:05.943056Z",
     "iopub.status.busy": "2021-08-22T17:31:05.942722Z",
     "iopub.status.idle": "2021-08-22T17:31:05.96913Z",
     "shell.execute_reply": "2021-08-22T17:31:05.967804Z",
     "shell.execute_reply.started": "2021-08-22T17:31:05.943024Z"
    }
   },
   "outputs": [],
   "source": [
    "df1= df.copy()\n",
    "df1 = df1.loc[:,df1.columns.str.contains('type')  |  df1.columns.str.contains('write') | df1.columns.str.contains('delete') | df1.columns.str.contains('clear') | df1.columns.str.contains('boot') | df1.columns.str.contains('change')| df1.columns.str.contains('credential')|df1.columns.str.contains('admin')|df1.columns.str.contains('list')|df1.columns.str.contains('secure_storage')|df1.columns.str.contains('notifications')|df1.columns.str.contains('account')|df1.columns.str.contains('destroy')|df1.columns.str.contains('mount')|df1.columns.str.contains('authenticate')|df1.columns.str.contains('privileged')|df1.columns.str.contains('brick')|df1.columns.str.contains('transmit')|df1.columns.str.contains('capture')|df1.columns.str.contains('disable')|df1.columns.str.contains('install')|df1.columns.str.contains('certificate')|df1.columns.str.contains('send')|df1.columns.str.contains('shutdown')|df1.columns.str.contains('start_any_activity')|df1.columns.str.contains('lock')|df1.columns.str.contains('sms')|df1.columns.str.contains('call')|df1.columns.str.contains('danger')|df1.columns.str.contains('voicemail')]"
   ]
  },
  {
   "cell_type": "code",
   "execution_count": 17,
   "metadata": {
    "execution": {
     "iopub.execute_input": "2021-08-22T17:31:05.970974Z",
     "iopub.status.busy": "2021-08-22T17:31:05.97064Z",
     "iopub.status.idle": "2021-08-22T17:31:05.99149Z",
     "shell.execute_reply": "2021-08-22T17:31:05.990473Z",
     "shell.execute_reply.started": "2021-08-22T17:31:05.970941Z"
    }
   },
   "outputs": [
    {
     "data": {
      "text/html": [
       "<div>\n",
       "<style scoped>\n",
       "    .dataframe tbody tr th:only-of-type {\n",
       "        vertical-align: middle;\n",
       "    }\n",
       "\n",
       "    .dataframe tbody tr th {\n",
       "        vertical-align: top;\n",
       "    }\n",
       "\n",
       "    .dataframe thead th {\n",
       "        text-align: right;\n",
       "    }\n",
       "</style>\n",
       "<table border=\"1\" class=\"dataframe\">\n",
       "  <thead>\n",
       "    <tr style=\"text-align: right;\">\n",
       "      <th></th>\n",
       "      <th>android.intent.category.master_clear.permission.c2d_message</th>\n",
       "      <th>android.permission.access_drm_certificates</th>\n",
       "      <th>android.permission.access_keyguard_secure_storage</th>\n",
       "      <th>android.permission.access_notifications</th>\n",
       "      <th>android.permission.account_manager</th>\n",
       "      <th>android.permission.asec_destroy</th>\n",
       "      <th>android.permission.asec_mount_unmount</th>\n",
       "      <th>android.permission.authenticate_accounts</th>\n",
       "      <th>android.permission.bind_device_admin</th>\n",
       "      <th>android.permission.bind_incall_service</th>\n",
       "      <th>...</th>\n",
       "      <th>com.android.launcher.permission.uninstall_shortcut</th>\n",
       "      <th>com.android.launcher.permission.write_settings</th>\n",
       "      <th>com.android.launcher3.permission.write_settings</th>\n",
       "      <th>com.android.permission.whitelist_bluetooth_device</th>\n",
       "      <th>com.android.providers.tv.permission.write_epg_data</th>\n",
       "      <th>com.android.smspush.wappush_manager_bind</th>\n",
       "      <th>com.android.voicemail.permission.add_voicemail</th>\n",
       "      <th>com.android.voicemail.permission.read_voicemail</th>\n",
       "      <th>com.android.voicemail.permission.write_voicemail</th>\n",
       "      <th>type</th>\n",
       "    </tr>\n",
       "  </thead>\n",
       "  <tbody>\n",
       "    <tr>\n",
       "      <th>0</th>\n",
       "      <td>0</td>\n",
       "      <td>0</td>\n",
       "      <td>0</td>\n",
       "      <td>0</td>\n",
       "      <td>0</td>\n",
       "      <td>0</td>\n",
       "      <td>0</td>\n",
       "      <td>0</td>\n",
       "      <td>0</td>\n",
       "      <td>0</td>\n",
       "      <td>...</td>\n",
       "      <td>0</td>\n",
       "      <td>0</td>\n",
       "      <td>0</td>\n",
       "      <td>0</td>\n",
       "      <td>0</td>\n",
       "      <td>0</td>\n",
       "      <td>0</td>\n",
       "      <td>0</td>\n",
       "      <td>0</td>\n",
       "      <td>1</td>\n",
       "    </tr>\n",
       "    <tr>\n",
       "      <th>1</th>\n",
       "      <td>0</td>\n",
       "      <td>0</td>\n",
       "      <td>0</td>\n",
       "      <td>0</td>\n",
       "      <td>0</td>\n",
       "      <td>0</td>\n",
       "      <td>0</td>\n",
       "      <td>0</td>\n",
       "      <td>0</td>\n",
       "      <td>0</td>\n",
       "      <td>...</td>\n",
       "      <td>0</td>\n",
       "      <td>0</td>\n",
       "      <td>0</td>\n",
       "      <td>0</td>\n",
       "      <td>0</td>\n",
       "      <td>0</td>\n",
       "      <td>0</td>\n",
       "      <td>0</td>\n",
       "      <td>0</td>\n",
       "      <td>1</td>\n",
       "    </tr>\n",
       "    <tr>\n",
       "      <th>2</th>\n",
       "      <td>0</td>\n",
       "      <td>0</td>\n",
       "      <td>0</td>\n",
       "      <td>0</td>\n",
       "      <td>0</td>\n",
       "      <td>0</td>\n",
       "      <td>0</td>\n",
       "      <td>0</td>\n",
       "      <td>0</td>\n",
       "      <td>0</td>\n",
       "      <td>...</td>\n",
       "      <td>0</td>\n",
       "      <td>0</td>\n",
       "      <td>0</td>\n",
       "      <td>0</td>\n",
       "      <td>0</td>\n",
       "      <td>0</td>\n",
       "      <td>0</td>\n",
       "      <td>0</td>\n",
       "      <td>0</td>\n",
       "      <td>1</td>\n",
       "    </tr>\n",
       "    <tr>\n",
       "      <th>3</th>\n",
       "      <td>0</td>\n",
       "      <td>0</td>\n",
       "      <td>0</td>\n",
       "      <td>0</td>\n",
       "      <td>0</td>\n",
       "      <td>0</td>\n",
       "      <td>0</td>\n",
       "      <td>0</td>\n",
       "      <td>0</td>\n",
       "      <td>0</td>\n",
       "      <td>...</td>\n",
       "      <td>0</td>\n",
       "      <td>0</td>\n",
       "      <td>0</td>\n",
       "      <td>0</td>\n",
       "      <td>0</td>\n",
       "      <td>0</td>\n",
       "      <td>0</td>\n",
       "      <td>0</td>\n",
       "      <td>0</td>\n",
       "      <td>1</td>\n",
       "    </tr>\n",
       "    <tr>\n",
       "      <th>4</th>\n",
       "      <td>0</td>\n",
       "      <td>0</td>\n",
       "      <td>0</td>\n",
       "      <td>0</td>\n",
       "      <td>0</td>\n",
       "      <td>0</td>\n",
       "      <td>0</td>\n",
       "      <td>0</td>\n",
       "      <td>0</td>\n",
       "      <td>0</td>\n",
       "      <td>...</td>\n",
       "      <td>0</td>\n",
       "      <td>0</td>\n",
       "      <td>0</td>\n",
       "      <td>0</td>\n",
       "      <td>0</td>\n",
       "      <td>0</td>\n",
       "      <td>0</td>\n",
       "      <td>0</td>\n",
       "      <td>0</td>\n",
       "      <td>1</td>\n",
       "    </tr>\n",
       "  </tbody>\n",
       "</table>\n",
       "<p>5 rows × 107 columns</p>\n",
       "</div>"
      ],
      "text/plain": [
       "   android.intent.category.master_clear.permission.c2d_message  \\\n",
       "0                                                  0             \n",
       "1                                                  0             \n",
       "2                                                  0             \n",
       "3                                                  0             \n",
       "4                                                  0             \n",
       "\n",
       "   android.permission.access_drm_certificates  \\\n",
       "0                                           0   \n",
       "1                                           0   \n",
       "2                                           0   \n",
       "3                                           0   \n",
       "4                                           0   \n",
       "\n",
       "   android.permission.access_keyguard_secure_storage  \\\n",
       "0                                                  0   \n",
       "1                                                  0   \n",
       "2                                                  0   \n",
       "3                                                  0   \n",
       "4                                                  0   \n",
       "\n",
       "   android.permission.access_notifications  \\\n",
       "0                                        0   \n",
       "1                                        0   \n",
       "2                                        0   \n",
       "3                                        0   \n",
       "4                                        0   \n",
       "\n",
       "   android.permission.account_manager  android.permission.asec_destroy  \\\n",
       "0                                   0                                0   \n",
       "1                                   0                                0   \n",
       "2                                   0                                0   \n",
       "3                                   0                                0   \n",
       "4                                   0                                0   \n",
       "\n",
       "   android.permission.asec_mount_unmount  \\\n",
       "0                                      0   \n",
       "1                                      0   \n",
       "2                                      0   \n",
       "3                                      0   \n",
       "4                                      0   \n",
       "\n",
       "   android.permission.authenticate_accounts  \\\n",
       "0                                         0   \n",
       "1                                         0   \n",
       "2                                         0   \n",
       "3                                         0   \n",
       "4                                         0   \n",
       "\n",
       "   android.permission.bind_device_admin  \\\n",
       "0                                     0   \n",
       "1                                     0   \n",
       "2                                     0   \n",
       "3                                     0   \n",
       "4                                     0   \n",
       "\n",
       "   android.permission.bind_incall_service  ...  \\\n",
       "0                                       0  ...   \n",
       "1                                       0  ...   \n",
       "2                                       0  ...   \n",
       "3                                       0  ...   \n",
       "4                                       0  ...   \n",
       "\n",
       "   com.android.launcher.permission.uninstall_shortcut  \\\n",
       "0                                                  0    \n",
       "1                                                  0    \n",
       "2                                                  0    \n",
       "3                                                  0    \n",
       "4                                                  0    \n",
       "\n",
       "   com.android.launcher.permission.write_settings  \\\n",
       "0                                               0   \n",
       "1                                               0   \n",
       "2                                               0   \n",
       "3                                               0   \n",
       "4                                               0   \n",
       "\n",
       "   com.android.launcher3.permission.write_settings  \\\n",
       "0                                                0   \n",
       "1                                                0   \n",
       "2                                                0   \n",
       "3                                                0   \n",
       "4                                                0   \n",
       "\n",
       "   com.android.permission.whitelist_bluetooth_device  \\\n",
       "0                                                  0   \n",
       "1                                                  0   \n",
       "2                                                  0   \n",
       "3                                                  0   \n",
       "4                                                  0   \n",
       "\n",
       "   com.android.providers.tv.permission.write_epg_data  \\\n",
       "0                                                  0    \n",
       "1                                                  0    \n",
       "2                                                  0    \n",
       "3                                                  0    \n",
       "4                                                  0    \n",
       "\n",
       "   com.android.smspush.wappush_manager_bind  \\\n",
       "0                                         0   \n",
       "1                                         0   \n",
       "2                                         0   \n",
       "3                                         0   \n",
       "4                                         0   \n",
       "\n",
       "   com.android.voicemail.permission.add_voicemail  \\\n",
       "0                                               0   \n",
       "1                                               0   \n",
       "2                                               0   \n",
       "3                                               0   \n",
       "4                                               0   \n",
       "\n",
       "   com.android.voicemail.permission.read_voicemail  \\\n",
       "0                                                0   \n",
       "1                                                0   \n",
       "2                                                0   \n",
       "3                                                0   \n",
       "4                                                0   \n",
       "\n",
       "   com.android.voicemail.permission.write_voicemail  type  \n",
       "0                                                 0     1  \n",
       "1                                                 0     1  \n",
       "2                                                 0     1  \n",
       "3                                                 0     1  \n",
       "4                                                 0     1  \n",
       "\n",
       "[5 rows x 107 columns]"
      ]
     },
     "execution_count": 17,
     "metadata": {},
     "output_type": "execute_result"
    }
   ],
   "source": [
    "df1.head()"
   ]
  },
  {
   "cell_type": "markdown",
   "metadata": {},
   "source": [
    "remove columns that contain only 0"
   ]
  },
  {
   "cell_type": "code",
   "execution_count": 18,
   "metadata": {
    "execution": {
     "iopub.execute_input": "2021-08-22T17:31:05.993361Z",
     "iopub.status.busy": "2021-08-22T17:31:05.993042Z",
     "iopub.status.idle": "2021-08-22T17:31:06.112764Z",
     "shell.execute_reply": "2021-08-22T17:31:06.111315Z",
     "shell.execute_reply.started": "2021-08-22T17:31:05.99333Z"
    }
   },
   "outputs": [
    {
     "data": {
      "text/html": [
       "<div>\n",
       "<style scoped>\n",
       "    .dataframe tbody tr th:only-of-type {\n",
       "        vertical-align: middle;\n",
       "    }\n",
       "\n",
       "    .dataframe tbody tr th {\n",
       "        vertical-align: top;\n",
       "    }\n",
       "\n",
       "    .dataframe thead th {\n",
       "        text-align: right;\n",
       "    }\n",
       "</style>\n",
       "<table border=\"1\" class=\"dataframe\">\n",
       "  <thead>\n",
       "    <tr style=\"text-align: right;\">\n",
       "      <th></th>\n",
       "      <th>android.permission.authenticate_accounts</th>\n",
       "      <th>android.permission.bluetooth_admin</th>\n",
       "      <th>android.permission.call_phone</th>\n",
       "      <th>android.permission.call_privileged</th>\n",
       "      <th>android.permission.change_component_enabled_state</th>\n",
       "      <th>android.permission.change_configuration</th>\n",
       "      <th>android.permission.change_network_state</th>\n",
       "      <th>android.permission.change_wifi_multicast_state</th>\n",
       "      <th>android.permission.change_wifi_state</th>\n",
       "      <th>android.permission.change_wimax_state</th>\n",
       "      <th>...</th>\n",
       "      <th>android.permission.write_external_storage</th>\n",
       "      <th>android.permission.write_secure_settings</th>\n",
       "      <th>android.permission.write_settings</th>\n",
       "      <th>android.permission.write_sms</th>\n",
       "      <th>android.permission.write_sync_settings</th>\n",
       "      <th>com.android.browser.permission.write_history_bookmarks</th>\n",
       "      <th>com.android.launcher.permission.install_shortcut</th>\n",
       "      <th>com.android.launcher.permission.uninstall_shortcut</th>\n",
       "      <th>com.android.launcher.permission.write_settings</th>\n",
       "      <th>type</th>\n",
       "    </tr>\n",
       "  </thead>\n",
       "  <tbody>\n",
       "    <tr>\n",
       "      <th>count</th>\n",
       "      <td>398.000000</td>\n",
       "      <td>398.000000</td>\n",
       "      <td>398.000000</td>\n",
       "      <td>398.000000</td>\n",
       "      <td>398.000000</td>\n",
       "      <td>398.000000</td>\n",
       "      <td>398.000000</td>\n",
       "      <td>398.000000</td>\n",
       "      <td>398.000000</td>\n",
       "      <td>398.000000</td>\n",
       "      <td>...</td>\n",
       "      <td>398.000000</td>\n",
       "      <td>398.000000</td>\n",
       "      <td>398.000000</td>\n",
       "      <td>398.000000</td>\n",
       "      <td>398.000000</td>\n",
       "      <td>398.000000</td>\n",
       "      <td>398.000000</td>\n",
       "      <td>398.000000</td>\n",
       "      <td>398.000000</td>\n",
       "      <td>398.000000</td>\n",
       "    </tr>\n",
       "    <tr>\n",
       "      <th>mean</th>\n",
       "      <td>0.017588</td>\n",
       "      <td>0.017588</td>\n",
       "      <td>0.155779</td>\n",
       "      <td>0.002513</td>\n",
       "      <td>0.002513</td>\n",
       "      <td>0.015075</td>\n",
       "      <td>0.025126</td>\n",
       "      <td>0.005025</td>\n",
       "      <td>0.221106</td>\n",
       "      <td>0.005025</td>\n",
       "      <td>...</td>\n",
       "      <td>0.532663</td>\n",
       "      <td>0.012563</td>\n",
       "      <td>0.055276</td>\n",
       "      <td>0.263819</td>\n",
       "      <td>0.020101</td>\n",
       "      <td>0.045226</td>\n",
       "      <td>0.042714</td>\n",
       "      <td>0.007538</td>\n",
       "      <td>0.022613</td>\n",
       "      <td>0.500000</td>\n",
       "    </tr>\n",
       "    <tr>\n",
       "      <th>std</th>\n",
       "      <td>0.131614</td>\n",
       "      <td>0.131614</td>\n",
       "      <td>0.363102</td>\n",
       "      <td>0.050125</td>\n",
       "      <td>0.050125</td>\n",
       "      <td>0.122006</td>\n",
       "      <td>0.156704</td>\n",
       "      <td>0.070799</td>\n",
       "      <td>0.415514</td>\n",
       "      <td>0.070799</td>\n",
       "      <td>...</td>\n",
       "      <td>0.499560</td>\n",
       "      <td>0.111518</td>\n",
       "      <td>0.228807</td>\n",
       "      <td>0.441257</td>\n",
       "      <td>0.140521</td>\n",
       "      <td>0.208061</td>\n",
       "      <td>0.202465</td>\n",
       "      <td>0.086601</td>\n",
       "      <td>0.148854</td>\n",
       "      <td>0.500629</td>\n",
       "    </tr>\n",
       "    <tr>\n",
       "      <th>min</th>\n",
       "      <td>0.000000</td>\n",
       "      <td>0.000000</td>\n",
       "      <td>0.000000</td>\n",
       "      <td>0.000000</td>\n",
       "      <td>0.000000</td>\n",
       "      <td>0.000000</td>\n",
       "      <td>0.000000</td>\n",
       "      <td>0.000000</td>\n",
       "      <td>0.000000</td>\n",
       "      <td>0.000000</td>\n",
       "      <td>...</td>\n",
       "      <td>0.000000</td>\n",
       "      <td>0.000000</td>\n",
       "      <td>0.000000</td>\n",
       "      <td>0.000000</td>\n",
       "      <td>0.000000</td>\n",
       "      <td>0.000000</td>\n",
       "      <td>0.000000</td>\n",
       "      <td>0.000000</td>\n",
       "      <td>0.000000</td>\n",
       "      <td>0.000000</td>\n",
       "    </tr>\n",
       "    <tr>\n",
       "      <th>25%</th>\n",
       "      <td>0.000000</td>\n",
       "      <td>0.000000</td>\n",
       "      <td>0.000000</td>\n",
       "      <td>0.000000</td>\n",
       "      <td>0.000000</td>\n",
       "      <td>0.000000</td>\n",
       "      <td>0.000000</td>\n",
       "      <td>0.000000</td>\n",
       "      <td>0.000000</td>\n",
       "      <td>0.000000</td>\n",
       "      <td>...</td>\n",
       "      <td>0.000000</td>\n",
       "      <td>0.000000</td>\n",
       "      <td>0.000000</td>\n",
       "      <td>0.000000</td>\n",
       "      <td>0.000000</td>\n",
       "      <td>0.000000</td>\n",
       "      <td>0.000000</td>\n",
       "      <td>0.000000</td>\n",
       "      <td>0.000000</td>\n",
       "      <td>0.000000</td>\n",
       "    </tr>\n",
       "    <tr>\n",
       "      <th>50%</th>\n",
       "      <td>0.000000</td>\n",
       "      <td>0.000000</td>\n",
       "      <td>0.000000</td>\n",
       "      <td>0.000000</td>\n",
       "      <td>0.000000</td>\n",
       "      <td>0.000000</td>\n",
       "      <td>0.000000</td>\n",
       "      <td>0.000000</td>\n",
       "      <td>0.000000</td>\n",
       "      <td>0.000000</td>\n",
       "      <td>...</td>\n",
       "      <td>1.000000</td>\n",
       "      <td>0.000000</td>\n",
       "      <td>0.000000</td>\n",
       "      <td>0.000000</td>\n",
       "      <td>0.000000</td>\n",
       "      <td>0.000000</td>\n",
       "      <td>0.000000</td>\n",
       "      <td>0.000000</td>\n",
       "      <td>0.000000</td>\n",
       "      <td>0.500000</td>\n",
       "    </tr>\n",
       "    <tr>\n",
       "      <th>75%</th>\n",
       "      <td>0.000000</td>\n",
       "      <td>0.000000</td>\n",
       "      <td>0.000000</td>\n",
       "      <td>0.000000</td>\n",
       "      <td>0.000000</td>\n",
       "      <td>0.000000</td>\n",
       "      <td>0.000000</td>\n",
       "      <td>0.000000</td>\n",
       "      <td>0.000000</td>\n",
       "      <td>0.000000</td>\n",
       "      <td>...</td>\n",
       "      <td>1.000000</td>\n",
       "      <td>0.000000</td>\n",
       "      <td>0.000000</td>\n",
       "      <td>1.000000</td>\n",
       "      <td>0.000000</td>\n",
       "      <td>0.000000</td>\n",
       "      <td>0.000000</td>\n",
       "      <td>0.000000</td>\n",
       "      <td>0.000000</td>\n",
       "      <td>1.000000</td>\n",
       "    </tr>\n",
       "    <tr>\n",
       "      <th>max</th>\n",
       "      <td>1.000000</td>\n",
       "      <td>1.000000</td>\n",
       "      <td>1.000000</td>\n",
       "      <td>1.000000</td>\n",
       "      <td>1.000000</td>\n",
       "      <td>1.000000</td>\n",
       "      <td>1.000000</td>\n",
       "      <td>1.000000</td>\n",
       "      <td>1.000000</td>\n",
       "      <td>1.000000</td>\n",
       "      <td>...</td>\n",
       "      <td>1.000000</td>\n",
       "      <td>1.000000</td>\n",
       "      <td>1.000000</td>\n",
       "      <td>1.000000</td>\n",
       "      <td>1.000000</td>\n",
       "      <td>1.000000</td>\n",
       "      <td>1.000000</td>\n",
       "      <td>1.000000</td>\n",
       "      <td>1.000000</td>\n",
       "      <td>1.000000</td>\n",
       "    </tr>\n",
       "  </tbody>\n",
       "</table>\n",
       "<p>8 rows × 42 columns</p>\n",
       "</div>"
      ],
      "text/plain": [
       "       android.permission.authenticate_accounts  \\\n",
       "count                                398.000000   \n",
       "mean                                   0.017588   \n",
       "std                                    0.131614   \n",
       "min                                    0.000000   \n",
       "25%                                    0.000000   \n",
       "50%                                    0.000000   \n",
       "75%                                    0.000000   \n",
       "max                                    1.000000   \n",
       "\n",
       "       android.permission.bluetooth_admin  android.permission.call_phone  \\\n",
       "count                          398.000000                     398.000000   \n",
       "mean                             0.017588                       0.155779   \n",
       "std                              0.131614                       0.363102   \n",
       "min                              0.000000                       0.000000   \n",
       "25%                              0.000000                       0.000000   \n",
       "50%                              0.000000                       0.000000   \n",
       "75%                              0.000000                       0.000000   \n",
       "max                              1.000000                       1.000000   \n",
       "\n",
       "       android.permission.call_privileged  \\\n",
       "count                          398.000000   \n",
       "mean                             0.002513   \n",
       "std                              0.050125   \n",
       "min                              0.000000   \n",
       "25%                              0.000000   \n",
       "50%                              0.000000   \n",
       "75%                              0.000000   \n",
       "max                              1.000000   \n",
       "\n",
       "       android.permission.change_component_enabled_state  \\\n",
       "count                                         398.000000   \n",
       "mean                                            0.002513   \n",
       "std                                             0.050125   \n",
       "min                                             0.000000   \n",
       "25%                                             0.000000   \n",
       "50%                                             0.000000   \n",
       "75%                                             0.000000   \n",
       "max                                             1.000000   \n",
       "\n",
       "       android.permission.change_configuration  \\\n",
       "count                               398.000000   \n",
       "mean                                  0.015075   \n",
       "std                                   0.122006   \n",
       "min                                   0.000000   \n",
       "25%                                   0.000000   \n",
       "50%                                   0.000000   \n",
       "75%                                   0.000000   \n",
       "max                                   1.000000   \n",
       "\n",
       "       android.permission.change_network_state  \\\n",
       "count                               398.000000   \n",
       "mean                                  0.025126   \n",
       "std                                   0.156704   \n",
       "min                                   0.000000   \n",
       "25%                                   0.000000   \n",
       "50%                                   0.000000   \n",
       "75%                                   0.000000   \n",
       "max                                   1.000000   \n",
       "\n",
       "       android.permission.change_wifi_multicast_state  \\\n",
       "count                                      398.000000   \n",
       "mean                                         0.005025   \n",
       "std                                          0.070799   \n",
       "min                                          0.000000   \n",
       "25%                                          0.000000   \n",
       "50%                                          0.000000   \n",
       "75%                                          0.000000   \n",
       "max                                          1.000000   \n",
       "\n",
       "       android.permission.change_wifi_state  \\\n",
       "count                            398.000000   \n",
       "mean                               0.221106   \n",
       "std                                0.415514   \n",
       "min                                0.000000   \n",
       "25%                                0.000000   \n",
       "50%                                0.000000   \n",
       "75%                                0.000000   \n",
       "max                                1.000000   \n",
       "\n",
       "       android.permission.change_wimax_state  ...  \\\n",
       "count                             398.000000  ...   \n",
       "mean                                0.005025  ...   \n",
       "std                                 0.070799  ...   \n",
       "min                                 0.000000  ...   \n",
       "25%                                 0.000000  ...   \n",
       "50%                                 0.000000  ...   \n",
       "75%                                 0.000000  ...   \n",
       "max                                 1.000000  ...   \n",
       "\n",
       "       android.permission.write_external_storage  \\\n",
       "count                                 398.000000   \n",
       "mean                                    0.532663   \n",
       "std                                     0.499560   \n",
       "min                                     0.000000   \n",
       "25%                                     0.000000   \n",
       "50%                                     1.000000   \n",
       "75%                                     1.000000   \n",
       "max                                     1.000000   \n",
       "\n",
       "       android.permission.write_secure_settings  \\\n",
       "count                                398.000000   \n",
       "mean                                   0.012563   \n",
       "std                                    0.111518   \n",
       "min                                    0.000000   \n",
       "25%                                    0.000000   \n",
       "50%                                    0.000000   \n",
       "75%                                    0.000000   \n",
       "max                                    1.000000   \n",
       "\n",
       "       android.permission.write_settings  android.permission.write_sms  \\\n",
       "count                         398.000000                    398.000000   \n",
       "mean                            0.055276                      0.263819   \n",
       "std                             0.228807                      0.441257   \n",
       "min                             0.000000                      0.000000   \n",
       "25%                             0.000000                      0.000000   \n",
       "50%                             0.000000                      0.000000   \n",
       "75%                             0.000000                      1.000000   \n",
       "max                             1.000000                      1.000000   \n",
       "\n",
       "       android.permission.write_sync_settings  \\\n",
       "count                              398.000000   \n",
       "mean                                 0.020101   \n",
       "std                                  0.140521   \n",
       "min                                  0.000000   \n",
       "25%                                  0.000000   \n",
       "50%                                  0.000000   \n",
       "75%                                  0.000000   \n",
       "max                                  1.000000   \n",
       "\n",
       "       com.android.browser.permission.write_history_bookmarks  \\\n",
       "count                                         398.000000        \n",
       "mean                                            0.045226        \n",
       "std                                             0.208061        \n",
       "min                                             0.000000        \n",
       "25%                                             0.000000        \n",
       "50%                                             0.000000        \n",
       "75%                                             0.000000        \n",
       "max                                             1.000000        \n",
       "\n",
       "       com.android.launcher.permission.install_shortcut  \\\n",
       "count                                        398.000000   \n",
       "mean                                           0.042714   \n",
       "std                                            0.202465   \n",
       "min                                            0.000000   \n",
       "25%                                            0.000000   \n",
       "50%                                            0.000000   \n",
       "75%                                            0.000000   \n",
       "max                                            1.000000   \n",
       "\n",
       "       com.android.launcher.permission.uninstall_shortcut  \\\n",
       "count                                         398.000000    \n",
       "mean                                            0.007538    \n",
       "std                                             0.086601    \n",
       "min                                             0.000000    \n",
       "25%                                             0.000000    \n",
       "50%                                             0.000000    \n",
       "75%                                             0.000000    \n",
       "max                                             1.000000    \n",
       "\n",
       "       com.android.launcher.permission.write_settings        type  \n",
       "count                                      398.000000  398.000000  \n",
       "mean                                         0.022613    0.500000  \n",
       "std                                          0.148854    0.500629  \n",
       "min                                          0.000000    0.000000  \n",
       "25%                                          0.000000    0.000000  \n",
       "50%                                          0.000000    0.500000  \n",
       "75%                                          0.000000    1.000000  \n",
       "max                                          1.000000    1.000000  \n",
       "\n",
       "[8 rows x 42 columns]"
      ]
     },
     "execution_count": 18,
     "metadata": {},
     "output_type": "execute_result"
    }
   ],
   "source": [
    "df1 = df1.loc[:, (df1 != 0).any(axis=0)]\n",
    "df1.describe()"
   ]
  },
  {
   "cell_type": "markdown",
   "metadata": {},
   "source": [
    "Plot grouped bar chart to better understand the feature relationship"
   ]
  },
  {
   "cell_type": "code",
   "execution_count": 19,
   "metadata": {
    "execution": {
     "iopub.execute_input": "2021-08-22T17:31:06.115523Z",
     "iopub.status.busy": "2021-08-22T17:31:06.115065Z",
     "iopub.status.idle": "2021-08-22T17:31:07.282546Z",
     "shell.execute_reply": "2021-08-22T17:31:07.281374Z",
     "shell.execute_reply.started": "2021-08-22T17:31:06.115474Z"
    }
   },
   "outputs": [
    {
     "data": {
      "text/plain": [
       "<AxesSubplot:>"
      ]
     },
     "execution_count": 19,
     "metadata": {},
     "output_type": "execute_result"
    },
    {
     "data": {
      "image/png": "[encoded data removed]",
      "text/plain": [
       "<Figure size 1296x360 with 1 Axes>"
      ]
     },
     "metadata": {
      "needs_background": "light"
     },
     "output_type": "display_data"
    }
   ],
   "source": [
    "bdf1 = pd.Series.sort_values(df1[df1.type==0].sum(axis=0), ascending=False)\n",
    "mdf1 = pd.Series.sort_values(df1[df1.type==1].sum(axis=0), ascending=False)\n",
    "del bdf1['type']\n",
    "del mdf1['type']\n",
    "pd.concat({'Benign Apps': bdf1, 'Malware Apps': mdf1}, axis=1).plot.bar(figsize=(18,5))"
   ]
  },
  {
   "cell_type": "markdown",
   "metadata": {},
   "source": [
    "## Feature Engineering"
   ]
  },
  {
   "cell_type": "markdown",
   "metadata": {},
   "source": [
    "#### Feature selection"
   ]
  },
  {
   "cell_type": "markdown",
   "metadata": {},
   "source": [
    "We check Top 10 features that determine malware"
   ]
  },
  {
   "cell_type": "code",
   "execution_count": 20,
   "metadata": {
    "execution": {
     "iopub.execute_input": "2021-08-22T17:31:07.284235Z",
     "iopub.status.busy": "2021-08-22T17:31:07.283914Z",
     "iopub.status.idle": "2021-08-22T17:31:07.680263Z",
     "shell.execute_reply": "2021-08-22T17:31:07.679073Z",
     "shell.execute_reply.started": "2021-08-22T17:31:07.284206Z"
    }
   },
   "outputs": [
    {
     "data": {
      "text/plain": [
       "<AxesSubplot:title={'center':'Malware Apps'}, xlabel='Permissions', ylabel='Count of apps'>"
      ]
     },
     "execution_count": 20,
     "metadata": {},
     "output_type": "execute_result"
    },
    {
     "data": {
      "image/png": "[encoded data removed]",
      "text/plain": [
       "<Figure size 432x288 with 2 Axes>"
      ]
     },
     "metadata": {
      "needs_background": "light"
     },
     "output_type": "display_data"
    }
   ],
   "source": [
    "fig, axs =  plt.subplots(nrows=2, sharex=True)\n",
    "bdf1[1:11].plot.bar(ax=axs[1], color=\"green\", title=\"Benign Apps\")\n",
    "mdf1[1:11].plot.bar(ax=axs[0], color=\"red\", title=\"Malware Apps\", ylabel=\"Count of apps\", xlabel=\"Permissions\")"
   ]
  },
  {
   "cell_type": "markdown",
   "metadata": {},
   "source": [
    "#### Observation\n",
    "From the above bar chart it is evident that only Malware apps predominantly require permission that control sms, wifi, lock, call, apn and contacts"
   ]
  },
  {
   "cell_type": "markdown",
   "metadata": {},
   "source": [
    "## Modeling"
   ]
  },
  {
   "cell_type": "code",
   "execution_count": 21,
   "metadata": {
    "execution": {
     "iopub.execute_input": "2021-08-22T17:31:07.68222Z",
     "iopub.status.busy": "2021-08-22T17:31:07.681742Z",
     "iopub.status.idle": "2021-08-22T17:31:07.690514Z",
     "shell.execute_reply": "2021-08-22T17:31:07.688839Z",
     "shell.execute_reply.started": "2021-08-22T17:31:07.68217Z"
    }
   },
   "outputs": [],
   "source": [
    "X_train, X_test, y_train, y_test = train_test_split(df1.iloc[:, 1:42], df1['type'], test_size=0.20, random_state=42)"
   ]
  },
  {
   "cell_type": "code",
   "execution_count": 22,
   "metadata": {
    "execution": {
     "iopub.execute_input": "2021-08-22T17:31:07.693043Z",
     "iopub.status.busy": "2021-08-22T17:31:07.692488Z",
     "iopub.status.idle": "2021-08-22T17:31:07.704339Z",
     "shell.execute_reply": "2021-08-22T17:31:07.703299Z",
     "shell.execute_reply.started": "2021-08-22T17:31:07.692995Z"
    }
   },
   "outputs": [
    {
     "data": {
      "text/plain": [
       "((318, 41), (80, 41))"
      ]
     },
     "execution_count": 22,
     "metadata": {},
     "output_type": "execute_result"
    }
   ],
   "source": [
    "X_train.shape, X_test.shape"
   ]
  },
  {
   "cell_type": "code",
   "execution_count": 23,
   "metadata": {
    "execution": {
     "iopub.execute_input": "2021-08-22T17:31:07.708173Z",
     "iopub.status.busy": "2021-08-22T17:31:07.706988Z",
     "iopub.status.idle": "2021-08-22T17:31:07.717195Z",
     "shell.execute_reply": "2021-08-22T17:31:07.716168Z",
     "shell.execute_reply.started": "2021-08-22T17:31:07.708119Z"
    }
   },
   "outputs": [
    {
     "data": {
      "text/plain": [
       "((318,), (80,))"
      ]
     },
     "execution_count": 23,
     "metadata": {},
     "output_type": "execute_result"
    }
   ],
   "source": [
    "y_train.shape, y_test.shape"
   ]
  },
  {
   "cell_type": "markdown",
   "metadata": {},
   "source": [
    "Naive Bayes algorithm"
   ]
  },
  {
   "cell_type": "code",
   "execution_count": 24,
   "metadata": {
    "execution": {
     "iopub.execute_input": "2021-08-22T17:31:07.719048Z",
     "iopub.status.busy": "2021-08-22T17:31:07.718659Z",
     "iopub.status.idle": "2021-08-22T17:31:07.742968Z",
     "shell.execute_reply": "2021-08-22T17:31:07.741795Z",
     "shell.execute_reply.started": "2021-08-22T17:31:07.719015Z"
    }
   },
   "outputs": [
    {
     "name": "stdout",
     "output_type": "stream",
     "text": [
      "Naive Bayes\n",
      "Accuracy: 1.0\n",
      "              precision    recall  f1-score   support\n",
      "\n",
      "           0       1.00      1.00      1.00        34\n",
      "           1       1.00      1.00      1.00        46\n",
      "\n",
      "    accuracy                           1.00        80\n",
      "   macro avg       1.00      1.00      1.00        80\n",
      "weighted avg       1.00      1.00      1.00        80\n",
      "\n"
     ]
    }
   ],
   "source": [
    "gnb = GaussianNB()\n",
    "gnb.fit(X_train, y_train)\n",
    "pred = gnb.predict(X_test)\n",
    "accuracy = accuracy_score(pred, y_test)\n",
    "print(\"Naive Bayes\")\n",
    "print(\"Accuracy: \" + str(accuracy))\n",
    "print(classification_report(pred, y_test, labels=None))"
   ]
  },
  {
   "cell_type": "markdown",
   "metadata": {},
   "source": [
    "k-neighbors algorithm"
   ]
  },
  {
   "cell_type": "code",
   "execution_count": 25,
   "metadata": {
    "execution": {
     "iopub.execute_input": "2021-08-22T17:31:07.74465Z",
     "iopub.status.busy": "2021-08-22T17:31:07.744304Z",
     "iopub.status.idle": "2021-08-22T17:31:07.817136Z",
     "shell.execute_reply": "2021-08-22T17:31:07.81607Z",
     "shell.execute_reply.started": "2021-08-22T17:31:07.744619Z"
    }
   },
   "outputs": [
    {
     "name": "stdout",
     "output_type": "stream",
     "text": [
      "k-neighbors 3\n",
      "Accuracy: 1.0\n",
      "              precision    recall  f1-score   support\n",
      "\n",
      "           0       1.00      1.00      1.00        34\n",
      "           1       1.00      1.00      1.00        46\n",
      "\n",
      "    accuracy                           1.00        80\n",
      "   macro avg       1.00      1.00      1.00        80\n",
      "weighted avg       1.00      1.00      1.00        80\n",
      "\n",
      "\n",
      "k-neighbors 6\n",
      "Accuracy: 0.925\n",
      "              precision    recall  f1-score   support\n",
      "\n",
      "           0       1.00      0.85      0.92        40\n",
      "           1       0.87      1.00      0.93        40\n",
      "\n",
      "    accuracy                           0.93        80\n",
      "   macro avg       0.93      0.93      0.92        80\n",
      "weighted avg       0.93      0.93      0.92        80\n",
      "\n",
      "\n",
      "k-neighbors 9\n",
      "Accuracy: 0.9125\n",
      "              precision    recall  f1-score   support\n",
      "\n",
      "           0       1.00      0.83      0.91        41\n",
      "           1       0.85      1.00      0.92        39\n",
      "\n",
      "    accuracy                           0.91        80\n",
      "   macro avg       0.92      0.91      0.91        80\n",
      "weighted avg       0.93      0.91      0.91        80\n",
      "\n",
      "\n",
      "k-neighbors 12\n",
      "Accuracy: 0.9\n",
      "              precision    recall  f1-score   support\n",
      "\n",
      "           0       1.00      0.81      0.89        42\n",
      "           1       0.83      1.00      0.90        38\n",
      "\n",
      "    accuracy                           0.90        80\n",
      "   macro avg       0.91      0.90      0.90        80\n",
      "weighted avg       0.92      0.90      0.90        80\n",
      "\n",
      "\n"
     ]
    }
   ],
   "source": [
    "for i in range(3,15,3):\n",
    "    \n",
    "    neigh = KNeighborsClassifier(n_neighbors=i)\n",
    "    neigh.fit(X_train, y_train)\n",
    "    pred = neigh.predict(X_test)\n",
    "    accuracy = accuracy_score(pred, y_test)\n",
    "    print(\"k-neighbors {}\".format(i))\n",
    "    print(\"Accuracy: \" + str(accuracy))\n",
    "    print(classification_report(pred, y_test, labels=None))\n",
    "    print(\"\")"
   ]
  },
  {
   "cell_type": "markdown",
   "metadata": {},
   "source": [
    "Decision Tree"
   ]
  },
  {
   "cell_type": "code",
   "execution_count": 26,
   "metadata": {
    "execution": {
     "iopub.execute_input": "2021-08-22T17:31:07.818653Z",
     "iopub.status.busy": "2021-08-22T17:31:07.818383Z",
     "iopub.status.idle": "2021-08-22T17:31:07.836113Z",
     "shell.execute_reply": "2021-08-22T17:31:07.83489Z",
     "shell.execute_reply.started": "2021-08-22T17:31:07.818627Z"
    }
   },
   "outputs": [
    {
     "data": {
      "text/plain": [
       "DecisionTreeClassifier(max_depth=3, random_state=0)"
      ]
     },
     "execution_count": 26,
     "metadata": {},
     "output_type": "execute_result"
    }
   ],
   "source": [
    "clf_gini = DecisionTreeClassifier(criterion='gini', max_depth=3, random_state=0)\n",
    "clf_gini.fit(X_train, y_train)"
   ]
  },
  {
   "cell_type": "markdown",
   "metadata": {},
   "source": [
    "Predict the Test set results with criterion gini index"
   ]
  },
  {
   "cell_type": "code",
   "execution_count": 27,
   "metadata": {
    "execution": {
     "iopub.execute_input": "2021-08-22T17:31:07.83982Z",
     "iopub.status.busy": "2021-08-22T17:31:07.839501Z",
     "iopub.status.idle": "2021-08-22T17:31:07.847526Z",
     "shell.execute_reply": "2021-08-22T17:31:07.84636Z",
     "shell.execute_reply.started": "2021-08-22T17:31:07.839791Z"
    }
   },
   "outputs": [],
   "source": [
    "y_pred_gini = clf_gini.predict(X_test)"
   ]
  },
  {
   "cell_type": "markdown",
   "metadata": {},
   "source": [
    "Check accuracy score with criterion gini index"
   ]
  },
  {
   "cell_type": "code",
   "execution_count": 28,
   "metadata": {
    "execution": {
     "iopub.execute_input": "2021-08-22T17:31:07.849289Z",
     "iopub.status.busy": "2021-08-22T17:31:07.848985Z",
     "iopub.status.idle": "2021-08-22T17:31:07.860524Z",
     "shell.execute_reply": "2021-08-22T17:31:07.859404Z",
     "shell.execute_reply.started": "2021-08-22T17:31:07.84926Z"
    }
   },
   "outputs": [
    {
     "name": "stdout",
     "output_type": "stream",
     "text": [
      "Model accuracy score with criterion gini index: 1.0000\n"
     ]
    }
   ],
   "source": [
    "print('Model accuracy score with criterion gini index: {0:0.4f}'. format(accuracy_score(y_test, y_pred_gini)))"
   ]
  },
  {
   "cell_type": "markdown",
   "metadata": {},
   "source": [
    "Here, y_test are the true class labels and y_pred_gini are the predicted class labels in the test-set."
   ]
  },
  {
   "cell_type": "markdown",
   "metadata": {},
   "source": [
    "Compare the train-set and test-set accuracy to check for overfitting"
   ]
  },
  {
   "cell_type": "code",
   "execution_count": 29,
   "metadata": {
    "execution": {
     "iopub.execute_input": "2021-08-22T17:31:07.864307Z",
     "iopub.status.busy": "2021-08-22T17:31:07.864001Z",
     "iopub.status.idle": "2021-08-22T17:31:07.876717Z",
     "shell.execute_reply": "2021-08-22T17:31:07.875619Z",
     "shell.execute_reply.started": "2021-08-22T17:31:07.864279Z"
    }
   },
   "outputs": [
    {
     "data": {
      "text/plain": [
       "array([1, 1, 0, 0, 1, 1, 0, 0, 1, 1, 0, 0, 1, 0, 0, 0, 0, 0, 0, 1, 0, 1,\n",
       "       1, 1, 1, 1, 1, 1, 0, 0, 1, 1, 0, 0, 0, 1, 1, 0, 0, 0, 1, 1, 1, 0,\n",
       "       1, 0, 0, 0, 0, 0, 0, 1, 0, 1, 1, 1, 0, 0, 0, 0, 1, 1, 0, 1, 1, 1,\n",
       "       1, 1, 0, 1, 1, 0, 0, 1, 1, 0, 1, 1, 0, 0, 0, 0, 1, 1, 1, 0, 1, 1,\n",
       "       0, 1, 1, 1, 1, 1, 0, 1, 0, 1, 1, 1, 1, 1, 1, 0, 0, 0, 0, 1, 1, 1,\n",
       "       0, 1, 0, 0, 0, 0, 0, 0, 1, 0, 0, 0, 0, 1, 1, 1, 0, 1, 0, 1, 1, 0,\n",
       "       0, 1, 0, 0, 0, 0, 0, 1, 0, 1, 1, 0, 1, 0, 1, 0, 1, 0, 0, 1, 1, 0,\n",
       "       0, 0, 0, 0, 0, 1, 1, 0, 1, 1, 0, 1, 0, 0, 1, 0, 1, 0, 1, 0, 1, 0,\n",
       "       1, 0, 1, 1, 1, 1, 1, 1, 1, 0, 0, 0, 1, 1, 0, 0, 0, 1, 1, 0, 0, 0,\n",
       "       0, 1, 0, 0, 1, 0, 0, 0, 1, 1, 0, 1, 1, 1, 0, 0, 0, 1, 0, 0, 0, 0,\n",
       "       1, 0, 1, 1, 1, 1, 1, 1, 0, 1, 1, 1, 0, 0, 0, 0, 0, 0, 0, 0, 0, 0,\n",
       "       0, 0, 0, 0, 0, 0, 1, 1, 0, 1, 0, 0, 1, 1, 1, 1, 1, 0, 1, 0, 1, 0,\n",
       "       1, 0, 0, 1, 0, 1, 0, 1, 0, 0, 1, 0, 0, 0, 0, 1, 1, 1, 1, 0, 1, 1,\n",
       "       1, 1, 0, 0, 0, 1, 0, 1, 0, 1, 0, 0, 0, 0, 1, 1, 1, 0, 1, 0, 1, 0,\n",
       "       0, 1, 0, 1, 1, 1, 1, 0, 0, 1], dtype=int64)"
      ]
     },
     "execution_count": 29,
     "metadata": {},
     "output_type": "execute_result"
    }
   ],
   "source": [
    "y_pred_train_gini = clf_gini.predict(X_train)\n",
    "\n",
    "y_pred_train_gini"
   ]
  },
  {
   "cell_type": "code",
   "execution_count": 30,
   "metadata": {
    "execution": {
     "iopub.execute_input": "2021-08-22T17:31:07.878813Z",
     "iopub.status.busy": "2021-08-22T17:31:07.87852Z",
     "iopub.status.idle": "2021-08-22T17:31:07.891217Z",
     "shell.execute_reply": "2021-08-22T17:31:07.889939Z",
     "shell.execute_reply.started": "2021-08-22T17:31:07.878784Z"
    }
   },
   "outputs": [
    {
     "name": "stdout",
     "output_type": "stream",
     "text": [
      "Training-set accuracy score: 1.0000\n"
     ]
    }
   ],
   "source": [
    "print('Training-set accuracy score: {0:0.4f}'. format(accuracy_score(y_train, y_pred_train_gini)))"
   ]
  },
  {
   "cell_type": "markdown",
   "metadata": {},
   "source": [
    "Check for overfitting and underfitting"
   ]
  },
  {
   "cell_type": "code",
   "execution_count": 31,
   "metadata": {
    "execution": {
     "iopub.execute_input": "2021-08-22T17:31:07.893349Z",
     "iopub.status.busy": "2021-08-22T17:31:07.892753Z",
     "iopub.status.idle": "2021-08-22T17:31:07.913067Z",
     "shell.execute_reply": "2021-08-22T17:31:07.911662Z",
     "shell.execute_reply.started": "2021-08-22T17:31:07.893304Z"
    }
   },
   "outputs": [
    {
     "name": "stdout",
     "output_type": "stream",
     "text": [
      "Training set score: 1.0000\n",
      "Test set score: 1.0000\n"
     ]
    }
   ],
   "source": [
    "print('Training set score: {:.4f}'.format(clf_gini.score(X_train, y_train)))\n",
    "\n",
    "print('Test set score: {:.4f}'.format(clf_gini.score(X_test, y_test)))"
   ]
  },
  {
   "cell_type": "markdown",
   "metadata": {},
   "source": [
    "Here, the training-set accuracy score is 1.0000 while the test-set accuracy to be 1.0000. These two values are quite comparable. So, there is no sign of overfitting."
   ]
  },
  {
   "cell_type": "markdown",
   "metadata": {},
   "source": [
    "Visualize decision-trees"
   ]
  },
  {
   "cell_type": "code",
   "execution_count": 32,
   "metadata": {
    "execution": {
     "iopub.execute_input": "2021-08-22T17:31:07.914896Z",
     "iopub.status.busy": "2021-08-22T17:31:07.914439Z",
     "iopub.status.idle": "2021-08-22T17:31:08.197998Z",
     "shell.execute_reply": "2021-08-22T17:31:08.197021Z",
     "shell.execute_reply.started": "2021-08-22T17:31:07.914833Z"
    }
   },
   "outputs": [
    {
     "data": {
      "text/plain": [
       "[Text(334.8, 326.15999999999997, 'X[40] <= 0.5\\ngini = 0.499\\nsamples = 318\\nvalue = [165, 153]'),\n",
       " Text(167.4, 108.72000000000003, 'gini = 0.0\\nsamples = 165\\nvalue = [165, 0]'),\n",
       " Text(502.20000000000005, 108.72000000000003, 'gini = 0.0\\nsamples = 153\\nvalue = [0, 153]')]"
      ]
     },
     "execution_count": 32,
     "metadata": {},
     "output_type": "execute_result"
    },
    {
     "data": {
      "image/png": "[encoded data removed]",
      "text/plain": [
       "<Figure size 864x576 with 1 Axes>"
      ]
     },
     "metadata": {
      "needs_background": "light"
     },
     "output_type": "display_data"
    }
   ],
   "source": [
    "plt.figure(figsize=(12,8))\n",
    "tree.plot_tree(clf_gini.fit(X_train, y_train))"
   ]
  },
  {
   "cell_type": "markdown",
   "metadata": {},
   "source": [
    "Decision Tree Classifier with criterion entropy"
   ]
  },
  {
   "cell_type": "code",
   "execution_count": 33,
   "metadata": {
    "execution": {
     "iopub.execute_input": "2021-08-22T17:31:08.199583Z",
     "iopub.status.busy": "2021-08-22T17:31:08.199273Z",
     "iopub.status.idle": "2021-08-22T17:31:08.210674Z",
     "shell.execute_reply": "2021-08-22T17:31:08.209617Z",
     "shell.execute_reply.started": "2021-08-22T17:31:08.199552Z"
    }
   },
   "outputs": [
    {
     "data": {
      "text/plain": [
       "DecisionTreeClassifier(criterion='entropy', max_depth=3, random_state=0)"
      ]
     },
     "execution_count": 33,
     "metadata": {},
     "output_type": "execute_result"
    }
   ],
   "source": [
    "clf_en = DecisionTreeClassifier(criterion='entropy', max_depth=3, random_state=0)\n",
    "clf_en.fit(X_train, y_train)"
   ]
  },
  {
   "cell_type": "markdown",
   "metadata": {},
   "source": [
    "Predict the Test set results with criterion entropy"
   ]
  },
  {
   "cell_type": "code",
   "execution_count": 34,
   "metadata": {
    "execution": {
     "iopub.execute_input": "2021-08-22T17:31:08.212436Z",
     "iopub.status.busy": "2021-08-22T17:31:08.212031Z",
     "iopub.status.idle": "2021-08-22T17:31:08.222517Z",
     "shell.execute_reply": "2021-08-22T17:31:08.221446Z",
     "shell.execute_reply.started": "2021-08-22T17:31:08.212394Z"
    }
   },
   "outputs": [],
   "source": [
    "y_pred_en = clf_en.predict(X_test)"
   ]
  },
  {
   "cell_type": "markdown",
   "metadata": {},
   "source": [
    "Check accuracy score with criterion entropy"
   ]
  },
  {
   "cell_type": "code",
   "execution_count": 35,
   "metadata": {
    "execution": {
     "iopub.execute_input": "2021-08-22T17:31:08.224212Z",
     "iopub.status.busy": "2021-08-22T17:31:08.223894Z",
     "iopub.status.idle": "2021-08-22T17:31:08.235298Z",
     "shell.execute_reply": "2021-08-22T17:31:08.234169Z",
     "shell.execute_reply.started": "2021-08-22T17:31:08.224175Z"
    }
   },
   "outputs": [
    {
     "name": "stdout",
     "output_type": "stream",
     "text": [
      "Model accuracy score with criterion entropy: 1.0000\n"
     ]
    }
   ],
   "source": [
    "print('Model accuracy score with criterion entropy: {0:0.4f}'. format(accuracy_score(y_test, y_pred_en)))"
   ]
  },
  {
   "cell_type": "markdown",
   "metadata": {},
   "source": [
    "Compare the train-set and test-set accuracy"
   ]
  },
  {
   "cell_type": "code",
   "execution_count": 36,
   "metadata": {
    "execution": {
     "iopub.execute_input": "2021-08-22T17:31:08.236693Z",
     "iopub.status.busy": "2021-08-22T17:31:08.236404Z",
     "iopub.status.idle": "2021-08-22T17:31:08.251166Z",
     "shell.execute_reply": "2021-08-22T17:31:08.250001Z",
     "shell.execute_reply.started": "2021-08-22T17:31:08.236664Z"
    }
   },
   "outputs": [
    {
     "data": {
      "text/plain": [
       "array([1, 1, 0, 0, 1, 1, 0, 0, 1, 1, 0, 0, 1, 0, 0, 0, 0, 0, 0, 1, 0, 1,\n",
       "       1, 1, 1, 1, 1, 1, 0, 0, 1, 1, 0, 0, 0, 1, 1, 0, 0, 0, 1, 1, 1, 0,\n",
       "       1, 0, 0, 0, 0, 0, 0, 1, 0, 1, 1, 1, 0, 0, 0, 0, 1, 1, 0, 1, 1, 1,\n",
       "       1, 1, 0, 1, 1, 0, 0, 1, 1, 0, 1, 1, 0, 0, 0, 0, 1, 1, 1, 0, 1, 1,\n",
       "       0, 1, 1, 1, 1, 1, 0, 1, 0, 1, 1, 1, 1, 1, 1, 0, 0, 0, 0, 1, 1, 1,\n",
       "       0, 1, 0, 0, 0, 0, 0, 0, 1, 0, 0, 0, 0, 1, 1, 1, 0, 1, 0, 1, 1, 0,\n",
       "       0, 1, 0, 0, 0, 0, 0, 1, 0, 1, 1, 0, 1, 0, 1, 0, 1, 0, 0, 1, 1, 0,\n",
       "       0, 0, 0, 0, 0, 1, 1, 0, 1, 1, 0, 1, 0, 0, 1, 0, 1, 0, 1, 0, 1, 0,\n",
       "       1, 0, 1, 1, 1, 1, 1, 1, 1, 0, 0, 0, 1, 1, 0, 0, 0, 1, 1, 0, 0, 0,\n",
       "       0, 1, 0, 0, 1, 0, 0, 0, 1, 1, 0, 1, 1, 1, 0, 0, 0, 1, 0, 0, 0, 0,\n",
       "       1, 0, 1, 1, 1, 1, 1, 1, 0, 1, 1, 1, 0, 0, 0, 0, 0, 0, 0, 0, 0, 0,\n",
       "       0, 0, 0, 0, 0, 0, 1, 1, 0, 1, 0, 0, 1, 1, 1, 1, 1, 0, 1, 0, 1, 0,\n",
       "       1, 0, 0, 1, 0, 1, 0, 1, 0, 0, 1, 0, 0, 0, 0, 1, 1, 1, 1, 0, 1, 1,\n",
       "       1, 1, 0, 0, 0, 1, 0, 1, 0, 1, 0, 0, 0, 0, 1, 1, 1, 0, 1, 0, 1, 0,\n",
       "       0, 1, 0, 1, 1, 1, 1, 0, 0, 1], dtype=int64)"
      ]
     },
     "execution_count": 36,
     "metadata": {},
     "output_type": "execute_result"
    }
   ],
   "source": [
    "y_pred_train_en = clf_en.predict(X_train)\n",
    "\n",
    "y_pred_train_en"
   ]
  },
  {
   "cell_type": "code",
   "execution_count": 37,
   "metadata": {
    "execution": {
     "iopub.execute_input": "2021-08-22T17:31:08.252461Z",
     "iopub.status.busy": "2021-08-22T17:31:08.252187Z",
     "iopub.status.idle": "2021-08-22T17:31:08.263316Z",
     "shell.execute_reply": "2021-08-22T17:31:08.262352Z",
     "shell.execute_reply.started": "2021-08-22T17:31:08.252435Z"
    }
   },
   "outputs": [
    {
     "name": "stdout",
     "output_type": "stream",
     "text": [
      "Training-set accuracy score: 1.0000\n"
     ]
    }
   ],
   "source": [
    "print('Training-set accuracy score: {0:0.4f}'. format(accuracy_score(y_train, y_pred_train_en)))"
   ]
  },
  {
   "cell_type": "markdown",
   "metadata": {},
   "source": [
    "Check for overfitting and underfitting"
   ]
  },
  {
   "cell_type": "code",
   "execution_count": 38,
   "metadata": {
    "execution": {
     "iopub.execute_input": "2021-08-22T17:31:08.266513Z",
     "iopub.status.busy": "2021-08-22T17:31:08.266174Z",
     "iopub.status.idle": "2021-08-22T17:31:08.28063Z",
     "shell.execute_reply": "2021-08-22T17:31:08.279455Z",
     "shell.execute_reply.started": "2021-08-22T17:31:08.266482Z"
    }
   },
   "outputs": [
    {
     "name": "stdout",
     "output_type": "stream",
     "text": [
      "Training set score: 1.0000\n",
      "Test set score: 1.0000\n"
     ]
    }
   ],
   "source": [
    "print('Training set score: {:.4f}'.format(clf_en.score(X_train, y_train)))\n",
    "\n",
    "print('Test set score: {:.4f}'.format(clf_en.score(X_test, y_test)))"
   ]
  },
  {
   "cell_type": "markdown",
   "metadata": {},
   "source": [
    "We can see that the training-set score and test-set score is same as above. The training-set accuracy score is 1.0000 while the test-set accuracy to be 1.0000. These two values are quite comparable. So, there is no sign of overfitting"
   ]
  },
  {
   "cell_type": "markdown",
   "metadata": {},
   "source": [
    "Visualize decision-tree"
   ]
  },
  {
   "cell_type": "code",
   "execution_count": 39,
   "metadata": {
    "execution": {
     "iopub.execute_input": "2021-08-22T17:31:08.282559Z",
     "iopub.status.busy": "2021-08-22T17:31:08.282154Z",
     "iopub.status.idle": "2021-08-22T17:31:08.553681Z",
     "shell.execute_reply": "2021-08-22T17:31:08.552727Z",
     "shell.execute_reply.started": "2021-08-22T17:31:08.282512Z"
    }
   },
   "outputs": [
    {
     "data": {
      "text/plain": [
       "[Text(334.8, 326.15999999999997, 'X[40] <= 0.5\\nentropy = 0.999\\nsamples = 318\\nvalue = [165, 153]'),\n",
       " Text(167.4, 108.72000000000003, 'entropy = 0.0\\nsamples = 165\\nvalue = [165, 0]'),\n",
       " Text(502.20000000000005, 108.72000000000003, 'entropy = 0.0\\nsamples = 153\\nvalue = [0, 153]')]"
      ]
     },
     "execution_count": 39,
     "metadata": {},
     "output_type": "execute_result"
    },
    {
     "data": {
      "image/png": "[encoded data removed]",
      "text/plain": [
       "<Figure size 864x576 with 1 Axes>"
      ]
     },
     "metadata": {
      "needs_background": "light"
     },
     "output_type": "display_data"
    }
   ],
   "source": [
    "plt.figure(figsize=(12,8))\n",
    "\n",
    "tree.plot_tree(clf_en.fit(X_train, y_train)) "
   ]
  },
  {
   "cell_type": "markdown",
   "metadata": {},
   "source": [
    "Now, based on the above analysis we can conclude that our classification model accuracy is excellent. Our model is doing a very good job in terms of predicting the class labels.\n",
    "\n",
    "But, it does not give the underlying distribution of values. Also, it does not tell anything about the type of errors our classifer is making.\n",
    "\n",
    "We have another tool called Confusion matrix that comes to our rescue."
   ]
  },
  {
   "cell_type": "markdown",
   "metadata": {},
   "source": [
    "We have another tool called Confusion matrix that comes to our rescue."
   ]
  },
  {
   "cell_type": "markdown",
   "metadata": {},
   "source": [
    "Confusion matrix"
   ]
  },
  {
   "cell_type": "code",
   "execution_count": 42,
   "metadata": {
    "execution": {
     "iopub.execute_input": "2021-08-22T17:31:08.555191Z",
     "iopub.status.busy": "2021-08-22T17:31:08.554918Z",
     "iopub.status.idle": "2021-08-22T17:31:08.562248Z",
     "shell.execute_reply": "2021-08-22T17:31:08.5611Z",
     "shell.execute_reply.started": "2021-08-22T17:31:08.555164Z"
    }
   },
   "outputs": [
    {
     "name": "stdout",
     "output_type": "stream",
     "text": [
      "Confusion matrix\n",
      "\n",
      " [[34  0]\n",
      " [ 0 46]]\n"
     ]
    }
   ],
   "source": [
    "cm = confusion_matrix(y_test, y_pred_en)\n",
    "\n",
    "print('Confusion matrix\\n\\n', cm)"
   ]
  },
  {
   "cell_type": "markdown",
   "metadata": {},
   "source": [
    "Classification Report"
   ]
  },
  {
   "cell_type": "code",
   "execution_count": 43,
   "metadata": {
    "execution": {
     "iopub.execute_input": "2021-08-22T17:31:08.564461Z",
     "iopub.status.busy": "2021-08-22T17:31:08.564015Z",
     "iopub.status.idle": "2021-08-22T17:31:08.580397Z",
     "shell.execute_reply": "2021-08-22T17:31:08.579003Z",
     "shell.execute_reply.started": "2021-08-22T17:31:08.564418Z"
    }
   },
   "outputs": [
    {
     "name": "stdout",
     "output_type": "stream",
     "text": [
      "              precision    recall  f1-score   support\n",
      "\n",
      "           0       1.00      1.00      1.00        34\n",
      "           1       1.00      1.00      1.00        46\n",
      "\n",
      "    accuracy                           1.00        80\n",
      "   macro avg       1.00      1.00      1.00        80\n",
      "weighted avg       1.00      1.00      1.00        80\n",
      "\n"
     ]
    }
   ],
   "source": [
    "print(classification_report(y_test, y_pred_en))"
   ]
  },
  {
   "cell_type": "markdown",
   "metadata": {},
   "source": [
    "Random Forest"
   ]
  },
  {
   "cell_type": "code",
   "execution_count": 44,
   "metadata": {
    "execution": {
     "iopub.execute_input": "2021-08-22T17:31:08.582178Z",
     "iopub.status.busy": "2021-08-22T17:31:08.581823Z",
     "iopub.status.idle": "2021-08-22T17:31:09.222114Z",
     "shell.execute_reply": "2021-08-22T17:31:09.220975Z",
     "shell.execute_reply.started": "2021-08-22T17:31:08.582134Z"
    }
   },
   "outputs": [
    {
     "name": "stdout",
     "output_type": "stream",
     "text": [
      "Random Forest Classifier\n",
      "Accuracy Score: 1.0\n",
      "              precision    recall  f1-score   support\n",
      "\n",
      "           0       1.00      1.00      1.00        34\n",
      "           1       1.00      1.00      1.00        46\n",
      "\n",
      "    accuracy                           1.00        80\n",
      "   macro avg       1.00      1.00      1.00        80\n",
      "weighted avg       1.00      1.00      1.00        80\n",
      "\n",
      "cohen kappa score:  1.0\n",
      "\n",
      "Confusion matrix\n",
      "\n",
      " [[34  0]\n",
      " [ 0 46]]\n"
     ]
    }
   ],
   "source": [
    "rdF=RandomForestClassifier(n_estimators=250, max_depth=50,random_state=45)\n",
    "rdF.fit(X_train,y_train)\n",
    "pred=rdF.predict(X_test)\n",
    "cm=confusion_matrix(y_test, pred)\n",
    "\n",
    "accuracy = accuracy_score(y_test,pred)\n",
    "print(\"Random Forest Classifier\")\n",
    "print(\"Accuracy Score: \"+ str(accuracy))\n",
    "print(classification_report(y_test,pred, labels=None))\n",
    "print(\"cohen kappa score: \", cohen_kappa_score(y_test, pred))\n",
    "print(\"\")\n",
    "print('Confusion matrix\\n\\n',cm)"
   ]
  },
  {
   "cell_type": "markdown",
   "metadata": {},
   "source": [
    "### Recommendation / Suggestion\n",
    "1.\tWe tried Naive Bayes which resulted in accuracy score of 1.0\n",
    "2.\tThen we tried K-neighbout which resulted in accuracy score as follows,\n",
    "    *     kneighbors:  3 Accuracy: 1.0\n",
    "    *     kneighbors:  6 Accuracy: 0.9125\n",
    "    *     kneighbors:  9 Accuracy: 0.9125\n",
    "    *     kneighbors: 12 Accuracy: 0.9\n",
    "3.\tSo we have built a Decision-Tree Classifier model for Android Malware Detection. We built two models, one with criterion gini index and another one with criterion entropy. These models yields a very good performance as indicated by the model accuracy in both the cases to be 1.0000\n",
    "4.\tIn the model with criterion gini index, the training-set accuracy score and the test-set accuracy to be 1.0000. These two values are same. So, there is no sign of overfitting.\n",
    "5.\tSimilarly, in the model with criterion entropy, the training-set accuracy score and the test-set accuracy to be 1.0000. These two values are same. So, there is no sign of overfitting.\n",
    "6.\tThen we tried Random forest classifier which resulted in accuracy score of  1.0 and cohen kappa score of 1.0\n",
    "7.\tThe confusion matrix and classification report yields excellent model performance.\n",
    "\n",
    "<br>\n",
    "Conclusion of Group 186 - Android Malware Deduction"
   ]
  }
 ],
 "metadata": {
  "kernelspec": {
   "display_name": "Python 3 (ipykernel)",
   "language": "python",
   "name": "python3"
  },
  "language_info": {
   "codemirror_mode": {
    "name": "ipython",
    "version": 3
   },
   "file_extension": ".py",
   "mimetype": "text/x-python",
   "name": "python",
   "nbconvert_exporter": "python",
   "pygments_lexer": "ipython3",
   "version": "3.9.7"
  }
 },
 "nbformat": 4,
 "nbformat_minor": 4
}
