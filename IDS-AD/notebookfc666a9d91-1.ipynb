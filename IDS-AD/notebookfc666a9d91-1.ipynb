{
 "cells": [
  {
   "cell_type": "markdown",
   "metadata": {},
   "source": [
    "# Android Malware Detection"
   ]
  },
  {
   "cell_type": "markdown",
   "metadata": {},
   "source": [
    "<style>\n",
    "table {\n",
    "  font-family: arial, sans-serif;\n",
    "  border-collapse: collapse;\n",
    "  width: 100%;\n",
    "}\n",
    "\n",
    "td, th {\n",
    "  border: 1px solid #dddddd;\n",
    "  text-align: left;\n",
    "  padding: 8px;\n",
    "}\n",
    "\n",
    "tr:nth-child(even) {\n",
    "  background-color: #dddddd;\n",
    "}\n",
    "</style>\n",
    "\n",
    "<h2>Group No: Group 186</h2>\n",
    "\n",
    "<table>\n",
    "  <tr>\n",
    "    <th>Full Name</th>\n",
    "    <th>BITS ID</th>\n",
    "    <th>Contribution</th>  \n",
    "  </tr>\n",
    "  <tr>\n",
    "    <td>Sindhu C</td>\n",
    "    <td>2021FC04993</td>\n",
    "    <td>100%</td>      \n",
    "  </tr>\n",
    "  <tr>\n",
    "    <td>Sivarajan N</td>\n",
    "    <td>2021FC04989</td>\n",
    "    <td>100%</td>      \n",
    "  </tr>\n",
    "  <tr>\n",
    "    <td>Manibalan S</td>\n",
    "    <td>2021fc04442</td>\n",
    "    <td> 0% </td>      \n",
    " </tr>\n",
    "</table>\n",
    "\n"
   ]
  },
  {
   "cell_type": "markdown",
   "metadata": {},
   "source": [
    "**Introduction**"
   ]
  },
  {
   "cell_type": "markdown",
   "metadata": {},
   "source": [
    "\n",
    "With the popularity of Android devices, the number of applications made for the android operating system is\n",
    "also increasing day by day. But the biggest challenge in this scenario is to identify if an application is an authentic\n",
    "application or a malware. This project tries to identify an application as malware/not based on the permissions\n",
    "required by the application"
   ]
  },
  {
   "cell_type": "markdown",
   "metadata": {},
   "source": [
    "**Dataset**"
   ]
  },
  {
   "cell_type": "markdown",
   "metadata": {},
   "source": [
    "\n",
    "The dataset given here is taken from Kaggle and consists of about 331 features which are the different android\n",
    "permissions asked by the application (0 denotes not required and 1 denotes required). The no rows/malware\n",
    "readings for each permission is 398. It is the ‘type’ label which represents a given row corresponding to whether\n",
    "an application is malware or not."
   ]
  },
  {
   "cell_type": "markdown",
   "metadata": {},
   "source": [
    "**Tasks in this assignment**"
   ]
  },
  {
   "cell_type": "markdown",
   "metadata": {},
   "source": [
    "1. Write a Data Science Proposal for achieving the objective mentioned.\n",
    "2. Perform exploratory analysis on the data and describe your understanding of the data.\n",
    "3. Perform data wrangling / pre-processing on the data if required\n",
    "    a. E.g., missing data, normalization, discretization, etc.\n",
    "4. Apply any two feature engineering techniques.\n",
    "5. Plot top 10 features.\n",
    "6. Implement any two Machine Learning models (SVM or Decision Tree or Random Forest or kNN or Naïve Bayes etc)\n",
    "7. Compare the performance of the two models. Provide a table for comparison. (Here you may use the combination of FE1+ML1, FE1+ML2, FE2+ML1 and FE2+ML2 etc)\n",
    "8. Present the conclusions/results in the format shared.\n"
   ]
  },
  {
   "cell_type": "markdown",
   "metadata": {},
   "source": [
    "**Expected Submissions**"
   ]
  },
  {
   "cell_type": "markdown",
   "metadata": {},
   "source": [
    "Two files are expected as the assignment submission.\n",
    "1. The summary of the work in the template provided. (you may fill only the boxes relevant to this problem\n",
    "statement)\n",
    "2. The executed ipynb file with clear subdivision of the codes and brief description of the purpose of\n",
    "respective code. All the executed tables or graphs and results should be present in the ipynb file. The\n",
    "ipynb file may be submitted as a single .pdf file."
   ]
  },
  {
   "cell_type": "markdown",
   "metadata": {},
   "source": [
    "#### Import packages"
   ]
  },
  {
   "cell_type": "code",
   "execution_count": 40,
   "metadata": {
    "_cell_guid": "b1076dfc-b9ad-4769-8c92-a6c4dae69d19",
    "_uuid": "8f2839f25d086af736a60e9eeb907d3b93b6e0e5",
    "execution": {
     "iopub.execute_input": "2022-08-28T17:31:53.587067Z",
     "iopub.status.busy": "2022-08-28T17:31:53.586441Z",
     "iopub.status.idle": "2022-08-28T17:31:53.597074Z",
     "shell.execute_reply": "2022-08-28T17:31:53.595486Z",
     "shell.execute_reply.started": "2022-08-28T17:31:53.587016Z"
    }
   },
   "outputs": [],
   "source": [
    "from sklearn.naive_bayes import GaussianNB, BernoulliNB\n",
    "from sklearn.metrics import accuracy_score, classification_report\n",
    "from sklearn.ensemble import BaggingClassifier\n",
    "from sklearn.neighbors import KNeighborsClassifier\n",
    "from sklearn.linear_model import SGDClassifier\n",
    "from sklearn.model_selection import train_test_split\n",
    "from sklearn.metrics import cohen_kappa_score\n",
    "from sklearn.metrics import confusion_matrix\n",
    "from sklearn.ensemble import RandomForestClassifier\n",
    "import matplotlib.pyplot as plt\n",
    "from sklearn import preprocessing\n",
    "import torch\n",
    "from sklearn import svm\n",
    "from sklearn import tree\n",
    "import pandas as pd\n",
    "import pickle\n",
    "import numpy as np\n",
    "import seaborn as sns\n",
    "import category_encoders as ce\n",
    "from sklearn.tree import DecisionTreeClassifier\n",
    "import matplotlib.pyplot as plt\n",
    "from sklearn.metrics import confusion_matrix\n",
    "from sklearn import tree"
   ]
  },
  {
   "cell_type": "markdown",
   "metadata": {},
   "source": [
    "### Load Data"
   ]
  },
  {
   "cell_type": "markdown",
   "metadata": {},
   "source": [
    "\n",
    "Read dataset into pandas dataframe"
   ]
  },
  {
   "cell_type": "code",
   "execution_count": 41,
   "metadata": {
    "execution": {
     "iopub.execute_input": "2022-08-28T17:31:53.599391Z",
     "iopub.status.busy": "2022-08-28T17:31:53.598899Z",
     "iopub.status.idle": "2022-08-28T17:31:53.664247Z",
     "shell.execute_reply": "2022-08-28T17:31:53.663065Z",
     "shell.execute_reply.started": "2022-08-28T17:31:53.599341Z"
    }
   },
   "outputs": [],
   "source": [
    "df = pd.read_csv(\"Dataset_Android-1\", sep=\";\")\n",
    "df.shape\n",
    "df.columns = map(str.lower, df.columns)"
   ]
  },
  {
   "cell_type": "markdown",
   "metadata": {},
   "source": [
    "#### Exploratory Analysis"
   ]
  },
  {
   "cell_type": "markdown",
   "metadata": {},
   "source": [
    "List the features"
   ]
  },
  {
   "cell_type": "code",
   "execution_count": 42,
   "metadata": {
    "execution": {
     "iopub.execute_input": "2022-08-28T17:31:53.666790Z",
     "iopub.status.busy": "2022-08-28T17:31:53.666015Z",
     "iopub.status.idle": "2022-08-28T17:31:53.762135Z",
     "shell.execute_reply": "2022-08-28T17:31:53.732130Z",
     "shell.execute_reply.started": "2022-08-28T17:31:53.666739Z"
    }
   },
   "outputs": [],
   "source": [
    "for column in df.columns.tolist():\n",
    "    print(column)"
   ]
  },
  {
   "cell_type": "markdown",
   "metadata": {},
   "source": [
    "### Data wrangling and Pre-processing"
   ]
  },
  {
   "cell_type": "markdown",
   "metadata": {},
   "source": [
    "Get all non numeric values from the dataset"
   ]
  },
  {
   "cell_type": "code",
   "execution_count": 43,
   "metadata": {
    "execution": {
     "iopub.execute_input": "2022-08-28T17:31:53.764243Z",
     "iopub.status.busy": "2022-08-28T17:31:53.763791Z",
     "iopub.status.idle": "2022-08-28T17:31:53.784636Z",
     "shell.execute_reply": "2022-08-28T17:31:53.783450Z",
     "shell.execute_reply.started": "2022-08-28T17:31:53.764195Z"
    }
   },
   "outputs": [],
   "source": [
    "null_series = df.isnull().sum()\n",
    "count =0\n",
    "for _, val in null_series.iteritems():\n",
    "    if(val>0):\n",
    "        print (_ + \"      \"+ str(val))\n",
    "    else:\n",
    "        count = count +1\n",
    "print(\"number of columns with no null values: \"+ str(count))\n",
    "\n",
    "na_series = df.isna().sum()\n",
    "count =0\n",
    "for _, val in na_series.iteritems():\n",
    "    if(val>0):\n",
    "        print (_ + \"      \"+ str(val))\n",
    "    else:\n",
    "        count = count +1\n",
    "print(\"number of columns with no na values: \"+ str(count))"
   ]
  },
  {
   "cell_type": "markdown",
   "metadata": {},
   "source": [
    "So there are no missing values in the dataset"
   ]
  },
  {
   "cell_type": "markdown",
   "metadata": {},
   "source": [
    "Find all outlier values in each column"
   ]
  },
  {
   "cell_type": "code",
   "execution_count": 44,
   "metadata": {
    "execution": {
     "iopub.execute_input": "2022-08-28T17:31:53.788550Z",
     "iopub.status.busy": "2022-08-28T17:31:53.788056Z",
     "iopub.status.idle": "2022-08-28T17:31:54.152638Z",
     "shell.execute_reply": "2022-08-28T17:31:54.151467Z",
     "shell.execute_reply.started": "2022-08-28T17:31:53.788511Z"
    }
   },
   "outputs": [],
   "source": [
    "onezero = 0\n",
    "for column in df.columns:\n",
    "    cnt = len(df[(df[column]!= 0) & (df[column]!= 1)])\n",
    "    if(cnt > 0):\n",
    "        print(column + \" has \"+ str(cnt) +\" rows with value other than 0,1\")\n",
    "    else:\n",
    "        onezero = onezero + 1\n",
    "print(\"Total number of features with values as only 0,1: \" + str(onezero))"
   ]
  },
  {
   "cell_type": "markdown",
   "metadata": {},
   "source": [
    "There are no outliers in any column"
   ]
  },
  {
   "cell_type": "markdown",
   "metadata": {},
   "source": [
    "Since all values are either 0 or 1 no need to perform normalization"
   ]
  },
  {
   "cell_type": "markdown",
   "metadata": {},
   "source": [
    "So let's cast the dataframe columns to integer type to ease out our analysis process"
   ]
  },
  {
   "cell_type": "code",
   "execution_count": 45,
   "metadata": {
    "execution": {
     "iopub.execute_input": "2022-08-28T17:31:54.154852Z",
     "iopub.status.busy": "2022-08-28T17:31:54.154424Z",
     "iopub.status.idle": "2022-08-28T17:31:54.167748Z",
     "shell.execute_reply": "2022-08-28T17:31:54.166403Z",
     "shell.execute_reply.started": "2022-08-28T17:31:54.154805Z"
    }
   },
   "outputs": [],
   "source": [
    "df = df.astype(\"int64\")"
   ]
  },
  {
   "cell_type": "markdown",
   "metadata": {},
   "source": [
    "View sample data"
   ]
  },
  {
   "cell_type": "code",
   "execution_count": 46,
   "metadata": {
    "execution": {
     "iopub.execute_input": "2022-08-28T17:31:54.170339Z",
     "iopub.status.busy": "2022-08-28T17:31:54.169467Z",
     "iopub.status.idle": "2022-08-28T17:31:54.195581Z",
     "shell.execute_reply": "2022-08-28T17:31:54.194471Z",
     "shell.execute_reply.started": "2022-08-28T17:31:54.170259Z"
    }
   },
   "outputs": [],
   "source": [
    "df.head()"
   ]
  },
  {
   "cell_type": "markdown",
   "metadata": {},
   "source": [
    "Analyze feautres "
   ]
  },
  {
   "cell_type": "markdown",
   "metadata": {},
   "source": [
    "Count of malware (1) vs benign apps (0) based on type column"
   ]
  },
  {
   "cell_type": "code",
   "execution_count": 47,
   "metadata": {
    "execution": {
     "iopub.execute_input": "2022-08-28T17:31:54.197742Z",
     "iopub.status.busy": "2022-08-28T17:31:54.197074Z",
     "iopub.status.idle": "2022-08-28T17:31:54.207780Z",
     "shell.execute_reply": "2022-08-28T17:31:54.206575Z",
     "shell.execute_reply.started": "2022-08-28T17:31:54.197693Z"
    }
   },
   "outputs": [],
   "source": [
    "df.type.value_counts()"
   ]
  },
  {
   "cell_type": "markdown",
   "metadata": {},
   "source": [
    "So there are 199 malwares and 199 benign apps in the dataset so the data is equally distributed"
   ]
  },
  {
   "cell_type": "markdown",
   "metadata": {},
   "source": [
    "#### Plot 10 features"
   ]
  },
  {
   "cell_type": "markdown",
   "metadata": {},
   "source": [
    "Let us find the top 10 features that determine whether the app is malware or not"
   ]
  },
  {
   "cell_type": "markdown",
   "metadata": {},
   "source": [
    "Top 10 permissions required by Malware apps"
   ]
  },
  {
   "cell_type": "code",
   "execution_count": 48,
   "metadata": {
    "execution": {
     "iopub.execute_input": "2022-08-28T17:31:54.213592Z",
     "iopub.status.busy": "2022-08-28T17:31:54.209355Z",
     "iopub.status.idle": "2022-08-28T17:31:54.231186Z",
     "shell.execute_reply": "2022-08-28T17:31:54.229893Z",
     "shell.execute_reply.started": "2022-08-28T17:31:54.213535Z"
    }
   },
   "outputs": [],
   "source": [
    "pd.Series.sort_values(df[df.type==1].sum(axis=0), ascending=False)[1:11]"
   ]
  },
  {
   "cell_type": "markdown",
   "metadata": {},
   "source": [
    "Top 10 permissions required by benign apps"
   ]
  },
  {
   "cell_type": "code",
   "execution_count": 49,
   "metadata": {
    "execution": {
     "iopub.execute_input": "2022-08-28T17:31:54.235599Z",
     "iopub.status.busy": "2022-08-28T17:31:54.232645Z",
     "iopub.status.idle": "2022-08-28T17:31:54.275362Z",
     "shell.execute_reply": "2022-08-28T17:31:54.274212Z",
     "shell.execute_reply.started": "2022-08-28T17:31:54.235529Z"
    }
   },
   "outputs": [],
   "source": [
    "pd.Series.sort_values(df[df.type==0].sum(axis=0), ascending=False)[1:11]"
   ]
  },
  {
   "cell_type": "markdown",
   "metadata": {},
   "source": [
    "Let us plot a bar char for the above top 10 features"
   ]
  },
  {
   "cell_type": "code",
   "execution_count": 50,
   "metadata": {
    "execution": {
     "iopub.execute_input": "2022-08-28T17:31:54.278549Z",
     "iopub.status.busy": "2022-08-28T17:31:54.276625Z",
     "iopub.status.idle": "2022-08-28T17:31:54.730998Z",
     "shell.execute_reply": "2022-08-28T17:31:54.729818Z",
     "shell.execute_reply.started": "2022-08-28T17:31:54.278498Z"
    }
   },
   "outputs": [],
   "source": [
    "fig, axs =  plt.subplots(nrows=2, sharex=True)\n",
    "pd.Series.sort_values(df[df.type==0].sum(axis=0), ascending=False)[1:11].plot.bar(ax=axs[0], color=\"green\", title=\"Benign Apps\")\n",
    "pd.Series.sort_values(df[df.type==1].sum(axis=0), ascending=False)[1:11].plot.bar(ax=axs[1], color=\"red\", title=\"Malware Apps\", ylabel=\"Count of apps\", xlabel=\"Permissions\")"
   ]
  },
  {
   "cell_type": "markdown",
   "metadata": {},
   "source": [
    "Describing the features in the dataset"
   ]
  },
  {
   "cell_type": "code",
   "execution_count": 51,
   "metadata": {
    "execution": {
     "iopub.execute_input": "2022-08-28T17:31:54.734860Z",
     "iopub.status.busy": "2022-08-28T17:31:54.734312Z",
     "iopub.status.idle": "2022-08-28T17:31:55.444703Z",
     "shell.execute_reply": "2022-08-28T17:31:55.443607Z",
     "shell.execute_reply.started": "2022-08-28T17:31:54.734794Z"
    }
   },
   "outputs": [],
   "source": [
    "df_desc = df.describe()\n",
    "df_desc"
   ]
  },
  {
   "cell_type": "markdown",
   "metadata": {},
   "source": [
    "from above we can see that certain keywords in permission seems more suspicious so selecting those columns"
   ]
  },
  {
   "cell_type": "code",
   "execution_count": 52,
   "metadata": {
    "execution": {
     "iopub.execute_input": "2022-08-28T17:31:55.446975Z",
     "iopub.status.busy": "2022-08-28T17:31:55.446364Z",
     "iopub.status.idle": "2022-08-28T17:31:55.480297Z",
     "shell.execute_reply": "2022-08-28T17:31:55.479108Z",
     "shell.execute_reply.started": "2022-08-28T17:31:55.446927Z"
    }
   },
   "outputs": [],
   "source": [
    "df1= df.copy()\n",
    "df1 = df1.loc[:,df1.columns.str.contains('type')  |  df1.columns.str.contains('write') | df1.columns.str.contains('delete') | df1.columns.str.contains('clear') | df1.columns.str.contains('boot') | df1.columns.str.contains('change')| df1.columns.str.contains('credential')|df1.columns.str.contains('admin')|df1.columns.str.contains('list')|df1.columns.str.contains('secure_storage')|df1.columns.str.contains('notifications')|df1.columns.str.contains('account')|df1.columns.str.contains('destroy')|df1.columns.str.contains('mount')|df1.columns.str.contains('authenticate')|df1.columns.str.contains('privileged')|df1.columns.str.contains('brick')|df1.columns.str.contains('transmit')|df1.columns.str.contains('capture')|df1.columns.str.contains('disable')|df1.columns.str.contains('install')|df1.columns.str.contains('certificate')|df1.columns.str.contains('send')|df1.columns.str.contains('shutdown')|df1.columns.str.contains('start_any_activity')|df1.columns.str.contains('lock')|df1.columns.str.contains('sms')|df1.columns.str.contains('call')|df1.columns.str.contains('danger')|df1.columns.str.contains('voicemail')]"
   ]
  },
  {
   "cell_type": "code",
   "execution_count": 53,
   "metadata": {
    "execution": {
     "iopub.execute_input": "2022-08-28T17:31:55.484215Z",
     "iopub.status.busy": "2022-08-28T17:31:55.483444Z",
     "iopub.status.idle": "2022-08-28T17:31:55.505897Z",
     "shell.execute_reply": "2022-08-28T17:31:55.504821Z",
     "shell.execute_reply.started": "2022-08-28T17:31:55.484158Z"
    }
   },
   "outputs": [],
   "source": [
    "df1.head()"
   ]
  },
  {
   "cell_type": "markdown",
   "metadata": {},
   "source": [
    "remove columns that contain only 0"
   ]
  },
  {
   "cell_type": "code",
   "execution_count": 54,
   "metadata": {
    "execution": {
     "iopub.execute_input": "2022-08-28T17:31:55.508435Z",
     "iopub.status.busy": "2022-08-28T17:31:55.507597Z",
     "iopub.status.idle": "2022-08-28T17:31:55.647014Z",
     "shell.execute_reply": "2022-08-28T17:31:55.645923Z",
     "shell.execute_reply.started": "2022-08-28T17:31:55.508239Z"
    }
   },
   "outputs": [],
   "source": [
    "df1 = df1.loc[:, (df1 != 0).any(axis=0)]\n",
    "df1.describe()"
   ]
  },
  {
   "cell_type": "markdown",
   "metadata": {},
   "source": [
    "Plot grouped bar chart to better understand the feature relationship"
   ]
  },
  {
   "cell_type": "code",
   "execution_count": 55,
   "metadata": {
    "execution": {
     "iopub.execute_input": "2022-08-28T17:31:55.649475Z",
     "iopub.status.busy": "2022-08-28T17:31:55.648765Z",
     "iopub.status.idle": "2022-08-28T17:31:56.876583Z",
     "shell.execute_reply": "2022-08-28T17:31:56.875469Z",
     "shell.execute_reply.started": "2022-08-28T17:31:55.649424Z"
    }
   },
   "outputs": [],
   "source": [
    "bdf1 = pd.Series.sort_values(df1[df1.type==0].sum(axis=0), ascending=False)\n",
    "mdf1 = pd.Series.sort_values(df1[df1.type==1].sum(axis=0), ascending=False)\n",
    "del bdf1['type']\n",
    "del mdf1['type']\n",
    "pd.concat({'Benign Apps': bdf1, 'Malware Apps': mdf1}, axis=1).plot.bar(figsize=(18,5))"
   ]
  },
  {
   "cell_type": "markdown",
   "metadata": {},
   "source": [
    "## Feature Engineering"
   ]
  },
  {
   "cell_type": "markdown",
   "metadata": {},
   "source": [
    "#### Feature selection"
   ]
  },
  {
   "cell_type": "markdown",
   "metadata": {},
   "source": [
    "top 10 features that determine malware"
   ]
  },
  {
   "cell_type": "code",
   "execution_count": 56,
   "metadata": {
    "execution": {
     "iopub.execute_input": "2022-08-28T17:31:56.878748Z",
     "iopub.status.busy": "2022-08-28T17:31:56.878156Z",
     "iopub.status.idle": "2022-08-28T17:31:57.311992Z",
     "shell.execute_reply": "2022-08-28T17:31:57.310605Z",
     "shell.execute_reply.started": "2022-08-28T17:31:56.878702Z"
    }
   },
   "outputs": [],
   "source": [
    "fig, axs =  plt.subplots(nrows=2, sharex=True)\n",
    "bdf1[1:11].plot.bar(ax=axs[1], color=\"green\", title=\"Benign Apps\")\n",
    "mdf1[1:11].plot.bar(ax=axs[0], color=\"red\", title=\"Malware Apps\", ylabel=\"Count of apps\", xlabel=\"Permissions\")"
   ]
  },
  {
   "cell_type": "markdown",
   "metadata": {},
   "source": [
    "#### Observation\n",
    "From the above bat chart it is evident that only Malware apps predominantly require permission that control sms, wifi, lock, call, apn and contacts"
   ]
  },
  {
   "cell_type": "markdown",
   "metadata": {},
   "source": [
    "## Modeling"
   ]
  },
  {
   "cell_type": "code",
   "execution_count": 57,
   "metadata": {
    "execution": {
     "iopub.execute_input": "2022-08-28T17:31:57.314257Z",
     "iopub.status.busy": "2022-08-28T17:31:57.313793Z",
     "iopub.status.idle": "2022-08-28T17:31:57.324267Z",
     "shell.execute_reply": "2022-08-28T17:31:57.322470Z",
     "shell.execute_reply.started": "2022-08-28T17:31:57.314208Z"
    }
   },
   "outputs": [],
   "source": [
    "X_train, X_test, y_train, y_test = train_test_split(df1.iloc[:, 1:42], df1['type'], test_size=0.20, random_state=42)"
   ]
  },
  {
   "cell_type": "code",
   "execution_count": 58,
   "metadata": {
    "execution": {
     "iopub.execute_input": "2022-08-28T17:31:57.327182Z",
     "iopub.status.busy": "2022-08-28T17:31:57.326622Z",
     "iopub.status.idle": "2022-08-28T17:31:57.341202Z",
     "shell.execute_reply": "2022-08-28T17:31:57.340072Z",
     "shell.execute_reply.started": "2022-08-28T17:31:57.327027Z"
    }
   },
   "outputs": [],
   "source": [
    "X_train.shape, X_test.shape"
   ]
  },
  {
   "cell_type": "code",
   "execution_count": 59,
   "metadata": {
    "execution": {
     "iopub.execute_input": "2022-08-28T17:31:57.344223Z",
     "iopub.status.busy": "2022-08-28T17:31:57.343215Z",
     "iopub.status.idle": "2022-08-28T17:31:57.369744Z",
     "shell.execute_reply": "2022-08-28T17:31:57.368365Z",
     "shell.execute_reply.started": "2022-08-28T17:31:57.344169Z"
    }
   },
   "outputs": [],
   "source": [
    "y_train.shape, y_test.shape"
   ]
  },
  {
   "cell_type": "markdown",
   "metadata": {},
   "source": [
    "Naive Bayes algorithm"
   ]
  },
  {
   "cell_type": "code",
   "execution_count": 60,
   "metadata": {
    "execution": {
     "iopub.execute_input": "2022-08-28T17:31:57.372857Z",
     "iopub.status.busy": "2022-08-28T17:31:57.371940Z",
     "iopub.status.idle": "2022-08-28T17:31:57.395621Z",
     "shell.execute_reply": "2022-08-28T17:31:57.394568Z",
     "shell.execute_reply.started": "2022-08-28T17:31:57.372803Z"
    }
   },
   "outputs": [],
   "source": [
    "gnb = GaussianNB()\n",
    "gnb.fit(X_train, y_train)\n",
    "pred = gnb.predict(X_test)\n",
    "accuracy = accuracy_score(pred, y_test)\n",
    "print(\"Naive Bayes\")\n",
    "print(\"Accuracy: \" + str(accuracy))\n",
    "print(classification_report(pred, y_test, labels=None))"
   ]
  },
  {
   "cell_type": "markdown",
   "metadata": {},
   "source": [
    "k-neighbors algorithm"
   ]
  },
  {
   "cell_type": "code",
   "execution_count": 61,
   "metadata": {
    "execution": {
     "iopub.execute_input": "2022-08-28T17:31:57.397973Z",
     "iopub.status.busy": "2022-08-28T17:31:57.397234Z",
     "iopub.status.idle": "2022-08-28T17:31:57.494168Z",
     "shell.execute_reply": "2022-08-28T17:31:57.493044Z",
     "shell.execute_reply.started": "2022-08-28T17:31:57.397924Z"
    }
   },
   "outputs": [],
   "source": [
    "for i in range(3,15,3):\n",
    "    \n",
    "    neigh = KNeighborsClassifier(n_neighbors=i)\n",
    "    neigh.fit(X_train, y_train)\n",
    "    pred = neigh.predict(X_test)\n",
    "    accuracy = accuracy_score(pred, y_test)\n",
    "    print(\"k-neighbors {}\".format(i))\n",
    "    print(\"Accuracy: \" + str(accuracy))\n",
    "    print(classification_report(pred, y_test, labels=None))\n",
    "    print(\"\")"
   ]
  },
  {
   "cell_type": "markdown",
   "metadata": {},
   "source": [
    "Decision Tree"
   ]
  },
  {
   "cell_type": "code",
   "execution_count": 62,
   "metadata": {
    "execution": {
     "iopub.execute_input": "2022-08-28T17:31:57.496586Z",
     "iopub.status.busy": "2022-08-28T17:31:57.496212Z",
     "iopub.status.idle": "2022-08-28T17:31:57.512476Z",
     "shell.execute_reply": "2022-08-28T17:31:57.511580Z",
     "shell.execute_reply.started": "2022-08-28T17:31:57.496551Z"
    }
   },
   "outputs": [],
   "source": [
    "clf_gini = DecisionTreeClassifier(criterion='gini', max_depth=3, random_state=0)\n",
    "clf_gini.fit(X_train, y_train)"
   ]
  },
  {
   "cell_type": "markdown",
   "metadata": {},
   "source": [
    "Predict the Test set results with criterion gini index"
   ]
  },
  {
   "cell_type": "code",
   "execution_count": 63,
   "metadata": {
    "execution": {
     "iopub.execute_input": "2022-08-28T17:31:57.514081Z",
     "iopub.status.busy": "2022-08-28T17:31:57.513678Z",
     "iopub.status.idle": "2022-08-28T17:31:57.521753Z",
     "shell.execute_reply": "2022-08-28T17:31:57.520561Z",
     "shell.execute_reply.started": "2022-08-28T17:31:57.514042Z"
    }
   },
   "outputs": [],
   "source": [
    "y_pred_gini = clf_gini.predict(X_test)"
   ]
  },
  {
   "cell_type": "markdown",
   "metadata": {},
   "source": [
    "Check accuracy score with criterion gini index"
   ]
  },
  {
   "cell_type": "code",
   "execution_count": 64,
   "metadata": {
    "execution": {
     "iopub.execute_input": "2022-08-28T17:31:57.524687Z",
     "iopub.status.busy": "2022-08-28T17:31:57.523512Z",
     "iopub.status.idle": "2022-08-28T17:31:57.534374Z",
     "shell.execute_reply": "2022-08-28T17:31:57.533093Z",
     "shell.execute_reply.started": "2022-08-28T17:31:57.524638Z"
    }
   },
   "outputs": [],
   "source": [
    "print('Model accuracy score with criterion gini index: {0:0.4f}'. format(accuracy_score(y_test, y_pred_gini)))"
   ]
  },
  {
   "cell_type": "markdown",
   "metadata": {},
   "source": [
    "Here, y_test are the true class labels and y_pred_gini are the predicted class labels in the test-set."
   ]
  },
  {
   "cell_type": "markdown",
   "metadata": {},
   "source": [
    "Compare the train-set and test-set accuracy to check for overfitting"
   ]
  },
  {
   "cell_type": "code",
   "execution_count": 65,
   "metadata": {
    "execution": {
     "iopub.execute_input": "2022-08-28T17:31:57.536823Z",
     "iopub.status.busy": "2022-08-28T17:31:57.536235Z",
     "iopub.status.idle": "2022-08-28T17:31:57.574998Z",
     "shell.execute_reply": "2022-08-28T17:31:57.573879Z",
     "shell.execute_reply.started": "2022-08-28T17:31:57.536788Z"
    }
   },
   "outputs": [],
   "source": [
    "y_pred_train_gini = clf_gini.predict(X_train)\n",
    "\n",
    "y_pred_train_gini"
   ]
  },
  {
   "cell_type": "code",
   "execution_count": 66,
   "metadata": {
    "execution": {
     "iopub.execute_input": "2022-08-28T17:31:57.579033Z",
     "iopub.status.busy": "2022-08-28T17:31:57.578668Z",
     "iopub.status.idle": "2022-08-28T17:31:57.587486Z",
     "shell.execute_reply": "2022-08-28T17:31:57.586158Z",
     "shell.execute_reply.started": "2022-08-28T17:31:57.578997Z"
    }
   },
   "outputs": [],
   "source": [
    "print('Training-set accuracy score: {0:0.4f}'. format(accuracy_score(y_train, y_pred_train_gini)))"
   ]
  },
  {
   "cell_type": "markdown",
   "metadata": {},
   "source": [
    "Check for overfitting and underfitting"
   ]
  },
  {
   "cell_type": "code",
   "execution_count": 67,
   "metadata": {
    "execution": {
     "iopub.execute_input": "2022-08-28T17:31:57.590394Z",
     "iopub.status.busy": "2022-08-28T17:31:57.589497Z",
     "iopub.status.idle": "2022-08-28T17:31:57.609044Z",
     "shell.execute_reply": "2022-08-28T17:31:57.607753Z",
     "shell.execute_reply.started": "2022-08-28T17:31:57.590337Z"
    }
   },
   "outputs": [],
   "source": [
    "print('Training set score: {:.4f}'.format(clf_gini.score(X_train, y_train)))\n",
    "\n",
    "print('Test set score: {:.4f}'.format(clf_gini.score(X_test, y_test)))"
   ]
  },
  {
   "cell_type": "markdown",
   "metadata": {},
   "source": [
    "Here, the training-set accuracy score is 1.0000 while the test-set accuracy to be 1.0000. These two values are quite comparable. So, there is no sign of overfitting."
   ]
  },
  {
   "cell_type": "markdown",
   "metadata": {},
   "source": [
    "Visualize decision-trees"
   ]
  },
  {
   "cell_type": "code",
   "execution_count": 68,
   "metadata": {
    "execution": {
     "iopub.execute_input": "2022-08-28T17:31:57.611578Z",
     "iopub.status.busy": "2022-08-28T17:31:57.610939Z",
     "iopub.status.idle": "2022-08-28T17:31:57.944018Z",
     "shell.execute_reply": "2022-08-28T17:31:57.942690Z",
     "shell.execute_reply.started": "2022-08-28T17:31:57.611527Z"
    }
   },
   "outputs": [],
   "source": [
    "plt.figure(figsize=(12,8))\n",
    "tree.plot_tree(clf_gini.fit(X_train, y_train))"
   ]
  },
  {
   "cell_type": "markdown",
   "metadata": {},
   "source": [
    "Decision Tree Classifier with criterion entropy"
   ]
  },
  {
   "cell_type": "code",
   "execution_count": 69,
   "metadata": {
    "execution": {
     "iopub.execute_input": "2022-08-28T17:31:57.946531Z",
     "iopub.status.busy": "2022-08-28T17:31:57.945968Z",
     "iopub.status.idle": "2022-08-28T17:31:57.966968Z",
     "shell.execute_reply": "2022-08-28T17:31:57.965496Z",
     "shell.execute_reply.started": "2022-08-28T17:31:57.946477Z"
    }
   },
   "outputs": [],
   "source": [
    "clf_en = DecisionTreeClassifier(criterion='entropy', max_depth=3, random_state=0)\n",
    "clf_en.fit(X_train, y_train)"
   ]
  },
  {
   "cell_type": "markdown",
   "metadata": {},
   "source": [
    "Predict the Test set results with criterion entropy"
   ]
  },
  {
   "cell_type": "code",
   "execution_count": 70,
   "metadata": {
    "execution": {
     "iopub.execute_input": "2022-08-28T17:31:57.969802Z",
     "iopub.status.busy": "2022-08-28T17:31:57.968895Z",
     "iopub.status.idle": "2022-08-28T17:31:57.979298Z",
     "shell.execute_reply": "2022-08-28T17:31:57.977881Z",
     "shell.execute_reply.started": "2022-08-28T17:31:57.969752Z"
    }
   },
   "outputs": [],
   "source": [
    "y_pred_en = clf_en.predict(X_test)"
   ]
  },
  {
   "cell_type": "markdown",
   "metadata": {},
   "source": [
    "Check accuracy score with criterion entropy"
   ]
  },
  {
   "cell_type": "code",
   "execution_count": 71,
   "metadata": {
    "execution": {
     "iopub.execute_input": "2022-08-28T17:31:57.983782Z",
     "iopub.status.busy": "2022-08-28T17:31:57.982639Z",
     "iopub.status.idle": "2022-08-28T17:31:57.993490Z",
     "shell.execute_reply": "2022-08-28T17:31:57.992145Z",
     "shell.execute_reply.started": "2022-08-28T17:31:57.983715Z"
    }
   },
   "outputs": [],
   "source": [
    "print('Model accuracy score with criterion entropy: {0:0.4f}'. format(accuracy_score(y_test, y_pred_en)))"
   ]
  },
  {
   "cell_type": "markdown",
   "metadata": {},
   "source": [
    "Compare the train-set and test-set accuracy"
   ]
  },
  {
   "cell_type": "code",
   "execution_count": 72,
   "metadata": {
    "execution": {
     "iopub.execute_input": "2022-08-28T17:31:57.996044Z",
     "iopub.status.busy": "2022-08-28T17:31:57.995306Z",
     "iopub.status.idle": "2022-08-28T17:31:58.010517Z",
     "shell.execute_reply": "2022-08-28T17:31:58.008824Z",
     "shell.execute_reply.started": "2022-08-28T17:31:57.995985Z"
    }
   },
   "outputs": [],
   "source": [
    "y_pred_train_en = clf_en.predict(X_train)\n",
    "\n",
    "y_pred_train_en"
   ]
  },
  {
   "cell_type": "code",
   "execution_count": 73,
   "metadata": {
    "execution": {
     "iopub.execute_input": "2022-08-28T17:31:58.013848Z",
     "iopub.status.busy": "2022-08-28T17:31:58.013166Z",
     "iopub.status.idle": "2022-08-28T17:31:58.022752Z",
     "shell.execute_reply": "2022-08-28T17:31:58.021479Z",
     "shell.execute_reply.started": "2022-08-28T17:31:58.013781Z"
    }
   },
   "outputs": [],
   "source": [
    "print('Training-set accuracy score: {0:0.4f}'. format(accuracy_score(y_train, y_pred_train_en)))"
   ]
  },
  {
   "cell_type": "markdown",
   "metadata": {},
   "source": [
    "Check for overfitting and underfitting"
   ]
  },
  {
   "cell_type": "code",
   "execution_count": 74,
   "metadata": {
    "execution": {
     "iopub.execute_input": "2022-08-28T17:31:58.025198Z",
     "iopub.status.busy": "2022-08-28T17:31:58.024632Z",
     "iopub.status.idle": "2022-08-28T17:31:58.077692Z",
     "shell.execute_reply": "2022-08-28T17:31:58.076168Z",
     "shell.execute_reply.started": "2022-08-28T17:31:58.025159Z"
    }
   },
   "outputs": [],
   "source": [
    "print('Training set score: {:.4f}'.format(clf_en.score(X_train, y_train)))\n",
    "\n",
    "print('Test set score: {:.4f}'.format(clf_en.score(X_test, y_test)))"
   ]
  },
  {
   "cell_type": "markdown",
   "metadata": {},
   "source": [
    "We can see that the training-set score and test-set score is same as above. The training-set accuracy score is 1.0000 while the test-set accuracy to be 1.0000. These two values are quite comparable. So, there is no sign of overfitting"
   ]
  },
  {
   "cell_type": "markdown",
   "metadata": {},
   "source": [
    "Visualize decision-tree"
   ]
  },
  {
   "cell_type": "code",
   "execution_count": 75,
   "metadata": {
    "execution": {
     "iopub.execute_input": "2022-08-28T17:31:58.081535Z",
     "iopub.status.busy": "2022-08-28T17:31:58.079840Z",
     "iopub.status.idle": "2022-08-28T17:31:58.475253Z",
     "shell.execute_reply": "2022-08-28T17:31:58.474139Z",
     "shell.execute_reply.started": "2022-08-28T17:31:58.081481Z"
    }
   },
   "outputs": [],
   "source": [
    "plt.figure(figsize=(12,8))\n",
    "\n",
    "tree.plot_tree(clf_en.fit(X_train, y_train)) "
   ]
  },
  {
   "cell_type": "markdown",
   "metadata": {},
   "source": [
    "Now, based on the above analysis we can conclude that our classification model accuracy is excellent. Our model is doing a very good job in terms of predicting the class labels.\n",
    "\n",
    "But, it does not give the underlying distribution of values. Also, it does not tell anything about the type of errors our classifer is making.\n",
    "\n",
    "We have another tool called Confusion matrix that comes to our rescue."
   ]
  },
  {
   "cell_type": "markdown",
   "metadata": {},
   "source": [
    "We have another tool called Confusion matrix that comes to our rescue."
   ]
  },
  {
   "cell_type": "markdown",
   "metadata": {},
   "source": [
    "Confusion matrix"
   ]
  },
  {
   "cell_type": "code",
   "execution_count": 76,
   "metadata": {
    "execution": {
     "iopub.execute_input": "2022-08-28T17:31:58.477762Z",
     "iopub.status.busy": "2022-08-28T17:31:58.476872Z",
     "iopub.status.idle": "2022-08-28T17:31:58.487604Z",
     "shell.execute_reply": "2022-08-28T17:31:58.486463Z",
     "shell.execute_reply.started": "2022-08-28T17:31:58.477697Z"
    }
   },
   "outputs": [],
   "source": [
    "cm = confusion_matrix(y_test, y_pred_en)\n",
    "\n",
    "print('Confusion matrix\\n\\n', cm)"
   ]
  },
  {
   "cell_type": "markdown",
   "metadata": {},
   "source": [
    "Classification Report"
   ]
  },
  {
   "cell_type": "code",
   "execution_count": 77,
   "metadata": {
    "execution": {
     "iopub.execute_input": "2022-08-28T17:31:58.490052Z",
     "iopub.status.busy": "2022-08-28T17:31:58.489366Z",
     "iopub.status.idle": "2022-08-28T17:31:58.504688Z",
     "shell.execute_reply": "2022-08-28T17:31:58.503734Z",
     "shell.execute_reply.started": "2022-08-28T17:31:58.490003Z"
    }
   },
   "outputs": [],
   "source": [
    "print(classification_report(y_test, y_pred_en))"
   ]
  },
  {
   "cell_type": "markdown",
   "metadata": {},
   "source": [
    "Random Forest"
   ]
  },
  {
   "cell_type": "code",
   "execution_count": 78,
   "metadata": {
    "execution": {
     "iopub.execute_input": "2022-08-28T17:31:58.509519Z",
     "iopub.status.busy": "2022-08-28T17:31:58.508184Z",
     "iopub.status.idle": "2022-08-28T17:31:58.966245Z",
     "shell.execute_reply": "2022-08-28T17:31:58.965094Z",
     "shell.execute_reply.started": "2022-08-28T17:31:58.509463Z"
    }
   },
   "outputs": [],
   "source": [
    "rdF=RandomForestClassifier(n_estimators=250, max_depth=50,random_state=45)\n",
    "rdF.fit(X_train,y_train)\n",
    "pred=rdF.predict(X_test)\n",
    "cm=confusion_matrix(y_test, pred)\n",
    "\n",
    "accuracy = accuracy_score(y_test,pred)\n",
    "print(\"Random Forest Classifier\")\n",
    "print(\"Accuracy Score: \"+ str(accuracy))\n",
    "print(classification_report(y_test,pred, labels=None))\n",
    "print(\"cohen kappa score: \", cohen_kappa_score(y_test, pred))\n",
    "print(\"\")\n",
    "print('Confusion matrix\\n\\n',cm)"
   ]
  },
  {
   "cell_type": "markdown",
   "metadata": {},
   "source": [
    "1.\tWe tried Naive Bayes which resulted in accuracy score of 1.0\n",
    "2.\tThen we tried K-neighbout which resulted in accuracy score as follows,\n",
    "    *     kneighbors:  3 Accuracy: 1.0\n",
    "    *     kneighbors:  6 Accuracy: 0.9125\n",
    "    *     kneighbors:  9 Accuracy: 0.9125\n",
    "    *     kneighbors: 12 Accuracy: 0.9\n",
    "3.\tSo we have built a Decision-Tree Classifier model for Android Malware Detection. We built two models, one with criterion gini index and another one with criterion entropy. These models yields a very good performance as indicated by the model accuracy in both the cases to be 1.0000\n",
    "4.\tIn the model with criterion gini index, the training-set accuracy score and the test-set accuracy to be 1.0000. These two values are same. So, there is no sign of overfitting.\n",
    "5.\tSimilarly, in the model with criterion entropy, the training-set accuracy score and the test-set accuracy to be 1.0000. These two values are same. So, there is no sign of overfitting.\n",
    "6.\tThen we tried Random forest classifier which resulted in accuracy score of  1.0 and cohen kappa score of 1.0\n",
    "7.\tThe confusion matrix and classification report yields excellent model performance."
   ]
  }
 ],
 "metadata": {
  "kernelspec": {
   "display_name": "Python 3 (ipykernel)",
   "language": "python",
   "name": "python3"
  },
  "language_info": {
   "codemirror_mode": {
    "name": "ipython",
    "version": 3
   },
   "file_extension": ".py",
   "mimetype": "text/x-python",
   "name": "python",
   "nbconvert_exporter": "python",
   "pygments_lexer": "ipython3",
   "version": "3.9.7"
  }
 },
 "nbformat": 4,
 "nbformat_minor": 4
}
